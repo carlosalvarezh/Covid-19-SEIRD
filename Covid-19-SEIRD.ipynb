{
 "cells": [
  {
   "cell_type": "markdown",
   "metadata": {},
   "source": [
    "# Modelo matemático y computacional para predecir el comportamiento de la Covid-19"
   ]
  },
  {
   "cell_type": "markdown",
   "metadata": {
    "slideshow": {
     "slide_type": "slide"
    }
   },
   "source": [
    "***Elaborado por:*** ***Carlos Alberto Álvarez Henao, I.C. DS.C*** ([carlosalvarezh@gmail.com](mailto:carlosalvarezh@gmail.com))\n",
    "\n",
    "Abril 25, 2020 - Medellín, Colombia\n",
    "\n",
    "***Nota:*** basado principalmente en los artículos publicados en:\n",
    "\n",
    "- [Social Distancing to Slow the Coronavirus -  Modeling the flattening of the COVID-19 peaks](https://towardsdatascience.com/social-distancing-to-slow-the-coronavirus-768292f04296 \"Towardsdatascience\"): By Christian Hubbs, in Towardsdatascience.com, Mar 12, 2020\n",
    "\n",
    "\n",
    "- [Why outbreaks like coronavirus spread exponentially, and how to “flatten the curve”](https://www.washingtonpost.com/graphics/2020/world/corona-simulator/): By Harry Stevens, in The Washington Post, Mar 14, 2020\n",
    "\n",
    "\n",
    "- [Prevendo o crescimento de casos de COVID-19 (coronavírus) no Brasil com análise de dados, gráficos e equações! — Partes 1 e 2](https://medium.com/@caiquecoelho/prevendo-o-crescimento-de-casos-de-covid-19-coronavirus-no-brasil-com-an%C3%A1lise-de-dados-gr%C3%A1ficos-33ee525b62f8): By Caíque Coelho, in Towardsdatascience.com. Mar 19\n",
    "\n",
    "Y tres artículos realizados por [Henri Froese](https://towardsdatascience.com/@hf2000510), en [Towardsdatascience.com](https://towardsdatascience.com/)\n",
    "\n",
    "- [Infectious Disease Modelling: Understanding the models that are used to model Coronavirus](https://towardsdatascience.com/infectious-disease-modelling-part-i-understanding-sir-28d60e29fdfc): By Henri Froese, in Towardsdatascience.com, Apr 06,2020\n",
    "\n",
    "\n",
    "- [Infectious Disease Modelling: Beyond the Basic SIR Model](https://towardsdatascience.com/infectious-disease-modelling-part-i-understanding-sir-28d60e29fdfc): By Henri Froese, in Towardsdatascience.com, Apr 11,2020 \n",
    "\n",
    "\n",
    "- [Infectious Disease Modelling: Fit Your Model to Coronavirus Data](https://towardsdatascience.com/infectious-disease-modelling-fit-your-model-to-coronavirus-data-2568e672dbc7): By Henri Froese, in Towardsdatascience.com, Apr 22,2020\n",
    "\n",
    "y muchas otras lecturas realizadas a lo largo de su elaboración, que sin merecerlo, se me fueron pasando para sus respectivos créditos. Disculpas a todos ellos ahora \"anónimos\"."
   ]
  },
  {
   "cell_type": "markdown",
   "metadata": {
    "heading_collapsed": true
   },
   "source": [
    "# Distanciamiento social como estrategia para ralentizar la propagación"
   ]
  },
  {
   "cell_type": "markdown",
   "metadata": {
    "heading_collapsed": true,
    "hidden": true
   },
   "source": [
    "## Contextualización"
   ]
  },
  {
   "cell_type": "markdown",
   "metadata": {
    "hidden": true,
    "slideshow": {
     "slide_type": "subslide"
    }
   },
   "source": [
    "Como es de ámplio conocimiento de todos hoy en día, la Covid-19 ha crecido rápidamente en todo el mundo. La gran mayoría de paises han tomado medidas drásticas frente a la movilidad de sus ciudadanos. Estas medidas se toman con la intención de retrasar la propagación (no detenerla) de la enfermedad. Este tipo de estrategia se denomina *Distanciamiento Social*.\n",
    "\n",
    "La idea detrás de esta política de salud pública es reducir el contacto *persona-a-persona* para que sea menos probable la propagación de la enfermedad y la capacidad de los sistemas de salud local no se saturen, ayudando a garantizar la adecuada atención a la población enferma y disminyendo la cantidad de decesos. Los efectos de una política en este sentido se pueden observar en la siguiente gráfica.\n",
    "\n",
    "![Aplanar la curva](https://miro.medium.com/max/700/1*pVVK99mWB21izaNiDVlgOg.gif)"
   ]
  },
  {
   "cell_type": "markdown",
   "metadata": {
    "heading_collapsed": true,
    "hidden": true
   },
   "source": [
    "## Distanciamiento social - Definición"
   ]
  },
  {
   "cell_type": "markdown",
   "metadata": {
    "hidden": true,
    "slideshow": {
     "slide_type": "slide"
    }
   },
   "source": [
    "“Conjunto de medidas no farmacéuticas de control de infecciones, con el objetivo de detener o desacelerar la propagación de una enfermedad contagiosa.”\n",
    "\n",
    "<p float=\"center\">\n",
    "  <img src=https://upload.wikimedia.org/wikipedia/commons/6/66/Social_distancing_queueing_for_the_supermarket_J._Sainsbury%27s_north_London_Coronavirus_Covid_19_pandemic_-_30_March_2020.jpg width=\"250\" />\n",
    "</p>\n",
    "\n",
    "<p float=\"center\">\n",
    "  <img src=https://upload.wikimedia.org/wikipedia/commons/f/fd/03.05_%E7%B8%BD%E7%B5%B1%E6%8E%A5%E8%A6%8B%E7%BE%8E%E5%9C%8B%E5%9C%A8%E8%87%BA%E5%8D%94%E6%9C%83%28AIT%29%E4%B8%BB%E5%B8%AD%E8%8E%AB%E5%81%A5.jpg width=\"150\" />\n",
    "</p>\n",
    "\n",
    "<p float=\"left\">\n",
    "  <img src=https://github.com/carlosalvarezh/Covid-19-SEIRD/blob/master/DistSocial03.png?raw=true width=\"500\" /> \n",
    "</p>"
   ]
  },
  {
   "cell_type": "markdown",
   "metadata": {
    "hidden": true,
    "slideshow": {
     "slide_type": "slide"
    }
   },
   "source": [
    "***Levítico, 13:46:*** \n",
    "\n",
    "***“Todo el tiempo que la llaga estuviere en él, será inmundo; estará impuro, y habitará solo; fuera del campamento será su morada.”***\n",
    "\n",
    "Se han establecido colonias de leprosos y lazaretos como medios para impedir la transmisión de la lepra y otras enfermedades infecciosas.\n",
    "\n",
    "***Lazareto - Ancona, Italia, 1700's***\n",
    "\n",
    "<p float=\"center\">\n",
    "  <img src=https://upload.wikimedia.org/wikipedia/commons/6/6d/Mole2.JPG width=\"250\" />\n",
    "</p>\n",
    "\n",
    "***Agua de Dios, Colombia, 1870's***\n",
    "<p float=\"center\">\n",
    "  <img src=https://upload.wikimedia.org/wikipedia/commons/thumb/3/39/Colombia_-_Cundinamarca_-_Agua_de_Dios.svg/800px-Colombia_-_Cundinamarca_-_Agua_de_Dios.svg.png width=\"250\" />\n",
    "</p>"
   ]
  },
  {
   "cell_type": "markdown",
   "metadata": {
    "heading_collapsed": true
   },
   "source": [
    "# Modelos matemáticos"
   ]
  },
  {
   "cell_type": "markdown",
   "metadata": {
    "hidden": true
   },
   "source": [
    "***“Essentially, all models are wrong, but some are useful”*** — George Box, British mathematician\n",
    "\n",
    "Los modelos matemáticos son aproximaciones, bien sustentadas y justificadas de la realidad, y en este contexto intentan brindar elementos a la toma de decisiones de políticas públicas para intentan aplanar la curva de propagación de la enfermedad."
   ]
  },
  {
   "cell_type": "markdown",
   "metadata": {
    "heading_collapsed": true,
    "hidden": true
   },
   "source": [
    "## Simulación física de dispersión de gotículas"
   ]
  },
  {
   "cell_type": "markdown",
   "metadata": {
    "hidden": true
   },
   "source": [
    "Veamos primer una serie de simulaciones computacionales de la dispersión de partículas producto de la tos humana empleando técnicas de la [CFD](https://en.wikipedia.org/wiki/Computational_fluid_dynamics \"CFD\") (Dinámica de Fluidos Computaconal) y empleando un software comercial"
   ]
  },
  {
   "cell_type": "code",
   "execution_count": 30,
   "metadata": {
    "hidden": true,
    "scrolled": true
   },
   "outputs": [
    {
     "data": {
      "text/html": [
       "\n",
       "        <iframe\n",
       "            width=\"980\"\n",
       "            height=\"500\"\n",
       "            src=\"https://www.ansys.com/about-ansys/covid-19-simulation-insights\"\n",
       "            frameborder=\"0\"\n",
       "            allowfullscreen\n",
       "        ></iframe>\n",
       "        "
      ],
      "text/plain": [
       "<IPython.lib.display.IFrame at 0x1cb3bf86ba8>"
      ]
     },
     "execution_count": 30,
     "metadata": {},
     "output_type": "execute_result"
    }
   ],
   "source": [
    "from IPython.display import IFrame\n",
    "\n",
    "URL = 'https://www.ansys.com/about-ansys/covid-19-simulation-insights'\n",
    "IFrame(src = URL, width = 980, height = 500)"
   ]
  },
  {
   "cell_type": "markdown",
   "metadata": {
    "heading_collapsed": true,
    "hidden": true
   },
   "source": [
    "## Propagación del contagio por contacto"
   ]
  },
  {
   "cell_type": "markdown",
   "metadata": {
    "hidden": true
   },
   "source": [
    "Recientemente el Washington post publicó un artículo muy didadctico explicando como podria presentar el contagio en una población bajo diferentes escenarios. Vale la pena ver."
   ]
  },
  {
   "cell_type": "code",
   "execution_count": 35,
   "metadata": {
    "hidden": true,
    "scrolled": false
   },
   "outputs": [
    {
     "data": {
      "text/html": [
       "\n",
       "        <iframe\n",
       "            width=\"980\"\n",
       "            height=\"500\"\n",
       "            src=\"https://www.washingtonpost.com/graphics/2020/world/corona-simulator-spanish/\"\n",
       "            frameborder=\"0\"\n",
       "            allowfullscreen\n",
       "        ></iframe>\n",
       "        "
      ],
      "text/plain": [
       "<IPython.lib.display.IFrame at 0x1cb3cc477f0>"
      ]
     },
     "execution_count": 35,
     "metadata": {},
     "output_type": "execute_result"
    }
   ],
   "source": [
    "URL = 'https://www.washingtonpost.com/graphics/2020/world/corona-simulator-spanish/'\n",
    "IFrame(src = URL, width = 980, height = 500)"
   ]
  },
  {
   "cell_type": "markdown",
   "metadata": {
    "hidden": true
   },
   "source": [
    "Información fiable, de calidad, y en abundante cantidad es el \"santo grial\" de la Ciencia de Datos. Por esto, es necesario contar con el conocimiento de los lugares a donde se debe buscar y recolectar."
   ]
  },
  {
   "cell_type": "markdown",
   "metadata": {
    "heading_collapsed": true,
    "hidden": true
   },
   "source": [
    "## Modelos matemáticos de propagación"
   ]
  },
  {
   "cell_type": "markdown",
   "metadata": {
    "hidden": true
   },
   "source": [
    "En las siguientes secciones se abordará el modelo *S.I.R.* y sus variaciones teniendo en consideración diferentes parámetos de análisis."
   ]
  },
  {
   "cell_type": "markdown",
   "metadata": {
    "heading_collapsed": true
   },
   "source": [
    "# S.I.R."
   ]
  },
  {
   "cell_type": "markdown",
   "metadata": {
    "hidden": true
   },
   "source": [
    "una estrategia empleada para modelar enfermedades contagiosas, que pueden propagarse entre los miembros de una población, es el modelo comportamental. Este tipo de modelo separa una población en diferentes comportamientos. La idea es obtener informacion acerca de qué tan rápido sucede dicha propagación, qué proporción de la población se infecta, qué proporción moriría, etc. Diferentes comportamientos se pueden indicar como (modelo básico):\n",
    "\n",
    "- **S**usceptible (aún puede estar infectado, \"sano\")\n",
    "\n",
    "\n",
    "- **I**nfectado\n",
    "\n",
    "\n",
    "- **R**ecuperado (ha sido infectado y no puede volver a infectarse)\n",
    "\n",
    "Para definir las variables involucradas en este simple modelo veamos el siguiente ejemplo."
   ]
  },
  {
   "cell_type": "markdown",
   "metadata": {
    "heading_collapsed": true,
    "hidden": true
   },
   "source": [
    "## Ejemplo"
   ]
  },
  {
   "cell_type": "markdown",
   "metadata": {
    "hidden": true
   },
   "source": [
    "Supóngase que se tiene una población de $1000$ habitantes ($N=1000$) y se sabe que $400$ de ellas se han infectado en un tiempo, $t$, de $7$ días después del brote de la epidemia. Lo anterior se puede denotar como $S(7)=400$. En esta nueva enfermedad, la probabilidad de que una persona infectada infecte a una persona sana es del $20\\%$, y supongamos que el número promedio de personas con las que una persona está en contacto por día es de $5$. Entonces, por día, un individuo infectado se encuentra con $5$ personas resultando infectadas el $20\\%$ de ellas, es decir, la persona enferma infectará a $1$ persona por día. Se denota a esto con el parámetro $\\beta$, que es la cantidad esperada de personas que una persona infectada infecta por día.\n",
    "\n",
    "Sea $D$ la cantidad de días que una persona infectada tiene y puede transmitir la enfermedad, este dato es extremadamente importante. Si $D = 7$, una persona infectada camina durante siete días propagando la enfermedad e infecta a $1$ persona por día ($\\beta = 1$). Entonces, esperamos que una persona infectada infecte a $7$ personas más. Este es el número de reproducción básico, $R_0$, que representa el número total de personas que infecta una persona infectada, es decir, $R_0=\\beta \\times D$.\n",
    "\n",
    "Si se piensa en $D$ como el número de días que una persona infectada tiene la enfermedad, entonces se puede pensar en otro parámetro $\\gamma$, como la tasa de recuperación, o la proporción de infectados que se recuperan por día. Por ejemplo, si se tienen actualmente $30$ personas infectadas y $D=3$ (por lo que están infectadas durante tres días), entonces, por día $1/3$ de ellas se recuperarán ($10$ personas), es decir, $\\gamma=1/3$. Siendo $\\gamma=1/D$, entonces $D=1/\\gamma$ y $R_0=\\beta \\times D$, se deduce que $R_0=\\beta / \\gamma$."
   ]
  },
  {
   "cell_type": "markdown",
   "metadata": {
    "hidden": true
   },
   "source": [
    "Resumiendo, las variables involucradas en el ejemplo anterior son:\n",
    "\n",
    "- $N$: Total de la población\n",
    "\n",
    "\n",
    "- $S(t)$: Número de personas susceptibles de ser infectadas en un día $t$\n",
    "\n",
    "\n",
    "- $I(t)$: Número de personas infectadas en un día $t$\n",
    "\n",
    "\n",
    "- $R(t)$: Número de personas recuperadas en un día $t$\n",
    "\n",
    "\n",
    "\n",
    "- $\\beta$: Cantidad esperada de personas que una persona infectada infecta por día\n",
    "\n",
    "\n",
    "- $D$: Número de días que una persona infectada tiene y puede transmitir la enfermedad\n",
    "\n",
    "\n",
    "- $\\gamma$: Proporción de infectados recuperados por día ($\\gamma = 1/D$)\n",
    "\n",
    "\n",
    "\n",
    "- $R_0$: Número total de personas infectadas por una persona infectada ($R_0=\\beta / \\gamma$)\n",
    "\n",
    "\n"
   ]
  },
  {
   "cell_type": "markdown",
   "metadata": {
    "heading_collapsed": true,
    "hidden": true
   },
   "source": [
    "## Derivación de las ecuaciones"
   ]
  },
  {
   "cell_type": "markdown",
   "metadata": {
    "hidden": true
   },
   "source": [
    "Deseamos determinar el número de *infectados*, *susceptibles* y *recuperados* para todos los días, dados únicamente los parámetros $\\gamma$, $\\beta$ y $N$. Es difícil obtener una fórmula directa para $S(t)$, $I(t)$ y $R(t)$, sin embargo, es muy simple describir el cambio por día de $S$, $I$ y $R$, es decir, como cambia el número de *susceptibles* / *infectados* / *recuperados* dependiendo de los actuales valores.\n",
    "\n",
    "Ahora estamos en el día $t$ después del brote de la enfermedad. Aún así, la cantidad esperada de personas que una persona infectada infecta por día es $1$ ($\\beta = 1$) y el número de días que una persona infectada tiene y puede transmitir la enfermedad es $7$ ($\\gamma =1/7$ y $D=7$).\n",
    "\n",
    "Digamos que en el día $t$, $60$ personas están infectadas, $I (t) = 60$, la población total es $100$, $N = 100$, y $30$ personas aún son susceptibles, $S(t) = 30$ y $R( t) = 100–60–30 = 10$. Ahora, ¿cómo cambian $S(t)$, $I(t)$ y $R(t)$ al día siguiente?\n",
    "\n",
    "Se tienen $60$ personas infectadas. Cada uno de ellos infecta a $\\beta = 1$ persona por día. Sin embargo, solo $30/100 = 30\\%$ de las personas conocidas todavía son susceptibles y pueden infectarse (eso es $S(t) / N$). Entonces, infectan a $60 \\times 1 \\times 30/100 = 18$ personas (de nuevo, piensen en ello hasta que tenga sentido: $60$ infectados que infectan en promedio $1$ persona por día, pero solo $30$ de $100$ personas aún pueden estar infectadas, por lo que no infecte a $60 \\times 1$ personas, sino que solo a $60 \\times 1 \\times 30 / 100 = 18$ personas). Entonces, $18$ personas de los susceptibles se infectan, por lo que $S(t)$ cambia en menos $18$. Al conectar las variables, acabamos de derivar la primera fórmula:\n",
    "\n",
    "$$\\text{cambio de } S(t) \\text{ al día siguiente } = -\\beta \\cdot I(t) \\cdot S(t) / N$$\n",
    "\n",
    "Lo anterior es la expresión de la deriva, $S'(t) = dS/dt$, y reescribiendo\n",
    "\n",
    "$$S'(t) = dS(t)/dt = -\\beta \\cdot I(t) \\cdot S(t) / N$$"
   ]
  },
  {
   "cell_type": "markdown",
   "metadata": {
    "hidden": true
   },
   "source": [
    "Ahora, ¿cómo cambia la cantidad de infectados? hay algunas personas nuevas infectadas. Exactamente la cantidad de personas que \"*salen*\" de $S(t)$ \"*llegan*\" a $I(t)$. Entonces, tenemos $18$ nuevos infectados y ya sabemos que la fórmula será similar a esta: $I'(t)= + β \\times I(t) \\times S(t)/N$ (se gana la cantidad exacta que $S(t)$ pierde, por lo que simplementese cambia el signo). Solo falta una cosa: algunas personas se recuperan. Recuerde, tenemos $\\gamma$ para eso, es la proporción de infectados que se recuperan por día, ¡eso es justo lo que necesitamos!\n",
    "\n",
    "Tenemos $60$ infectados y $\\gamma = 1/3$, por lo que un tercio de los $60$ se recupera. Eso es $1/3 \\times 60 = 20$. Finalmente, obtenemos la fórmula:\n",
    "\n",
    "$$I'(t) = dI(t)/dt = \\beta \\cdot I(t) \\cdot S(t) / N - \\gamma \\cdot I(t)$$\n",
    "\n",
    "El primer término del lado derecho de la ecuación es el recién infectado de los susceptibles. La segunda parte son las recuperaciones.\n",
    "\n",
    "Finalmente, llegamos a la última fórmula, el cambio en las recuperaciones. Los recién recuperados son exactamente los $20$ que acabamos de calcular; no hay personas saliendo del compartimento \"*recuperado*\". Se asume que una vez recuperados, permanecen inmunes:\n",
    "\n",
    "$$R'(t) = dR(t)/dt = \\gamma \\cdot I(t)$$"
   ]
  },
  {
   "cell_type": "markdown",
   "metadata": {
    "hidden": true
   },
   "source": [
    "Ya contamos con las fórmulas que se buscaban:\n",
    "\n",
    "$$\n",
    "\\begin{align}\n",
    "\\frac{dS}{dt} & = -\\beta \\cdot I \\cdot \\frac{S}{N} \\\\\n",
    "\\frac{dI}{dt} & = \\beta \\cdot I \\cdot \\frac{S}{N} - \\gamma \\cdot I \\\\\n",
    "\\frac{dR}{dt} & = \\gamma \\cdot I\n",
    "\\end{align}\n",
    "$$\n",
    "\n",
    "Este es un conjunto de Ecuaciones Diferenciales Ordinarias (ODEs).\n",
    "\n",
    "Ahora podemos describir el cambio en el número de personas *susceptibles*, *infectadas* y *recuperadas*. A partir de estas fórmulas, afortunadamente, podemos calcular los números que realmente nos interesan: $S(t)$, $I(t)$ y $R(t)$, el número de personas *susceptibles*, *infectadas* y *recuperadas* por cada día $t$."
   ]
  },
  {
   "cell_type": "markdown",
   "metadata": {
    "heading_collapsed": true,
    "hidden": true
   },
   "source": [
    "## Codificando el modelo"
   ]
  },
  {
   "cell_type": "markdown",
   "metadata": {
    "hidden": true
   },
   "source": [
    "Ahora vamos a codificar las ecuaciones. Se emplearán los códigos implementados en [Infectious Disease Modelling: Understanding the models that are used to model Coronavirus](https://towardsdatascience.com/infectious-disease-modelling-part-i-understanding-sir-28d60e29fdfc): By Henri Froese, in Towardsdatascience.com, Apr 06, 2020. El código completo lo pueden descargar de [su sitio en GitHub](https://github.com/hf2000510/infectious_disease_modelling)."
   ]
  },
  {
   "cell_type": "markdown",
   "metadata": {
    "hidden": true
   },
   "source": [
    "Inicialmente se definiran los parámetros $N$, $\\beta$, $D$, $\\gamma$, y las condiciones iniciales, en $t=0$, para $S(t)$, $I(t)$ y  $R_0(t)$. "
   ]
  },
  {
   "cell_type": "code",
   "execution_count": 3,
   "metadata": {
    "hidden": true
   },
   "outputs": [],
   "source": [
    "import numpy as np\n",
    "from scipy.integrate import odeint\n",
    "import matplotlib.pyplot as plt"
   ]
  },
  {
   "cell_type": "code",
   "execution_count": 4,
   "metadata": {
    "hidden": true
   },
   "outputs": [],
   "source": [
    "N = 1000\n",
    "beta = 1.0  # infected person infects 1 other person per day\n",
    "D = 4.0 # infections lasts four days\n",
    "gamma = 1.0 / D\n",
    "\n",
    "S0, I0, R0 = 999, 1, 0  # initial conditions: one infected, rest susceptible"
   ]
  },
  {
   "cell_type": "markdown",
   "metadata": {
    "hidden": true
   },
   "source": [
    "Ahora se implementarán las fórmulas determinadas"
   ]
  },
  {
   "cell_type": "code",
   "execution_count": 5,
   "metadata": {
    "hidden": true
   },
   "outputs": [],
   "source": [
    "def deriv(y, t, N, beta, gamma):\n",
    "    S, I, R = y\n",
    "    dSdt = -beta * S * I / N\n",
    "    dIdt = beta * S * I / N - gamma * I\n",
    "    dRdt = gamma * I\n",
    "    return dSdt, dIdt, dRdt"
   ]
  },
  {
   "cell_type": "markdown",
   "metadata": {
    "hidden": true
   },
   "source": [
    "Ahora aquí es donde ocurre la magia: obtenemos nuestros valores $S(t)$, $I(t)$ y $R(t)$ de la función `odeint` de `Python` que toma las fórmulas que definimos anteriormente, las condiciones iniciales y nuestras variables $N$, $\\beta$ y $\\gamma$, y calcula $S$, $I$ y $R$ para cada uno de los siguientes $50$ días."
   ]
  },
  {
   "cell_type": "code",
   "execution_count": 6,
   "metadata": {
    "hidden": true
   },
   "outputs": [],
   "source": [
    "t = np.linspace(0, 50, 50) # Grid of time points (in days)\n",
    "y0 = S0, I0, R0 # Initial conditions vector\n",
    "\n",
    "# Integrate the SIR equations over the time grid, t.\n",
    "ret = odeint(deriv, y0, t, args=(N, beta, gamma))\n",
    "S, I, R = ret.T"
   ]
  },
  {
   "cell_type": "code",
   "execution_count": 7,
   "metadata": {
    "hidden": true
   },
   "outputs": [],
   "source": [
    "def plotsir(t, S, I, R):\n",
    "    f, ax = plt.subplots(1,1,figsize=(10,4))\n",
    "    ax.plot(t, S, 'b', alpha=0.7, linewidth=2, label='Susceptible')\n",
    "    ax.plot(t, I, 'y', alpha=0.7, linewidth=2, label='Infected')\n",
    "    ax.plot(t, R, 'g', alpha=0.7, linewidth=2, label='Recovered')\n",
    "    \n",
    "    ax.set_xlabel('Time (days)')\n",
    "    \n",
    "    ax.yaxis.set_tick_params(length=0)\n",
    "    ax.xaxis.set_tick_params(length=0)\n",
    "    ax.grid(b=True, which='major', c='w', lw=2, ls='-')\n",
    "    legend = ax.legend()\n",
    "    legend.get_frame().set_alpha(0.5)\n",
    "    for spine in ('top', 'right', 'bottom', 'left'):\n",
    "        ax.spines[spine].set_visible(False)\n",
    "    plt.show();\n",
    "    "
   ]
  },
  {
   "cell_type": "code",
   "execution_count": 8,
   "metadata": {
    "hidden": true
   },
   "outputs": [
    {
     "data": {
      "image/png": "[encoded data removed]",
      "text/plain": [
       "<Figure size 720x288 with 1 Axes>"
      ]
     },
     "metadata": {
      "needs_background": "light"
     },
     "output_type": "display_data"
    }
   ],
   "source": [
    "plotsir(t, S, I, R)"
   ]
  },
  {
   "cell_type": "markdown",
   "metadata": {
    "hidden": true
   },
   "source": [
    "Como puede ver, solo toma alrededor de $30$ días para que casi una población completa de $1000$ personas se infecte. Por supuesto, la enfermedad modelada aquí tiene un valor $R_0$ muy alto de $4.0$. Simplemente cambiando el número de personas que una persona infectada infecta por día $\\beta$ a $0.5$ resulta en un escenario completamente diferente:"
   ]
  },
  {
   "cell_type": "code",
   "execution_count": 9,
   "metadata": {
    "hidden": true
   },
   "outputs": [],
   "source": [
    "N = 1000\n",
    "beta = 0.50  # infected person infects 1 other person per day\n",
    "D = 4.0 # infections lasts four days\n",
    "gamma = 1.0 / D\n",
    "\n",
    "S0, I0, R0 = 999, 1, 0  # initial conditions: one infected, rest susceptible"
   ]
  },
  {
   "cell_type": "code",
   "execution_count": 10,
   "metadata": {
    "hidden": true
   },
   "outputs": [],
   "source": [
    "t = np.linspace(0, 50, 50) # Grid of time points (in days)\n",
    "y0 = S0, I0, R0 # Initial conditions vector\n",
    "\n",
    "# Integrate the SIR equations over the time grid, t.\n",
    "ret = odeint(deriv, y0, t, args=(N, beta, gamma))\n",
    "S, I, R = ret.T"
   ]
  },
  {
   "cell_type": "code",
   "execution_count": 11,
   "metadata": {
    "hidden": true
   },
   "outputs": [
    {
     "data": {
      "image/png": "[encoded data removed]",
      "text/plain": [
       "<Figure size 720x288 with 1 Axes>"
      ]
     },
     "metadata": {
      "needs_background": "light"
     },
     "output_type": "display_data"
    }
   ],
   "source": [
    "plotsir(t, S, I, R)"
   ]
  },
  {
   "cell_type": "markdown",
   "metadata": {
    "hidden": true
   },
   "source": [
    "Como puede ver, estos sistemas de EDO son extremadamente sensibles a los parámetros iniciales. Esa es también la razón por la cual es tan difícil modelar correctamente un brote emergente de una nueva enfermedad: simplemente no sabemos cuáles son los parámetros, e incluso los cambios leves producen resultados muy diferentes."
   ]
  },
  {
   "cell_type": "markdown",
   "metadata": {
    "heading_collapsed": true,
    "hidden": true
   },
   "source": [
    "## Conclusiones SIR"
   ]
  },
  {
   "cell_type": "markdown",
   "metadata": {
    "hidden": true
   },
   "source": [
    "El modelo S.I.R. es un modelo simple de la manera como se puede transmitir una enfermedad contagiosa en un grupo de personas, sin embargo, como todo modelo, aunque se trata de describir la realidad, son más las inquietudes que resultan que las respuestas que ofrece. Todo dependerá de los parámetros que se tienen en cuenta y la calidad de la información, datos, con que se cuente."
   ]
  },
  {
   "cell_type": "markdown",
   "metadata": {
    "heading_collapsed": true
   },
   "source": [
    "# *S.E.I.R.D.*"
   ]
  },
  {
   "cell_type": "markdown",
   "metadata": {
    "hidden": true
   },
   "source": [
    "En la literatura existen otros modelos más completos, y complejos, como el ***S.E.I.R.D.*** que es una extensión del *S.I.R.* y que considera, además de los parámetros vistos, otros como:\n",
    "\n",
    "- Un estado \"***Expuesto***\" para individuos que han contraído la enfermedad pero que aún no son infecciosos (este es conocido como el modelo ***S.E.I.R.***)\n",
    "\n",
    "\n",
    "- Un estado \"***Deceso***\" que contempla las personas que fallecen debido a la enfermedad (este es conocido como el modelo ***S.E.I.R.D.***).\n",
    "\n",
    "\n",
    "- Valores de $R_0$ dependientes del tiempo que nos permitirán modelar cuarentenas, bloqueos, ...\n",
    "\n",
    "\n",
    "- Tasas de mortalidad dependientes de los recursos y la edad que nos permitirán modelar hospitales superpoblados, poblaciones con muchos jóvenes, ...\n",
    "\n",
    "\n",
    "entre muchos otros posibles parámetros adicionales, que podrían complementar el modelo, pero lo harían mucho más complejo."
   ]
  },
  {
   "cell_type": "markdown",
   "metadata": {
    "hidden": true
   },
   "source": [
    "Al derivar las ecuaciones, ya las consideramos intuitivamente como \"*instrucciones*\" que nos dicen lo que le sucede a la población al día siguiente (por ejemplo, cuando $10$ personas están infectadas y la recuperación se produce a un ritmo de $\\gamma = 1/5$, entonces el número de individuos recuperados al día siguiente debería aumentar en $1/5 \\times 10 = 2$). Ahora solidificamos esta comprensión de las ecuaciones como \"*direcciones*\" o \"*transiciones*\" de un compartimento $S$, $I$ o $R$ a otro; esto simplificará enormemente las cosas cuando introduzcamos más compartimentos más adelante y las ecuaciones se vuelvan confusas."
   ]
  },
  {
   "cell_type": "markdown",
   "metadata": {
    "heading_collapsed": true,
    "hidden": true
   },
   "source": [
    "## Definiciones"
   ]
  },
  {
   "cell_type": "markdown",
   "metadata": {
    "hidden": true
   },
   "source": [
    "Los *compartimientos* son cajas, que denotan \"*estados*\", como este:\n",
    "\n",
    "<p float=\"center\">\n",
    "  <img src=https://miro.medium.com/max/275/1*hJPP0FLd-92bV16JPU0_-g.png width=\"250\" />\n",
    "</p>\n",
    "\n",
    "Las *transiciones* de un compartimento a otro se representan mediante flechas, con el siguiente etiquetado:\n",
    "\n",
    "<p float=\"center\">\n",
    "  <img src=https://miro.medium.com/max/920/1*5caEXgP-6ZG7HkrPECKAEA.png width=\"500\" />\n",
    "</p>\n",
    "\n",
    "La *tasa* describe cuánto tiempo dura la transición, la *población* es el grupo de individuos a los que se aplica esta transición, y la *probabilidad* es la probabilidad de que la transición tenga lugar para un individuo."
   ]
  },
  {
   "cell_type": "markdown",
   "metadata": {
    "hidden": true
   },
   "source": [
    "### Ejemplo\n",
    "\n",
    "Supongamos la transición de *Susceptibles* a *Infectados* en las ecuaciones $S.I.R.$, con $\\beta=2$, una población total de $100$, $10$ infectados y $90$ susceptibles. La tasa es $1$, ya que las infecciones ocurren de inmediato; la población a la que se aplica la transición es $2 \\times 10 = 20$ individuos, ya que los $10$ infectados infectan a $2$ personas; la probabilidad es del $90\\%$, ya que $90/100$ personas aún pueden estar infectadas. Corresponde a esta notación intuitiva:\n",
    "\n",
    "<p float=\"center\">\n",
    "  <img src=https://miro.medium.com/max/1222/1*We4K9njCiEMowVuran4mWA.png width=\"350\" />\n",
    "</p>\n"
   ]
  },
  {
   "cell_type": "markdown",
   "metadata": {
    "hidden": true
   },
   "source": [
    "De forma más general, para todo el modelo (para $I \\rightarrow R$, la *tasa* es $\\gamma$ y la probabilidad es $1$ a medida que todos se recuperarán)\n",
    "\n",
    "<p float=\"center\">\n",
    "  <img src=https://miro.medium.com/max/1400/1*NNO-CdlCZORoPYtllW343A.png width=\"750\" />\n",
    "</p>\n",
    "\n",
    "Como puede verse, las flechas que apuntan hacia un compartimento se agregan en la ecuación; las flechas que apuntan lejos de un compartimento se restan. Es una forma gráfica de presentar las ecuaciones determinadas arriba.\n",
    "\n",
    "$$\n",
    "\\begin{align}\n",
    "\\frac{dS}{dt} & = -\\beta \\cdot I \\cdot \\frac{S}{N} \\\\\n",
    "\\frac{dI}{dt} & = \\beta \\cdot I \\cdot \\frac{S}{N} - \\gamma \\cdot I \\\\\n",
    "\\frac{dR}{dt} & = \\gamma \\cdot I\n",
    "\\end{align}\n",
    "$$"
   ]
  },
  {
   "cell_type": "markdown",
   "metadata": {
    "hidden": true
   },
   "source": [
    "Aunque ya tengamos un mejor entendimiento del modelo $S.I.R.$, e incluso se haya codificado en un lenguaje de programación como `python`, los resultados obtenidos no representan muy bien la realidad, y por ahora no deja de ser un simple \"juguete\" interesante. \n",
    "\n",
    "Vamos a tratar de \"mejorar\" este modelo básico incluyendo otros \"compartimientos\""
   ]
  },
  {
   "cell_type": "markdown",
   "metadata": {
    "heading_collapsed": true,
    "hidden": true
   },
   "source": [
    "## Introduciendo nuevos Compartimientos - *Expuestos* (*S.E.I.R.*)"
   ]
  },
  {
   "cell_type": "markdown",
   "metadata": {
    "hidden": true
   },
   "source": [
    "Muchas enfermedades infecciosas tienen un período de incubación antes de ser infecciosas durante el cual el huésped aún no puede transmitir la enfermedad. Llamaremos a tales individuos, y a todo el compartimento, *expuestos*.\n",
    "\n",
    "Intuitivamente, tendremos transiciones de la forma $S \\rightarrow E \\rightarrow I \\rightarrow R$: las personas susceptibles pueden contraer el virus y así quedar expuestos, luego infectados y luego recuperados. La nueva transición $S \\rightarrow E$ tendrá la misma flecha que la transición $S \\rightarrow I$ actual, ya que la probabilidad es la misma (todos los *susceptibles* pueden estar *expuestos*), la tasa es la misma (\"*exposición*\" ocurre inmediatamente) y la población es igual (los individuos infecciosos pueden propagar la enfermedad y cada uno expone a $\\beta$ nuevos individuos por día). Tampoco hay razón para que la transición de $I$ a $R$ cambie. La única nueva transición es la de $E$ a $I$: la probabilidad es $1$ (todos los que están expuestos se infectan), la población es $E$ (todos los expuestos se infectarán) y la tasa obtiene una nueva variable, $\\delta$(delta). Llegamos a estas transiciones:\n",
    "\n",
    "<p float=\"left\">\n",
    "  <img src=https://miro.medium.com/max/1400/1*B-HZLpVWEgAZ3iloHBJjCA.png width=\"750\" />\n",
    "</p>\n",
    "\n"
   ]
  },
  {
   "cell_type": "markdown",
   "metadata": {
    "hidden": true
   },
   "source": [
    "De estas transiciones, podemos derivar inmediatamente las nuevas ecuaciones:\n",
    "\n",
    "$$\n",
    "\\begin{align}\n",
    "\\frac{dS}{dt} & = -\\beta \\cdot I \\cdot \\frac{S}{N} \\\\\n",
    "\\frac{dE}{dt} & = \\beta \\cdot I \\cdot \\frac{S}{N} - \\delta \\cdot E\\\\\n",
    "\\frac{dI}{dt} & = \\delta \\cdot E - \\gamma \\cdot I \\\\\n",
    "\\frac{dR}{dt} & = \\gamma \\cdot I\n",
    "\\end{align}\n",
    "$$"
   ]
  },
  {
   "cell_type": "markdown",
   "metadata": {
    "heading_collapsed": true,
    "hidden": true
   },
   "source": [
    "## Programando el compartimiento de *Expuestos*"
   ]
  },
  {
   "cell_type": "markdown",
   "metadata": {
    "hidden": true
   },
   "source": [
    "Retomando el código realizado antes y cambiando algunas líneas para adicionarle los nuevos compartimientos. Como ejemplo se modelará una enfermedad altamente infecciosa, $R_0=5.0$ en una población de $1$ millón, con un periodo de incubación de $5$ días y una recuperación de $7$ días."
   ]
  },
  {
   "cell_type": "code",
   "execution_count": 12,
   "metadata": {
    "hidden": true
   },
   "outputs": [],
   "source": [
    "def plotsir(t, S, E, I, R):\n",
    "    f, ax = plt.subplots(1,1,figsize=(10,4))\n",
    "    ax.plot(t, S, 'b', alpha=0.7, linewidth=2, label='Susceptible')\n",
    "    ax.plot(t, E, 'y', alpha=0.7, linewidth=2, label='Expuesto')\n",
    "    ax.plot(t, I, 'r', alpha=0.7, linewidth=2, label='Infectado')\n",
    "    ax.plot(t, R, 'g', alpha=0.7, linewidth=2, label='Recuperado')\n",
    "    \n",
    "    ax.set_xlabel('Tiempo (dias)')\n",
    "    ax.set_ylabel('Población (habitantes)')\n",
    "    \n",
    "    ax.yaxis.set_tick_params(length=0)\n",
    "    ax.xaxis.set_tick_params(length=0)\n",
    "    ax.grid(b=True, which='major', c='w', lw=2, ls='-')\n",
    "    legend = ax.legend()\n",
    "    legend.get_frame().set_alpha(0.5)\n",
    "    for spine in ('top', 'right', 'bottom', 'left'):\n",
    "        ax.spines[spine].set_visible(False)\n",
    "    plt.show();"
   ]
  },
  {
   "cell_type": "markdown",
   "metadata": {
    "hidden": true
   },
   "source": [
    "Función para determinar las derivadas de las funciones"
   ]
  },
  {
   "cell_type": "code",
   "execution_count": 13,
   "metadata": {
    "hidden": true
   },
   "outputs": [],
   "source": [
    "def deriv(y, t, N, beta, gamma, delta):\n",
    "    S, E, I, R = y\n",
    "    dSdt = -beta * S * I / N\n",
    "    dEdt = beta * S * I / N - delta * E\n",
    "    dIdt = delta * E - gamma * I\n",
    "    dRdt = gamma * I\n",
    "    return dSdt, dEdt, dIdt, dRdt"
   ]
  },
  {
   "cell_type": "markdown",
   "metadata": {
    "hidden": true
   },
   "source": [
    "Determinación de los valores iniciales"
   ]
  },
  {
   "cell_type": "code",
   "execution_count": 14,
   "metadata": {
    "hidden": true
   },
   "outputs": [],
   "source": [
    "N = 1000000\n",
    "D = 4.0 # infections lasts four days\n",
    "gamma = 1.0 / D\n",
    "delta = 1.0 / 5.0  # incubation period of three days\n",
    "R_0 = 5.0\n",
    "beta = R_0 * gamma # infected person infects 1 other person per day\n",
    "\n",
    "S0, E0, I0, R0 = N-1, 1, 0, 0  # initial conditions: one exposed"
   ]
  },
  {
   "cell_type": "markdown",
   "metadata": {
    "hidden": true
   },
   "source": [
    "Cálculo de $S,E,I$ y $R$ para todo el tiempo de simulación (100 días)"
   ]
  },
  {
   "cell_type": "code",
   "execution_count": 15,
   "metadata": {
    "hidden": true
   },
   "outputs": [],
   "source": [
    "t = np.linspace(0, 100, 100) # Grid of time points (in days)\n",
    "y0 = S0, E0, I0, R0 # Initial conditions vector\n",
    "\n",
    "# Integrate the SIR equations over the time grid, t.\n",
    "ret = odeint(deriv, y0, t, args=(N, beta, gamma, delta))\n",
    "S, E, I, R = ret.T"
   ]
  },
  {
   "cell_type": "code",
   "execution_count": 16,
   "metadata": {
    "hidden": true
   },
   "outputs": [
    {
     "data": {
      "image/png": "[encoded data removed]",
      "text/plain": [
       "<Figure size 720x288 with 1 Axes>"
      ]
     },
     "metadata": {
      "needs_background": "light"
     },
     "output_type": "display_data"
    }
   ],
   "source": [
    "plotsir(t, S, E, I, R)"
   ]
  },
  {
   "cell_type": "markdown",
   "metadata": {
    "hidden": true
   },
   "source": [
    "Cada vez tiene mejor cara... pero aún falta lo más cruel de todo, representar los posibles decesos. "
   ]
  },
  {
   "cell_type": "markdown",
   "metadata": {
    "heading_collapsed": true,
    "hidden": true
   },
   "source": [
    "## Obteniendo el compartimiento de \"*Decesos*\""
   ]
  },
  {
   "cell_type": "markdown",
   "metadata": {
    "hidden": true
   },
   "source": [
    "Recordemos el modelo $S.E.I.R.$\n",
    "\n",
    "<p float=\"left\">\n",
    "  <img src=https://miro.medium.com/max/1000/1*B-HZLpVWEgAZ3iloHBJjCA.png width=\"500\" />\n",
    "</p>\n",
    "\n",
    "¿Cuándo puede morir una persona por la enfermedad? ¡Sólo mientras esté infectado!, esto significa que hay qué agregar una transición $I \\rightarrow D$. \n",
    "\n",
    "\n",
    "Por supuesto, las personas no mueren de inmediato; Definimos una nueva variable $\\rho$(rho) para la tasa a la que las personas mueren (por ejemplo, cuando tarda $6$ días en morir, $\\rho=1/6$). No hay razón para que la tasa de recuperación, $\\gamma$, cambie. Entonces, nuestro nuevo modelo se verá:\n",
    "\n",
    "<p float=\"left\">\n",
    "  <img src=https://miro.medium.com/max/1400/1*67WEZSCZ70oMs5TKKvvfJg.png width=\"500\" />\n",
    "</p>\n",
    "\n",
    "Lo único que falta son las probabilidades de pasar de infectado a recuperado y de infectado a muerto. Esa será una variable más (¡la última por ahora!), La tasa de mortalidad $\\alpha$. Por ejemplo, si $\\alpha= 5\\%$, $\\rho = 1$ y $\\gamma=1$ (por lo que las personas mueren o se recuperan en $1$ día, eso es un ejemplo más fácil) y $100$ personas están infectadas, entonces $5\\% \\times 100 = 5$ personas morirán. Eso deja $95\\% \\times 100 = 95$ personas en recuperación. En resumen, la probabilidad de $I \\rightarrow D$ es $\\alpha$ y, por lo tanto, la probabilidad de $I \\rightarrow R$ es $1-\\alpha$. Finalmente llegamos a este modelo:\n",
    "\n",
    "<p float=\"left\">\n",
    "  <img src=https://miro.medium.com/max/1400/1*TIZaRpt70TR1RFtf2dmlew.png width=\"500\" />\n",
    "</p>"
   ]
  },
  {
   "cell_type": "markdown",
   "metadata": {
    "hidden": true
   },
   "source": [
    "Adicionando esta nueva ecuación al conjunto que teníamos de antes:\n",
    "\n",
    "$$\n",
    "\\begin{align}\n",
    "\\frac{dS}{dt} & = -\\beta \\cdot I \\cdot \\frac{S}{N} \\\\\n",
    "\\frac{dE}{dt} & = \\beta \\cdot I \\cdot \\frac{S}{N} - \\delta \\cdot E\\\\\n",
    "\\frac{dI}{dt} & = \\delta \\cdot E - (1-\\alpha) \\cdot \\gamma \\cdot I - \\alpha \\cdot \\rho \\cdot I\\\\\n",
    "\\frac{dR}{dt} & = (1-\\alpha) \\cdot \\gamma \\cdot I \\\\\n",
    "\\frac{dD}{dt} & = \\alpha \\cdot \\rho \\cdot I\n",
    "\\end{align}\n",
    "$$"
   ]
  },
  {
   "cell_type": "markdown",
   "metadata": {
    "heading_collapsed": true,
    "hidden": true
   },
   "source": [
    "## Programando el compartimiento de *Decesos*"
   ]
  },
  {
   "cell_type": "markdown",
   "metadata": {
    "hidden": true
   },
   "source": [
    "Modificando el código que venimos trayendo para incluir los decesos. Solo es necesario realizar algunos cambios menores, como es incluir $\\alpha=20\\%$ y $\\rho=1/9$:"
   ]
  },
  {
   "cell_type": "code",
   "execution_count": 17,
   "metadata": {
    "hidden": true
   },
   "outputs": [],
   "source": [
    "def deriv(y, t, N, beta, gamma, delta, alpha, rho):\n",
    "    S, E, I, R, D = y\n",
    "    dSdt = -beta * S * I / N\n",
    "    dEdt = beta * S * I / N - delta * E\n",
    "    dIdt = delta * E - (1 - alpha) * gamma * I - alpha * rho * I\n",
    "    dRdt = (1 - alpha) * gamma * I\n",
    "    dDdt = alpha * rho * I\n",
    "    return dSdt, dEdt, dIdt, dRdt, dDdt"
   ]
  },
  {
   "cell_type": "code",
   "execution_count": 18,
   "metadata": {
    "hidden": true
   },
   "outputs": [],
   "source": [
    "D = 4.0 # infections lasts four days\n",
    "gamma = 1.0 / D\n",
    "delta = 1.0 / 5.0  # incubation period of five days\n",
    "R_0 = 5.0\n",
    "beta = R_0 * gamma  # R_0 = beta / gamma, so beta = R_0 * gamma\n",
    "alpha = 0.2  # 10% death rate\n",
    "rho = 1/9  # 9 days from infection until death\n",
    "S0, E0, I0, R0, D0 = N-1, 1, 0, 0, 0  # initial conditions: one exposed"
   ]
  },
  {
   "cell_type": "code",
   "execution_count": 19,
   "metadata": {
    "hidden": true
   },
   "outputs": [],
   "source": [
    "t = np.linspace(0, 100, 100) # Grid of time points (in days)\n",
    "y0 = S0, E0, I0, R0, D0 # Initial conditions vector\n",
    "\n",
    "# Integrate the SIR equations over the time grid, t.\n",
    "ret = odeint(deriv, y0, t, args=(N, beta, gamma, delta, alpha, rho))\n",
    "S, E, I, R, D = ret.T"
   ]
  },
  {
   "cell_type": "code",
   "execution_count": 20,
   "metadata": {
    "hidden": true
   },
   "outputs": [],
   "source": [
    "def plotseird(t, S, E, I, R, D):\n",
    "    f, ax = plt.subplots(1,1,figsize=(10,4))\n",
    "    ax.plot(t, S, 'b', alpha=0.7, linewidth=2, label='Susceptible')\n",
    "    ax.plot(t, E, 'y', alpha=0.7, linewidth=2, label='Exposed')\n",
    "    ax.plot(t, I, 'r', alpha=0.7, linewidth=2, label='Infected')\n",
    "    ax.plot(t, R, 'g', alpha=0.7, linewidth=2, label='Recovered')\n",
    "    ax.plot(t, D, 'k', alpha=0.7, linewidth=2, label='Dead')\n",
    "    ax.plot(t, S+E+I+R+D, 'c--', alpha=0.7, linewidth=2, label='Total')\n",
    "\n",
    "    ax.set_xlabel('Time (days)')\n",
    "\n",
    "    ax.yaxis.set_tick_params(length=0)\n",
    "    ax.xaxis.set_tick_params(length=0)\n",
    "    ax.grid(b=True, which='major', c='w', lw=2, ls='-')\n",
    "    legend = ax.legend()\n",
    "    legend.get_frame().set_alpha(0.5)\n",
    "    for spine in ('top', 'right', 'bottom', 'left'):\n",
    "        ax.spines[spine].set_visible(False)\n",
    "    plt.show();"
   ]
  },
  {
   "cell_type": "code",
   "execution_count": 21,
   "metadata": {
    "hidden": true
   },
   "outputs": [
    {
     "data": {
      "image/png": "[encoded data removed]",
      "text/plain": [
       "<Figure size 720x288 with 1 Axes>"
      ]
     },
     "metadata": {
      "needs_background": "light"
     },
     "output_type": "display_data"
    }
   ],
   "source": [
    "plotseird(t, S, E, I, R, D)"
   ]
  },
  {
   "cell_type": "markdown",
   "metadata": {
    "hidden": true
   },
   "source": [
    "Se adicionó una variable \"*total*\" que suma $S, E, I, R$ y $D$ para cada paso de tiempo como un \"*control de sanidad*\": los compartimentos siempre tienen que sumar $N$; Esto puede dar una pista sobre si las ecuaciones son correctas.\n",
    "\n",
    "Ya sabemos cómo ir agregando nuevos compartimentos al modelo: piense qué transiciones deben agregarse y cambiarse; pensar en las probabilidades, poblaciones y tasas de estas nuevas transiciones; dibuja el diagrama; y finalmente escribe las ecuaciones. ¡La codificación definitivamente no es la parte difícil para estos modelos!\n",
    "\n",
    "Por ejemplo, es posible que desee agregar un compartimento \"*UCI*\" para las personas infectadas que necesitan ir a una *UCI* (lo haremos en el próximo artículo). Piense desde qué compartimiento las personas pueden ir a la *UCI*, a dónde pueden ir después de la *UCI*, etc."
   ]
  },
  {
   "cell_type": "markdown",
   "metadata": {
    "heading_collapsed": true,
    "hidden": true
   },
   "source": [
    "## Variables dependientes del tiempo"
   ]
  },
  {
   "cell_type": "markdown",
   "metadata": {
    "hidden": true
   },
   "source": [
    "\n",
    "Resumamos el listado de las variables empleadas hasta ahora:\n",
    "\n",
    "- $N$: población total\n",
    "\n",
    "\n",
    "- $S(t)$: número de personas susceptibles en el día $t$\n",
    "\n",
    "\n",
    "- $E(t)$: número de personas expuestas el día $t$\n",
    "\n",
    "\n",
    "- $I(t)$: número de personas infectadas el día $t$\n",
    "\n",
    "\n",
    "- $R(t)$: número de personas recuperadas el día $t$\n",
    "\n",
    "\n",
    "- $D(t)$: número de personas fallecidas el día $t$\n",
    "\n",
    "\n",
    "- $\\beta$: cantidad esperada de personas que una persona infectada infecta por día\n",
    "\n",
    "\n",
    "- $D$: número de días que una persona infectada tiene y puede transmitir la enfermedad\n",
    "\n",
    "\n",
    "- $\\gamma$: la proporción de infectados que se recuperan por día ($\\gamma = 1/D$)\n",
    "\n",
    "\n",
    "- $R_0$: el número total de personas que infecta una persona infectada ($R_0= \\beta / \\gamma$)\n",
    "\n",
    "\n",
    "- $\\delta$: duración del período de incubación\n",
    "\n",
    "\n",
    "- $\\alpha$: tasa de mortalidad\n",
    "\n",
    "\n",
    "- $\\rho$: tasa a la que muere la gente (= 1 / días desde la infección hasta la muerte)"
   ]
  },
  {
   "cell_type": "markdown",
   "metadata": {
    "hidden": true
   },
   "source": [
    "Como puede ver, solo los compartimentos cambian con el tiempo (no son constantes). ¡Por supuesto, esto es muy poco realista! Como ejemplo, ¿por qué el valor $R_0$ debería ser constante? Seguramente, los bloqueos a nivel nacional reducen la cantidad de personas que infecta una persona infectada, ¡de eso se trata! Naturalmente, para acercarnos a modelar desarrollos del mundo real, tenemos que hacer que nuestras variables cambien con el tiempo."
   ]
  },
  {
   "cell_type": "markdown",
   "metadata": {
    "heading_collapsed": true,
    "hidden": true
   },
   "source": [
    "### $R_0$ dependiente del tiempo"
   ]
  },
  {
   "cell_type": "markdown",
   "metadata": {
    "hidden": true
   },
   "source": [
    "Primero, implementamos un cambio simple: en un día $L$, se aplica un estricto \"*bloqueo*\", empujando $R_0$ a $0.9$. En las ecuaciones, usamos $\\beta$ β y no $R_0$, pero sabemos que $R_0=\\beta / \\gamma$, entonces $\\beta = R_0 \\cdot \\gamma$. Eso significa que definimos una función"
   ]
  },
  {
   "cell_type": "raw",
   "metadata": {
    "hidden": true
   },
   "source": [
    "def R_0(t):\n",
    "    return 5.0 if t < L else 0.9"
   ]
  },
  {
   "cell_type": "markdown",
   "metadata": {
    "hidden": true
   },
   "source": [
    "y otra función para $\\beta$ que llama a dicha función"
   ]
  },
  {
   "cell_type": "raw",
   "metadata": {
    "hidden": true
   },
   "source": [
    "def beta(t, gamma):\n",
    "    return R_0(t) * gamma"
   ]
  },
  {
   "cell_type": "markdown",
   "metadata": {
    "hidden": true
   },
   "source": [
    "Ahora solo resta cambiar el código"
   ]
  },
  {
   "cell_type": "code",
   "execution_count": 22,
   "metadata": {
    "hidden": true
   },
   "outputs": [],
   "source": [
    "def deriv(y, t, N, beta, gamma, delta, alpha, rho):\n",
    "    S, E, I, R, D = y\n",
    "    dSdt = -beta(t) * S * I / N\n",
    "    dEdt = beta(t) * S * I / N - delta * E\n",
    "    dIdt = delta * E - (1 - alpha) * gamma * I - alpha * rho * I\n",
    "    dRdt = (1 - alpha) * gamma * I\n",
    "    dDdt = alpha * rho * I\n",
    "    return dSdt, dEdt, dIdt, dRdt, dDdt"
   ]
  },
  {
   "cell_type": "code",
   "execution_count": 23,
   "metadata": {
    "hidden": true
   },
   "outputs": [],
   "source": [
    "N = 1000000\n",
    "D = 4.0 # infections lasts four days\n",
    "gamma = 1.0 / D\n",
    "delta = 1.0 / 5.0  # incubation period of three days\n",
    "L = 100\n",
    "\n",
    "#R_0 = 5.0\n",
    "def R_0(t):\n",
    "    return 5.0 if t < L else 0.9\n",
    "\n",
    "#beta = R_0 * gamma # infected person infects 1 other person per day\n",
    "def beta(t):\n",
    "    return R_0(t) * gamma\n",
    "\n",
    "alpha = 0.2 #20% death rate\n",
    "rho = 1/9 # 9 days from infection until death\n",
    "\n",
    "S0, E0, I0, R0, D0 = N-1, 1, 0, 0, 0  # initial conditions: one exposed"
   ]
  },
  {
   "cell_type": "code",
   "execution_count": 57,
   "metadata": {
    "hidden": true
   },
   "outputs": [],
   "source": [
    "t = np.linspace(0, 100, 100) # Grid of time points (in days)\n",
    "n = len(t)\n",
    "y0 = S0, E0, I0, R0, D0 # Initial conditions vector\n",
    "\n",
    "# Integrate the SIR equations over the time grid, t.\n",
    "ret = odeint(deriv, y0, t, args=(N, beta, gamma, delta, alpha, rho))\n",
    "S, E, I, R, D = ret.T"
   ]
  },
  {
   "cell_type": "code",
   "execution_count": 58,
   "metadata": {
    "hidden": true
   },
   "outputs": [
    {
     "data": {
      "image/png": "[encoded data removed]",
      "text/plain": [
       "<Figure size 720x288 with 1 Axes>"
      ]
     },
     "metadata": {
      "needs_background": "light"
     },
     "output_type": "display_data"
    }
   ],
   "source": [
    "plotseird(t, S, E, I, R, D)"
   ]
  },
  {
   "cell_type": "code",
   "execution_count": 61,
   "metadata": {
    "hidden": true
   },
   "outputs": [
    {
     "data": {
      "text/plain": [
       "76201.95041510701"
      ]
     },
     "execution_count": 61,
     "metadata": {},
     "output_type": "execute_result"
    }
   ],
   "source": [
    "D[n-1]"
   ]
  },
  {
   "cell_type": "markdown",
   "metadata": {
    "hidden": true
   },
   "source": [
    "En realidad, $R_0$ probablemente nunca \"salta\" de un valor a otro. Más bien, (más o menos rápidamente) cambia continuamente (y puede subir y bajar varias veces, por ejemplo, si se aflojan las medidas de distanciamiento social y luego se vuelven a ajustar). Puede elegir cualquier función que desee para $R_0$, pero una opción común para modelar el impacto inicial del distanciamiento social es una función [logística](https://en.wikipedia.org/wiki/Logistic_function).\n",
    "\n",
    "La función (adoptada para estos propósitos) sería algo así como:\n",
    "\n",
    "$$R_0(t)=\\frac{R_{0_{start}}-R_{0_{end}}}{1+e^{-k(-x+x_0)}}+R_{0_{end}}$$\n",
    "\n",
    "Y esto es lo que realmente hacen los parámetros:\n",
    "\n",
    "- $R_{0_{start}}$ y $R_{0_{end}}$ son los valores de $R_0$ en el primer y el último día\n",
    "\n",
    "\n",
    "- $x_0$ es el valor $x$ del punto de inflexión (es decir, la fecha de la disminución más pronunciada en $R_0$, esto podría considerarse como la fecha principal de \"bloqueo\")\n",
    "\n",
    "\n",
    "- $k$ nos permite variar la rapidez con la que $R_0$ disminuye"
   ]
  },
  {
   "cell_type": "markdown",
   "metadata": {
    "hidden": true
   },
   "source": [
    "Veamos antes como es el comportamiento de la curva logística para diferentes valores de $k=1.0, 0.5$ y $0.1$ y variando $R_0$ también entre un valor máximo inicial de $5.0$ y otro final de $0.5$"
   ]
  },
  {
   "cell_type": "code",
   "execution_count": 26,
   "metadata": {
    "hidden": true
   },
   "outputs": [],
   "source": [
    "def logistic(x, R0start, R0end, x0, k):    \n",
    "    return (R0start - R0end)/(1 + np.exp(-k*(-x+x0))) + R0end"
   ]
  },
  {
   "cell_type": "code",
   "execution_count": 40,
   "metadata": {
    "hidden": true
   },
   "outputs": [
    {
     "data": {
      "image/png": "[encoded data removed]",
      "text/plain": [
       "<Figure size 720x288 with 1 Axes>"
      ]
     },
     "metadata": {
      "needs_background": "light"
     },
     "output_type": "display_data"
    }
   ],
   "source": [
    "R0start, k, x0, R0end = 1.9, 0.5, 50, 0.5\n",
    "k1 = 1.0\n",
    "k2 = 0.5\n",
    "k3 = 0.1\n",
    "\n",
    "x = np.linspace(0, 100, 100)\n",
    "\n",
    "logistica1 = [logistic(i, R0start, R0end, x0, k1) for i in range(len(x))]\n",
    "logistica2 = [logistic(i, R0start, R0end, x0, k2) for i in range(len(x))]\n",
    "logistica3 = [logistic(i, R0start, R0end, x0, k3) for i in range(len(x))]\n",
    "\n",
    "f, ax = plt.subplots(1,1,figsize=(10,4))\n",
    "\n",
    "ax.plot(x, logistica1, 'b', alpha=0.7, linewidth=2, label='k = 1.0')\n",
    "ax.plot(x, logistica2, 'y', alpha=0.7, linewidth=2, label='k = 0.5')\n",
    "ax.plot(x, logistica3, 'r', alpha=0.7, linewidth=2, label='k = 0.1')\n",
    "\n",
    "ax.grid(b=True, which='major', c='w', lw=2, ls='-')\n",
    "legend = ax.legend()\n",
    "legend.get_frame().set_alpha(0.5)\n",
    "plt.show()"
   ]
  },
  {
   "cell_type": "markdown",
   "metadata": {
    "hidden": true
   },
   "source": [
    "Ahora cambiando el cógido que veníamos trabajando para implementar la variación de $R_0$"
   ]
  },
  {
   "cell_type": "code",
   "execution_count": 50,
   "metadata": {
    "hidden": true
   },
   "outputs": [],
   "source": [
    "N = 1000000\n",
    "D = 4.0 # infections lasts four days\n",
    "gamma = 1.0 / D\n",
    "delta = 1.0 / 5.0  # incubation period of three days\n",
    "R0start, k, x0, R0end = 5.0, 0.5, 50, 0.5\n",
    "\n",
    "def beta(t):\n",
    "    return logistic(t, R0start, R0end, x0, k) * gamma\n",
    "\n",
    "alpha = 0.2 #20% death rate\n",
    "rho = 1/9 # 9 days from infection until death\n",
    "\n",
    "S0, E0, I0, R0, D0 = N-1, 1, 0, 0, 0  # initial conditions: one exposed"
   ]
  },
  {
   "cell_type": "code",
   "execution_count": 51,
   "metadata": {
    "hidden": true
   },
   "outputs": [],
   "source": [
    "y0 = S0, E0, I0, R0, D0 # Initial conditions vector\n",
    "\n",
    "# Integrate the SIR equations over the time grid, t.\n",
    "ret = odeint(deriv, y0, t, args=(N, beta, gamma, delta, alpha, rho))\n",
    "S, E, I, R, D = ret.T\n",
    "R0_over_time = [logistic(i, R0start, R0end, x0, k) for i in range(len(t))]  # to plot R_0 over time: get function values"
   ]
  },
  {
   "cell_type": "code",
   "execution_count": 52,
   "metadata": {
    "hidden": true
   },
   "outputs": [
    {
     "data": {
      "image/png": "[encoded data removed]",
      "text/plain": [
       "<Figure size 720x288 with 1 Axes>"
      ]
     },
     "metadata": {
      "needs_background": "light"
     },
     "output_type": "display_data"
    }
   ],
   "source": [
    "plotseird(t, S, E, I, R, D)"
   ]
  },
  {
   "cell_type": "markdown",
   "metadata": {
    "hidden": true
   },
   "source": [
    "Dejamos que $R_0$ disminuya rápidamente de $5.0$ a $0.5$ alrededor del día $50$ y ahora realmente podemos ver las curvas aplanándose después del día $50$:"
   ]
  },
  {
   "cell_type": "markdown",
   "metadata": {
    "heading_collapsed": true,
    "hidden": true
   },
   "source": [
    "## Tasa de fatalidad relacionada con los recursos disponibles y la edad"
   ]
  },
  {
   "cell_type": "markdown",
   "metadata": {
    "hidden": true
   },
   "source": [
    "Al igual que $R_0$, la tasa de mortalidad $\\alpha$ probablemente no sea constante para la mayoría de las enfermedades reales. Puede depender de una variedad de cosas; Nos centraremos en la dependencia de los recursos y la edad."
   ]
  },
  {
   "cell_type": "markdown",
   "metadata": {
    "hidden": true
   },
   "source": [
    "***Dependencia de los recursos:*** La tasa de mortalidad será mayor cuando hay más personas infectadas. Para pensar en una función que tenga ésto en consideración, se necesitaría una tasa de mortalidad \"*base*\" u \"*óptima*\" para el caso de que solo unas pocas personas estén infectadas (y por lo tanto reciban un tratamiento óptimo y puedan recuperarse) y algún factor que tenga en cuenta qué proporción de la población está actualmente infectada. Este es un ejemplo de una función que implementa estas ideas:\n",
    "\n",
    "$$\\alpha(t)=s \\cdot \\frac{I(t)}{N}+\\alpha_{opt}$$\n",
    "\n",
    "Los modelos más elaborados pueden hacer que la tasa de mortalidad dependa de la cantidad de camas de UCI o ventiladores disponibles, etc. Esto se tendrá en cuenta más adelante cuando modelemos Coronavirus."
   ]
  },
  {
   "cell_type": "markdown",
   "metadata": {
    "hidden": true
   },
   "source": [
    "***Dependencia de la edad:*** La dependencia de la edad es un poco más difícil. Para implementarlo por completo, tendríamos que incluir compartimentos separados para cada grupo de edad (por ejemplo, un compartimento infectado para personas de 0 a 9 años, otro para personas de 10 a 19 años, ...). Eso es factible con un bucle for simple en `Python`, pero las ecuaciones se vuelven un poco confusas. Un enfoque más simple que aún puede producir buenos resultados es el siguiente:\n",
    "\n",
    "Necesitamos 2 cosas para un enfoque más simple: *tasas de mortalidad por grupo de edad* y *proporción de la población total que se encuentra en ese grupo de edad*. Por ejemplo, podríamos tener las siguientes tasas de mortalidad y número de individuos por grupo de edad (empleando diccionarios de *Python*):\n",
    "\n"
   ]
  },
  {
   "cell_type": "raw",
   "metadata": {
    "hidden": true
   },
   "source": [
    "alpha_by_agegroup = {\n",
    "    \"0-29\": 0.01, \"30-59\": 0.05, \"60-89\": 0.20, \"89+\": 0.30\n",
    "}\n",
    "\n",
    "proportion_of_agegroup = {\n",
    "    \"0-29\": 0.1, \"30-59\": 0.3, \"60-89\": 0.4, \"89+\": 0.2\n",
    "}"
   ]
  },
  {
   "cell_type": "markdown",
   "metadata": {
    "hidden": true
   },
   "source": [
    "Esta sería una población extremadamente antigua con un $40\\%$ en el rango $60-89$ y un $20\\%$ en el rango $89+$. Ahora calculamos la tasa de mortalidad promedio general sumando la tasa de mortalidad del grupo de edad multiplicada por la proporción de la población en ese grupo de edad:\n",
    "\n",
    "$$\\alpha = 0.01 \\cdot 0.1 + 0.05 \\cdot 0.3 + 0.2 \\cdot 0.4 + 0.3 \\cdot 0.2 = 15.6\\%$$\n",
    "\n",
    "codificándolo"
   ]
  },
  {
   "cell_type": "raw",
   "metadata": {
    "hidden": true
   },
   "source": [
    "alpha_opt = sum(alpha_by_agegroup[i] * proportion_of_agegroup[i] \n",
    "            for i in list(alpha_by_agegroup.keys()))"
   ]
  },
  {
   "cell_type": "markdown",
   "metadata": {
    "hidden": true
   },
   "source": [
    "Una población bastante joven con las siguientes proporciones ..."
   ]
  },
  {
   "cell_type": "raw",
   "metadata": {
    "hidden": true
   },
   "source": [
    "proportion_of_agegroup = {\n",
    "    \"0-29\": 0.4, \"30-59\": 0.4, \"60-89\": 0.1, \"89+\": 0.1\n",
    "}"
   ]
  },
  {
   "cell_type": "markdown",
   "metadata": {
    "hidden": true
   },
   "source": [
    "… Solo tendría una tasa de mortalidad promedio de $7.4\\%$!\n",
    "\n",
    "Si queremos usar nuestras fórmulas para la dependencia de los recursos y la edad, podríamos usar la fórmula de los recursos que acabamos de usar para calcular $\\alpha_{opt}$ y usar eso en nuestra fórmula dependiente de los recursos de arriba.\n",
    "\n",
    "con seguridad, hay formas más elaboradas de implementar tasas de mortalidad con el tiempo. Por ejemplo, no estamos teniendo en cuenta que solo los casos críticos que requieren cuidados intensivos llenan los hospitales y pueden aumentar las tasas de mortalidad; o que las muertes cambian la estructura de la población que usamos para calcular la tasa de mortalidad en primer lugar; o que el impacto de los infectados en las tasas de mortalidad debería tener lugar varios días después, ya que las personas no suelen morir de inmediato, lo que resultaría en una [ecuación diferencial con retardo](https://en.wikipedia.org/wiki/Delay_differential_equation)."
   ]
  },
  {
   "cell_type": "markdown",
   "metadata": {
    "heading_collapsed": true,
    "hidden": true
   },
   "source": [
    "## Implementación computacional de la tasa de fatalidad relacionada con los recursos disponibles y la edad"
   ]
  },
  {
   "cell_type": "markdown",
   "metadata": {
    "hidden": true
   },
   "source": [
    "La implementación computacional es sencilla, no es necesario siquiera cambiar las ecuaciones principales (definimos *alfa* dentro de las ecuaciones ya que necesitamos acceso al valor actual $I(t)$)."
   ]
  },
  {
   "cell_type": "code",
   "execution_count": 66,
   "metadata": {
    "hidden": true
   },
   "outputs": [],
   "source": [
    "def deriv(y, t, N, beta, gamma, delta, alpha_opt, rho):\n",
    "    S, E, I, R, D = y\n",
    "    \n",
    "    def alpha(t):\n",
    "        return s * I/N + alpha_opt\n",
    "    \n",
    "    dSdt = -beta(t) * S * I / N\n",
    "    dEdt = beta(t) * S * I / N - delta * E\n",
    "    dIdt = delta * E - (1 - alpha(t)) * gamma * I - alpha(t) * rho * I\n",
    "    dRdt = (1 - alpha(t)) * gamma * I\n",
    "    dDdt = alpha(t) * rho * I\n",
    "    return dSdt, dEdt, dIdt, dRdt, dDdt"
   ]
  },
  {
   "cell_type": "code",
   "execution_count": 78,
   "metadata": {
    "hidden": true
   },
   "outputs": [],
   "source": [
    "def plotseird(t, S, E, I, R, D=None, L=None, R0=None, Alpha=None):\n",
    "    f, ax = plt.subplots(1,1,figsize=(10,4))\n",
    "    ax.plot(t, S, 'b', alpha=0.7, linewidth=2, label='Susceptible')\n",
    "    ax.plot(t, E, 'y', alpha=0.7, linewidth=2, label='Exposed')\n",
    "    ax.plot(t, I, 'r', alpha=0.7, linewidth=2, label='Infected')\n",
    "    ax.plot(t, R, 'g', alpha=0.7, linewidth=2, label='Recovered')\n",
    "    if D is not None:\n",
    "        ax.plot(t, D, 'k', alpha=0.7, linewidth=2, label='Dead')\n",
    "        ax.plot(t, S+E+I+R+D, 'c--', alpha=0.7, linewidth=2, label='Total')\n",
    "    else:\n",
    "        ax.plot(t, S+E+I+R, 'c--', alpha=0.7, linewidth=2, label='Total')\n",
    "\n",
    "    ax.set_xlabel('Time (days)')\n",
    "\n",
    "    ax.yaxis.set_tick_params(length=0)\n",
    "    ax.xaxis.set_tick_params(length=0)\n",
    "    ax.grid(b=True, which='major', c='w', lw=2, ls='-')\n",
    "    legend = ax.legend(borderpad=2.0)\n",
    "    legend.get_frame().set_alpha(0.5)\n",
    "    \n",
    "    for spine in ('top', 'right', 'bottom', 'left'):\n",
    "        ax.spines[spine].set_visible(False)\n",
    "    \n",
    "    if L is not None:\n",
    "        plt.title(\"Lockdown after {} days\".format(L))\n",
    "    plt.show();\n",
    "\n",
    "    if R0 is not None or CFR is not None:\n",
    "        f = plt.figure(figsize=(12,4))\n",
    "  \n",
    "    if R0 is not None:\n",
    "        # sp1\n",
    "        ax1 = f.add_subplot(121)\n",
    "        ax1.plot(t, R0, 'b--', alpha=0.7, linewidth=2, label='R_0')\n",
    "\n",
    "        ax1.set_xlabel('Time (days)')\n",
    "        ax1.title.set_text('R_0 over time')\n",
    "        # ax.set_ylabel('Number (1000s)')\n",
    "        # ax.set_ylim(0,1.2)\n",
    "        ax1.yaxis.set_tick_params(length=0)\n",
    "        ax1.xaxis.set_tick_params(length=0)\n",
    "        ax1.grid(b=True, which='major', c='w', lw=2, ls='-')\n",
    "        legend = ax1.legend()\n",
    "        legend.get_frame().set_alpha(0.5)\n",
    "        \n",
    "        for spine in ('top', 'right', 'bottom', 'left'):\n",
    "            ax.spines[spine].set_visible(False)\n",
    "\n",
    "    if Alpha is not None:\n",
    "        # sp2\n",
    "        ax2 = f.add_subplot(122)\n",
    "        ax2.plot(t, Alpha, 'r--', alpha=0.7, linewidth=2, label='alpha')\n",
    "\n",
    "        ax2.set_xlabel('Time (days)')\n",
    "        ax2.title.set_text('fatality rate over time')\n",
    "        # ax.set_ylabel('Number (1000s)')\n",
    "        # ax.set_ylim(0,1.2)\n",
    "        ax2.yaxis.set_tick_params(length=0)\n",
    "        ax2.xaxis.set_tick_params(length=0)\n",
    "        ax2.grid(b=True, which='major', c='w', lw=2, ls='-')\n",
    "        legend = ax2.legend()\n",
    "        legend.get_frame().set_alpha(0.5)\n",
    "        \n",
    "        for spine in ('top', 'right', 'bottom', 'left'):\n",
    "            ax.spines[spine].set_visible(False)\n",
    "\n",
    "        plt.show();"
   ]
  },
  {
   "cell_type": "code",
   "execution_count": 73,
   "metadata": {
    "hidden": true
   },
   "outputs": [],
   "source": [
    "N = 1000000\n",
    "D = 4.0 # infections lasts four days\n",
    "gamma = 1.0 / D\n",
    "delta = 1.0 / 5.0  # incubation period of three days\n",
    "\n",
    "R0start, k, x0, R0end = 5.0, 0.5, 50, 0.5\n",
    "\n",
    "def beta(t):\n",
    "    return logistic(t, R0start, R0end, x0, k) * gamma\n",
    "\n",
    "#alpha = 0.2 #20% death rate\n",
    "\n",
    "alpha_by_agegroup = {\"0-29\": 0.01, \"30-59\": 0.05, \"60-89\": 0.20,\n",
    "                     \"89+\": 0.30\n",
    "                    }\n",
    "\n",
    "proportion_of_agegroup = {\"0-29\": 0.1, \"30-59\": 0.3, \"60-89\": 0.4,\n",
    "                          \"89+\": 0.2\n",
    "                         }\n",
    "\n",
    "s = 0.01\n",
    "\n",
    "alpha_opt = sum(alpha_by_agegroup[i] * proportion_of_agegroup[i] \n",
    "            for i in list(alpha_by_agegroup.keys()))\n",
    "\n",
    "rho = 1/9 # 9 days from infection until death\n",
    "\n",
    "S0, E0, I0, R0, D0 = N-1, 1, 0, 0, 0  # initial conditions: one exposed"
   ]
  },
  {
   "cell_type": "code",
   "execution_count": 74,
   "metadata": {
    "hidden": true
   },
   "outputs": [],
   "source": [
    "t = np.linspace(0, 100, 100) # Grid of time points (in days)\n",
    "y0 = S0, E0, I0, R0, D0 # Initial conditions vector\n",
    "\n",
    "# Integrate the SIR equations over the time grid, t.\n",
    "ret = odeint(deriv, y0, t, args=(N, beta, gamma, delta, alpha_opt, rho))\n",
    "\n",
    "S, E, I, R, D = ret.T\n",
    "\n",
    "R0_over_time = [logistic(i, R0start, R0end, x0, k) for i in range(len(t))]  # to plot R_0 over time: get function values\n",
    "\n",
    "Alpha_over_time = [s * I[i]/N + alpha_opt for i in range(len(t))]  # to plot alpha over time"
   ]
  },
  {
   "cell_type": "code",
   "execution_count": 79,
   "metadata": {
    "hidden": true
   },
   "outputs": [
    {
     "data": {
      "image/png": "[encoded data removed]",
      "text/plain": [
       "<Figure size 720x288 with 1 Axes>"
      ]
     },
     "metadata": {
      "needs_background": "light"
     },
     "output_type": "display_data"
    },
    {
     "data": {
      "image/png": "[encoded data removed]",
      "text/plain": [
       "<Figure size 864x288 with 2 Axes>"
      ]
     },
     "metadata": {
      "needs_background": "light"
     },
     "output_type": "display_data"
    }
   ],
   "source": [
    "plotseird(t, S, E, I, R, D, R0=R0_over_time, Alpha=Alpha_over_time)"
   ]
  },
  {
   "cell_type": "markdown",
   "metadata": {},
   "source": [
    "# Aplicación"
   ]
  },
  {
   "cell_type": "markdown",
   "metadata": {
    "heading_collapsed": true
   },
   "source": [
    "## Donde obtener información"
   ]
  },
  {
   "cell_type": "markdown",
   "metadata": {
    "heading_collapsed": true,
    "hidden": true
   },
   "source": [
    "### Graficos"
   ]
  },
  {
   "cell_type": "code",
   "execution_count": null,
   "metadata": {
    "hidden": true
   },
   "outputs": [],
   "source": [
    "URL = 'https://coronavirus.jhu.edu/map.html'\n",
    "IFrame(src = URL, width = 960, height = 500)"
   ]
  },
  {
   "cell_type": "markdown",
   "metadata": {
    "heading_collapsed": true,
    "hidden": true
   },
   "source": [
    "### Globales\n",
    "\n",
    "- [Johns Hopkins University of Medicine - Coronavirus Resource Center](https://github.com/CSSEGISandData/COVID-19)\n",
    "\n",
    "\n",
    "- [Worldometers](https://www.worldometers.info/coronavirus/)\n",
    "\n",
    "\n",
    "- [ONU](https://data.un.org/)\n",
    "\n",
    "\n",
    "### Locales (Colombia)\n",
    "\n",
    "- [Instituto Nacional de Salud](https://www.ins.gov.co/Noticias/Paginas/Coronavirus.aspx)\n",
    "\n",
    "\n",
    "- [Alcaldía de Bogotá](https://bogota.gov.co/coronavirus-en-bogota/)\n",
    "\n",
    "\n",
    "- [GPStrategy](https://covid19.gpstrategy.com.co/extensions/COVID19/COVID19.html)"
   ]
  },
  {
   "cell_type": "markdown",
   "metadata": {},
   "source": [
    "## Caso colombiano"
   ]
  },
  {
   "cell_type": "markdown",
   "metadata": {},
   "source": [
    "***Nota:*** En este apartado se seguirá el trabajo realizado por \n",
    "\n",
    "- [Prevendo o crescimento de casos de COVID-19 (coronavírus) no Brasil com análise de dados, gráficos e equações! — Partes 1 e 2](https://medium.com/@caiquecoelho/prevendo-o-crescimento-de-casos-de-covid-19-coronavirus-no-brasil-com-an%C3%A1lise-de-dados-gr%C3%A1ficos-33ee525b62f8): By Caíque Coelho, in Towardsdatascience.com. Mar 19"
   ]
  },
  {
   "cell_type": "markdown",
   "metadata": {},
   "source": [
    "Una vez obtenido un modelo relativamente mas completo. vamos a revisar los datos del comportamiento de la pandemia en Colombia a la fecha del día, es solo ejecutar las celdas para el día y el código captura la información al día."
   ]
  },
  {
   "cell_type": "markdown",
   "metadata": {},
   "source": [
    "Empezamos por importar las bibliotecas a emplear"
   ]
  },
  {
   "cell_type": "code",
   "execution_count": 188,
   "metadata": {},
   "outputs": [],
   "source": [
    "## Import Libraries\n",
    "import numpy as np\n",
    "import pandas as pd\n",
    "import matplotlib.pyplot as plt\n",
    "import statsmodels\n",
    "import sklearn\n",
    "import io\n",
    "import requests\n",
    "from sklearn.linear_model import LinearRegression"
   ]
  },
  {
   "cell_type": "markdown",
   "metadata": {},
   "source": [
    "Vamos a emplear los datos levantados por:\n",
    "\n",
    "- 2019 Novel Coronavirus COVID-19 (2019-nCoV) [Data Repository](https://github.com/CSSEGISandData/COVID-19) by Johns Hopkins CSSE \n",
    "\n",
    "\n",
    "- [World O Meter](https://www.worldometers.info/coronavirus/)\n",
    "\n",
    "Se trabajará con los datos de casos confirmados y decesos.\n",
    "\n",
    "Primero se carga la información a nivel global"
   ]
  },
  {
   "cell_type": "code",
   "execution_count": 173,
   "metadata": {},
   "outputs": [],
   "source": [
    "# Casos confirmados a nivel mundial\n",
    "url1 = \"https://raw.githubusercontent.com/CSSEGISandData/COVID-19/master/csse_covid_19_data/csse_covid_19_time_series/time_series_covid19_confirmed_global.csv\"\n",
    "confirmedCasesGlobal = pd.read_csv(url1)\n",
    "\n",
    "# Decesos confirmados a nivel mundial\n",
    "url2 = \"https://raw.githubusercontent.com/CSSEGISandData/COVID-19/master/csse_covid_19_data/csse_covid_19_time_series/time_series_covid19_deaths_global.csv\"\n",
    "deathsCasesGlobal = pd.read_csv(url2)"
   ]
  },
  {
   "cell_type": "markdown",
   "metadata": {},
   "source": [
    "Se extraen los datos de los casos confirmados (positivos) y los decesos en ***Colombia*** al 18/04/2020"
   ]
  },
  {
   "cell_type": "code",
   "execution_count": 155,
   "metadata": {},
   "outputs": [
    {
     "data": {
      "text/html": [
       "<div>\n",
       "<style scoped>\n",
       "    .dataframe tbody tr th:only-of-type {\n",
       "        vertical-align: middle;\n",
       "    }\n",
       "\n",
       "    .dataframe tbody tr th {\n",
       "        vertical-align: top;\n",
       "    }\n",
       "\n",
       "    .dataframe thead th {\n",
       "        text-align: right;\n",
       "    }\n",
       "</style>\n",
       "<table border=\"1\" class=\"dataframe\">\n",
       "  <thead>\n",
       "    <tr style=\"text-align: right;\">\n",
       "      <th></th>\n",
       "      <th>Province/State</th>\n",
       "      <th>Country/Region</th>\n",
       "      <th>Lat</th>\n",
       "      <th>Long</th>\n",
       "      <th>1/22/20</th>\n",
       "      <th>1/23/20</th>\n",
       "      <th>1/24/20</th>\n",
       "      <th>1/25/20</th>\n",
       "      <th>1/26/20</th>\n",
       "      <th>1/27/20</th>\n",
       "      <th>...</th>\n",
       "      <th>4/8/20</th>\n",
       "      <th>4/9/20</th>\n",
       "      <th>4/10/20</th>\n",
       "      <th>4/11/20</th>\n",
       "      <th>4/12/20</th>\n",
       "      <th>4/13/20</th>\n",
       "      <th>4/14/20</th>\n",
       "      <th>4/15/20</th>\n",
       "      <th>4/16/20</th>\n",
       "      <th>4/17/20</th>\n",
       "    </tr>\n",
       "  </thead>\n",
       "  <tbody>\n",
       "    <tr>\n",
       "      <th>82</th>\n",
       "      <td>NaN</td>\n",
       "      <td>Colombia</td>\n",
       "      <td>4.5709</td>\n",
       "      <td>-74.2973</td>\n",
       "      <td>0</td>\n",
       "      <td>0</td>\n",
       "      <td>0</td>\n",
       "      <td>0</td>\n",
       "      <td>0</td>\n",
       "      <td>0</td>\n",
       "      <td>...</td>\n",
       "      <td>2054</td>\n",
       "      <td>2223</td>\n",
       "      <td>2473</td>\n",
       "      <td>2709</td>\n",
       "      <td>2776</td>\n",
       "      <td>2852</td>\n",
       "      <td>2979</td>\n",
       "      <td>3105</td>\n",
       "      <td>3233</td>\n",
       "      <td>3439</td>\n",
       "    </tr>\n",
       "  </tbody>\n",
       "</table>\n",
       "<p>1 rows × 91 columns</p>\n",
       "</div>"
      ],
      "text/plain": [
       "   Province/State Country/Region     Lat     Long  1/22/20  1/23/20  1/24/20  \\\n",
       "82            NaN       Colombia  4.5709 -74.2973        0        0        0   \n",
       "\n",
       "    1/25/20  1/26/20  1/27/20  ...  4/8/20  4/9/20  4/10/20  4/11/20  4/12/20  \\\n",
       "82        0        0        0  ...    2054    2223     2473     2709     2776   \n",
       "\n",
       "    4/13/20  4/14/20  4/15/20  4/16/20  4/17/20  \n",
       "82     2852     2979     3105     3233     3439  \n",
       "\n",
       "[1 rows x 91 columns]"
      ]
     },
     "execution_count": 155,
     "metadata": {},
     "output_type": "execute_result"
    }
   ],
   "source": [
    "confirmedcasesColombia = confirmedCasesGlobal.loc[confirmedCasesGlobal['Country/Region'] == 'Colombia']\n",
    "confirmedcasesColombia.head()"
   ]
  },
  {
   "cell_type": "code",
   "execution_count": 174,
   "metadata": {},
   "outputs": [
    {
     "data": {
      "text/html": [
       "<div>\n",
       "<style scoped>\n",
       "    .dataframe tbody tr th:only-of-type {\n",
       "        vertical-align: middle;\n",
       "    }\n",
       "\n",
       "    .dataframe tbody tr th {\n",
       "        vertical-align: top;\n",
       "    }\n",
       "\n",
       "    .dataframe thead th {\n",
       "        text-align: right;\n",
       "    }\n",
       "</style>\n",
       "<table border=\"1\" class=\"dataframe\">\n",
       "  <thead>\n",
       "    <tr style=\"text-align: right;\">\n",
       "      <th></th>\n",
       "      <th>Province/State</th>\n",
       "      <th>Country/Region</th>\n",
       "      <th>Lat</th>\n",
       "      <th>Long</th>\n",
       "      <th>1/22/20</th>\n",
       "      <th>1/23/20</th>\n",
       "      <th>1/24/20</th>\n",
       "      <th>1/25/20</th>\n",
       "      <th>1/26/20</th>\n",
       "      <th>1/27/20</th>\n",
       "      <th>...</th>\n",
       "      <th>4/9/20</th>\n",
       "      <th>4/10/20</th>\n",
       "      <th>4/11/20</th>\n",
       "      <th>4/12/20</th>\n",
       "      <th>4/13/20</th>\n",
       "      <th>4/14/20</th>\n",
       "      <th>4/15/20</th>\n",
       "      <th>4/16/20</th>\n",
       "      <th>4/17/20</th>\n",
       "      <th>4/18/20</th>\n",
       "    </tr>\n",
       "  </thead>\n",
       "  <tbody>\n",
       "    <tr>\n",
       "      <th>82</th>\n",
       "      <td>NaN</td>\n",
       "      <td>Colombia</td>\n",
       "      <td>4.5709</td>\n",
       "      <td>-74.2973</td>\n",
       "      <td>0</td>\n",
       "      <td>0</td>\n",
       "      <td>0</td>\n",
       "      <td>0</td>\n",
       "      <td>0</td>\n",
       "      <td>0</td>\n",
       "      <td>...</td>\n",
       "      <td>69</td>\n",
       "      <td>80</td>\n",
       "      <td>100</td>\n",
       "      <td>109</td>\n",
       "      <td>112</td>\n",
       "      <td>127</td>\n",
       "      <td>131</td>\n",
       "      <td>144</td>\n",
       "      <td>153</td>\n",
       "      <td>153</td>\n",
       "    </tr>\n",
       "  </tbody>\n",
       "</table>\n",
       "<p>1 rows × 92 columns</p>\n",
       "</div>"
      ],
      "text/plain": [
       "   Province/State Country/Region     Lat     Long  1/22/20  1/23/20  1/24/20  \\\n",
       "82            NaN       Colombia  4.5709 -74.2973        0        0        0   \n",
       "\n",
       "    1/25/20  1/26/20  1/27/20  ...  4/9/20  4/10/20  4/11/20  4/12/20  \\\n",
       "82        0        0        0  ...      69       80      100      109   \n",
       "\n",
       "    4/13/20  4/14/20  4/15/20  4/16/20  4/17/20  4/18/20  \n",
       "82      112      127      131      144      153      153  \n",
       "\n",
       "[1 rows x 92 columns]"
      ]
     },
     "execution_count": 174,
     "metadata": {},
     "output_type": "execute_result"
    }
   ],
   "source": [
    "deathcasesColombia = deathsCasesGlobal.loc[deathsCasesGlobal['Country/Region'] == 'Colombia']\n",
    "deathcasesColombia.head()"
   ]
  },
  {
   "cell_type": "markdown",
   "metadata": {},
   "source": [
    "Las primeras cuatro columnas es información irrelevante para el estudio en cuestión, por lo que se retiran."
   ]
  },
  {
   "cell_type": "code",
   "execution_count": 157,
   "metadata": {},
   "outputs": [
    {
     "name": "stderr",
     "output_type": "stream",
     "text": [
      "C:\\Users\\Lenovo\\Anaconda3\\lib\\site-packages\\pandas\\core\\frame.py:3997: SettingWithCopyWarning: \n",
      "A value is trying to be set on a copy of a slice from a DataFrame\n",
      "\n",
      "See the caveats in the documentation: https://pandas.pydata.org/pandas-docs/stable/user_guide/indexing.html#returning-a-view-versus-a-copy\n",
      "  errors=errors,\n"
     ]
    },
    {
     "data": {
      "text/html": [
       "<div>\n",
       "<style scoped>\n",
       "    .dataframe tbody tr th:only-of-type {\n",
       "        vertical-align: middle;\n",
       "    }\n",
       "\n",
       "    .dataframe tbody tr th {\n",
       "        vertical-align: top;\n",
       "    }\n",
       "\n",
       "    .dataframe thead th {\n",
       "        text-align: right;\n",
       "    }\n",
       "</style>\n",
       "<table border=\"1\" class=\"dataframe\">\n",
       "  <thead>\n",
       "    <tr style=\"text-align: right;\">\n",
       "      <th></th>\n",
       "      <th>1/22/20</th>\n",
       "      <th>1/23/20</th>\n",
       "      <th>1/24/20</th>\n",
       "      <th>1/25/20</th>\n",
       "      <th>1/26/20</th>\n",
       "      <th>1/27/20</th>\n",
       "      <th>1/28/20</th>\n",
       "      <th>1/29/20</th>\n",
       "      <th>1/30/20</th>\n",
       "      <th>1/31/20</th>\n",
       "      <th>...</th>\n",
       "      <th>4/8/20</th>\n",
       "      <th>4/9/20</th>\n",
       "      <th>4/10/20</th>\n",
       "      <th>4/11/20</th>\n",
       "      <th>4/12/20</th>\n",
       "      <th>4/13/20</th>\n",
       "      <th>4/14/20</th>\n",
       "      <th>4/15/20</th>\n",
       "      <th>4/16/20</th>\n",
       "      <th>4/17/20</th>\n",
       "    </tr>\n",
       "  </thead>\n",
       "  <tbody>\n",
       "    <tr>\n",
       "      <th>82</th>\n",
       "      <td>0</td>\n",
       "      <td>0</td>\n",
       "      <td>0</td>\n",
       "      <td>0</td>\n",
       "      <td>0</td>\n",
       "      <td>0</td>\n",
       "      <td>0</td>\n",
       "      <td>0</td>\n",
       "      <td>0</td>\n",
       "      <td>0</td>\n",
       "      <td>...</td>\n",
       "      <td>2054</td>\n",
       "      <td>2223</td>\n",
       "      <td>2473</td>\n",
       "      <td>2709</td>\n",
       "      <td>2776</td>\n",
       "      <td>2852</td>\n",
       "      <td>2979</td>\n",
       "      <td>3105</td>\n",
       "      <td>3233</td>\n",
       "      <td>3439</td>\n",
       "    </tr>\n",
       "  </tbody>\n",
       "</table>\n",
       "<p>1 rows × 87 columns</p>\n",
       "</div>"
      ],
      "text/plain": [
       "    1/22/20  1/23/20  1/24/20  1/25/20  1/26/20  1/27/20  1/28/20  1/29/20  \\\n",
       "82        0        0        0        0        0        0        0        0   \n",
       "\n",
       "    1/30/20  1/31/20  ...  4/8/20  4/9/20  4/10/20  4/11/20  4/12/20  4/13/20  \\\n",
       "82        0        0  ...    2054    2223     2473     2709     2776     2852   \n",
       "\n",
       "    4/14/20  4/15/20  4/16/20  4/17/20  \n",
       "82     2979     3105     3233     3439  \n",
       "\n",
       "[1 rows x 87 columns]"
      ]
     },
     "execution_count": 157,
     "metadata": {},
     "output_type": "execute_result"
    }
   ],
   "source": [
    "confirmedcasesColombia.drop(['Province/State', 'Country/Region', 'Lat', 'Long'], axis=1, inplace=True)\n",
    "confirmedcasesColombia.head()"
   ]
  },
  {
   "cell_type": "code",
   "execution_count": 175,
   "metadata": {},
   "outputs": [
    {
     "name": "stderr",
     "output_type": "stream",
     "text": [
      "C:\\Users\\Lenovo\\Anaconda3\\lib\\site-packages\\pandas\\core\\frame.py:3997: SettingWithCopyWarning: \n",
      "A value is trying to be set on a copy of a slice from a DataFrame\n",
      "\n",
      "See the caveats in the documentation: https://pandas.pydata.org/pandas-docs/stable/user_guide/indexing.html#returning-a-view-versus-a-copy\n",
      "  errors=errors,\n"
     ]
    },
    {
     "data": {
      "text/html": [
       "<div>\n",
       "<style scoped>\n",
       "    .dataframe tbody tr th:only-of-type {\n",
       "        vertical-align: middle;\n",
       "    }\n",
       "\n",
       "    .dataframe tbody tr th {\n",
       "        vertical-align: top;\n",
       "    }\n",
       "\n",
       "    .dataframe thead th {\n",
       "        text-align: right;\n",
       "    }\n",
       "</style>\n",
       "<table border=\"1\" class=\"dataframe\">\n",
       "  <thead>\n",
       "    <tr style=\"text-align: right;\">\n",
       "      <th></th>\n",
       "      <th>1/22/20</th>\n",
       "      <th>1/23/20</th>\n",
       "      <th>1/24/20</th>\n",
       "      <th>1/25/20</th>\n",
       "      <th>1/26/20</th>\n",
       "      <th>1/27/20</th>\n",
       "      <th>1/28/20</th>\n",
       "      <th>1/29/20</th>\n",
       "      <th>1/30/20</th>\n",
       "      <th>1/31/20</th>\n",
       "      <th>...</th>\n",
       "      <th>4/9/20</th>\n",
       "      <th>4/10/20</th>\n",
       "      <th>4/11/20</th>\n",
       "      <th>4/12/20</th>\n",
       "      <th>4/13/20</th>\n",
       "      <th>4/14/20</th>\n",
       "      <th>4/15/20</th>\n",
       "      <th>4/16/20</th>\n",
       "      <th>4/17/20</th>\n",
       "      <th>4/18/20</th>\n",
       "    </tr>\n",
       "  </thead>\n",
       "  <tbody>\n",
       "    <tr>\n",
       "      <th>82</th>\n",
       "      <td>0</td>\n",
       "      <td>0</td>\n",
       "      <td>0</td>\n",
       "      <td>0</td>\n",
       "      <td>0</td>\n",
       "      <td>0</td>\n",
       "      <td>0</td>\n",
       "      <td>0</td>\n",
       "      <td>0</td>\n",
       "      <td>0</td>\n",
       "      <td>...</td>\n",
       "      <td>69</td>\n",
       "      <td>80</td>\n",
       "      <td>100</td>\n",
       "      <td>109</td>\n",
       "      <td>112</td>\n",
       "      <td>127</td>\n",
       "      <td>131</td>\n",
       "      <td>144</td>\n",
       "      <td>153</td>\n",
       "      <td>153</td>\n",
       "    </tr>\n",
       "  </tbody>\n",
       "</table>\n",
       "<p>1 rows × 88 columns</p>\n",
       "</div>"
      ],
      "text/plain": [
       "    1/22/20  1/23/20  1/24/20  1/25/20  1/26/20  1/27/20  1/28/20  1/29/20  \\\n",
       "82        0        0        0        0        0        0        0        0   \n",
       "\n",
       "    1/30/20  1/31/20  ...  4/9/20  4/10/20  4/11/20  4/12/20  4/13/20  \\\n",
       "82        0        0  ...      69       80      100      109      112   \n",
       "\n",
       "    4/14/20  4/15/20  4/16/20  4/17/20  4/18/20  \n",
       "82      127      131      144      153      153  \n",
       "\n",
       "[1 rows x 88 columns]"
      ]
     },
     "execution_count": 175,
     "metadata": {},
     "output_type": "execute_result"
    }
   ],
   "source": [
    "deathcasesColombia.drop(['Province/State', 'Country/Region', 'Lat', 'Long'], axis=1, inplace=True)\n",
    "deathcasesColombia.head()"
   ]
  },
  {
   "cell_type": "markdown",
   "metadata": {},
   "source": [
    "Para generar las gráficas se requiere que los datos estén en columna, por lo que se realiza la transposición de los datos que están dados en fila."
   ]
  },
  {
   "cell_type": "code",
   "execution_count": 163,
   "metadata": {},
   "outputs": [
    {
     "data": {
      "text/html": [
       "<div>\n",
       "<style scoped>\n",
       "    .dataframe tbody tr th:only-of-type {\n",
       "        vertical-align: middle;\n",
       "    }\n",
       "\n",
       "    .dataframe tbody tr th {\n",
       "        vertical-align: top;\n",
       "    }\n",
       "\n",
       "    .dataframe thead th {\n",
       "        text-align: right;\n",
       "    }\n",
       "</style>\n",
       "<table border=\"1\" class=\"dataframe\">\n",
       "  <thead>\n",
       "    <tr style=\"text-align: right;\">\n",
       "      <th></th>\n",
       "      <th>cases</th>\n",
       "    </tr>\n",
       "  </thead>\n",
       "  <tbody>\n",
       "    <tr>\n",
       "      <th>1/22/20</th>\n",
       "      <td>0</td>\n",
       "    </tr>\n",
       "    <tr>\n",
       "      <th>1/23/20</th>\n",
       "      <td>0</td>\n",
       "    </tr>\n",
       "    <tr>\n",
       "      <th>1/24/20</th>\n",
       "      <td>0</td>\n",
       "    </tr>\n",
       "    <tr>\n",
       "      <th>1/25/20</th>\n",
       "      <td>0</td>\n",
       "    </tr>\n",
       "    <tr>\n",
       "      <th>1/26/20</th>\n",
       "      <td>0</td>\n",
       "    </tr>\n",
       "  </tbody>\n",
       "</table>\n",
       "</div>"
      ],
      "text/plain": [
       "         cases\n",
       "1/22/20      0\n",
       "1/23/20      0\n",
       "1/24/20      0\n",
       "1/25/20      0\n",
       "1/26/20      0"
      ]
     },
     "execution_count": 163,
     "metadata": {},
     "output_type": "execute_result"
    }
   ],
   "source": [
    "confirmedcasesColombia_transposed = confirmedcasesColombia.T\n",
    "confirmedcasesColombia_transposed.columns = ['cases']\n",
    "confirmedcasesColombia_transposed.head()"
   ]
  },
  {
   "cell_type": "code",
   "execution_count": 176,
   "metadata": {},
   "outputs": [
    {
     "data": {
      "text/html": [
       "<div>\n",
       "<style scoped>\n",
       "    .dataframe tbody tr th:only-of-type {\n",
       "        vertical-align: middle;\n",
       "    }\n",
       "\n",
       "    .dataframe tbody tr th {\n",
       "        vertical-align: top;\n",
       "    }\n",
       "\n",
       "    .dataframe thead th {\n",
       "        text-align: right;\n",
       "    }\n",
       "</style>\n",
       "<table border=\"1\" class=\"dataframe\">\n",
       "  <thead>\n",
       "    <tr style=\"text-align: right;\">\n",
       "      <th></th>\n",
       "      <th>cases</th>\n",
       "    </tr>\n",
       "  </thead>\n",
       "  <tbody>\n",
       "    <tr>\n",
       "      <th>1/22/20</th>\n",
       "      <td>0</td>\n",
       "    </tr>\n",
       "    <tr>\n",
       "      <th>1/23/20</th>\n",
       "      <td>0</td>\n",
       "    </tr>\n",
       "    <tr>\n",
       "      <th>1/24/20</th>\n",
       "      <td>0</td>\n",
       "    </tr>\n",
       "    <tr>\n",
       "      <th>1/25/20</th>\n",
       "      <td>0</td>\n",
       "    </tr>\n",
       "    <tr>\n",
       "      <th>1/26/20</th>\n",
       "      <td>0</td>\n",
       "    </tr>\n",
       "  </tbody>\n",
       "</table>\n",
       "</div>"
      ],
      "text/plain": [
       "         cases\n",
       "1/22/20      0\n",
       "1/23/20      0\n",
       "1/24/20      0\n",
       "1/25/20      0\n",
       "1/26/20      0"
      ]
     },
     "execution_count": 176,
     "metadata": {},
     "output_type": "execute_result"
    }
   ],
   "source": [
    "deathcasesColombia_transposed = deathcasesColombia.T\n",
    "deathcasesColombia_transposed.columns = ['cases']\n",
    "deathcasesColombia_transposed.head()"
   ]
  },
  {
   "cell_type": "markdown",
   "metadata": {},
   "source": [
    "Graficando los datos desde el primer día que se cuenta con información"
   ]
  },
  {
   "cell_type": "code",
   "execution_count": 171,
   "metadata": {},
   "outputs": [
    {
     "data": {
      "text/plain": [
       "<matplotlib.axes._subplots.AxesSubplot at 0x2344733de10>"
      ]
     },
     "execution_count": 171,
     "metadata": {},
     "output_type": "execute_result"
    },
    {
     "data": {
      "image/png": "[encoded data removed]",
      "text/plain": [
       "<Figure size 864x504 with 1 Axes>"
      ]
     },
     "metadata": {
      "needs_background": "light"
     },
     "output_type": "display_data"
    }
   ],
   "source": [
    "days = confirmedcasesColombia_transposed.index.values\n",
    "confirmedcasesColombia_transposed['cases'].plot(figsize=(12,7))"
   ]
  },
  {
   "cell_type": "code",
   "execution_count": 177,
   "metadata": {},
   "outputs": [
    {
     "data": {
      "text/plain": [
       "<matplotlib.axes._subplots.AxesSubplot at 0x23446684e48>"
      ]
     },
     "execution_count": 177,
     "metadata": {},
     "output_type": "execute_result"
    },
    {
     "data": {
      "image/png": "[encoded data removed]",
      "text/plain": [
       "<Figure size 864x504 with 1 Axes>"
      ]
     },
     "metadata": {
      "needs_background": "light"
     },
     "output_type": "display_data"
    }
   ],
   "source": [
    "days = deathcasesColombia_transposed.index.values\n",
    "deathcasesColombia_transposed['cases'].plot(figsize=(12,7))"
   ]
  },
  {
   "cell_type": "markdown",
   "metadata": {},
   "source": [
    "Nos interesa únicamente a partir de las fechas en donde empezaron a tenerse casos confirmados y decesos"
   ]
  },
  {
   "cell_type": "code",
   "execution_count": 167,
   "metadata": {
    "collapsed": true
   },
   "outputs": [
    {
     "data": {
      "text/html": [
       "<div>\n",
       "<style scoped>\n",
       "    .dataframe tbody tr th:only-of-type {\n",
       "        vertical-align: middle;\n",
       "    }\n",
       "\n",
       "    .dataframe tbody tr th {\n",
       "        vertical-align: top;\n",
       "    }\n",
       "\n",
       "    .dataframe thead th {\n",
       "        text-align: right;\n",
       "    }\n",
       "</style>\n",
       "<table border=\"1\" class=\"dataframe\">\n",
       "  <thead>\n",
       "    <tr style=\"text-align: right;\">\n",
       "      <th></th>\n",
       "      <th>cases</th>\n",
       "    </tr>\n",
       "  </thead>\n",
       "  <tbody>\n",
       "    <tr>\n",
       "      <th>3/6/20</th>\n",
       "      <td>1</td>\n",
       "    </tr>\n",
       "    <tr>\n",
       "      <th>3/7/20</th>\n",
       "      <td>1</td>\n",
       "    </tr>\n",
       "    <tr>\n",
       "      <th>3/8/20</th>\n",
       "      <td>1</td>\n",
       "    </tr>\n",
       "    <tr>\n",
       "      <th>3/9/20</th>\n",
       "      <td>1</td>\n",
       "    </tr>\n",
       "    <tr>\n",
       "      <th>3/10/20</th>\n",
       "      <td>3</td>\n",
       "    </tr>\n",
       "    <tr>\n",
       "      <th>3/11/20</th>\n",
       "      <td>9</td>\n",
       "    </tr>\n",
       "    <tr>\n",
       "      <th>3/12/20</th>\n",
       "      <td>9</td>\n",
       "    </tr>\n",
       "    <tr>\n",
       "      <th>3/13/20</th>\n",
       "      <td>13</td>\n",
       "    </tr>\n",
       "    <tr>\n",
       "      <th>3/14/20</th>\n",
       "      <td>22</td>\n",
       "    </tr>\n",
       "    <tr>\n",
       "      <th>3/15/20</th>\n",
       "      <td>34</td>\n",
       "    </tr>\n",
       "    <tr>\n",
       "      <th>3/16/20</th>\n",
       "      <td>54</td>\n",
       "    </tr>\n",
       "    <tr>\n",
       "      <th>3/17/20</th>\n",
       "      <td>65</td>\n",
       "    </tr>\n",
       "    <tr>\n",
       "      <th>3/18/20</th>\n",
       "      <td>93</td>\n",
       "    </tr>\n",
       "    <tr>\n",
       "      <th>3/19/20</th>\n",
       "      <td>102</td>\n",
       "    </tr>\n",
       "    <tr>\n",
       "      <th>3/20/20</th>\n",
       "      <td>128</td>\n",
       "    </tr>\n",
       "    <tr>\n",
       "      <th>3/21/20</th>\n",
       "      <td>196</td>\n",
       "    </tr>\n",
       "    <tr>\n",
       "      <th>3/22/20</th>\n",
       "      <td>231</td>\n",
       "    </tr>\n",
       "    <tr>\n",
       "      <th>3/23/20</th>\n",
       "      <td>277</td>\n",
       "    </tr>\n",
       "    <tr>\n",
       "      <th>3/24/20</th>\n",
       "      <td>378</td>\n",
       "    </tr>\n",
       "    <tr>\n",
       "      <th>3/25/20</th>\n",
       "      <td>470</td>\n",
       "    </tr>\n",
       "    <tr>\n",
       "      <th>3/26/20</th>\n",
       "      <td>491</td>\n",
       "    </tr>\n",
       "    <tr>\n",
       "      <th>3/27/20</th>\n",
       "      <td>539</td>\n",
       "    </tr>\n",
       "    <tr>\n",
       "      <th>3/28/20</th>\n",
       "      <td>608</td>\n",
       "    </tr>\n",
       "    <tr>\n",
       "      <th>3/29/20</th>\n",
       "      <td>702</td>\n",
       "    </tr>\n",
       "    <tr>\n",
       "      <th>3/30/20</th>\n",
       "      <td>798</td>\n",
       "    </tr>\n",
       "    <tr>\n",
       "      <th>3/31/20</th>\n",
       "      <td>906</td>\n",
       "    </tr>\n",
       "    <tr>\n",
       "      <th>4/1/20</th>\n",
       "      <td>1065</td>\n",
       "    </tr>\n",
       "    <tr>\n",
       "      <th>4/2/20</th>\n",
       "      <td>1161</td>\n",
       "    </tr>\n",
       "    <tr>\n",
       "      <th>4/3/20</th>\n",
       "      <td>1267</td>\n",
       "    </tr>\n",
       "    <tr>\n",
       "      <th>4/4/20</th>\n",
       "      <td>1406</td>\n",
       "    </tr>\n",
       "    <tr>\n",
       "      <th>4/5/20</th>\n",
       "      <td>1485</td>\n",
       "    </tr>\n",
       "    <tr>\n",
       "      <th>4/6/20</th>\n",
       "      <td>1579</td>\n",
       "    </tr>\n",
       "    <tr>\n",
       "      <th>4/7/20</th>\n",
       "      <td>1780</td>\n",
       "    </tr>\n",
       "    <tr>\n",
       "      <th>4/8/20</th>\n",
       "      <td>2054</td>\n",
       "    </tr>\n",
       "    <tr>\n",
       "      <th>4/9/20</th>\n",
       "      <td>2223</td>\n",
       "    </tr>\n",
       "    <tr>\n",
       "      <th>4/10/20</th>\n",
       "      <td>2473</td>\n",
       "    </tr>\n",
       "    <tr>\n",
       "      <th>4/11/20</th>\n",
       "      <td>2709</td>\n",
       "    </tr>\n",
       "    <tr>\n",
       "      <th>4/12/20</th>\n",
       "      <td>2776</td>\n",
       "    </tr>\n",
       "    <tr>\n",
       "      <th>4/13/20</th>\n",
       "      <td>2852</td>\n",
       "    </tr>\n",
       "    <tr>\n",
       "      <th>4/14/20</th>\n",
       "      <td>2979</td>\n",
       "    </tr>\n",
       "    <tr>\n",
       "      <th>4/15/20</th>\n",
       "      <td>3105</td>\n",
       "    </tr>\n",
       "    <tr>\n",
       "      <th>4/16/20</th>\n",
       "      <td>3233</td>\n",
       "    </tr>\n",
       "    <tr>\n",
       "      <th>4/17/20</th>\n",
       "      <td>3439</td>\n",
       "    </tr>\n",
       "  </tbody>\n",
       "</table>\n",
       "</div>"
      ],
      "text/plain": [
       "         cases\n",
       "3/6/20       1\n",
       "3/7/20       1\n",
       "3/8/20       1\n",
       "3/9/20       1\n",
       "3/10/20      3\n",
       "3/11/20      9\n",
       "3/12/20      9\n",
       "3/13/20     13\n",
       "3/14/20     22\n",
       "3/15/20     34\n",
       "3/16/20     54\n",
       "3/17/20     65\n",
       "3/18/20     93\n",
       "3/19/20    102\n",
       "3/20/20    128\n",
       "3/21/20    196\n",
       "3/22/20    231\n",
       "3/23/20    277\n",
       "3/24/20    378\n",
       "3/25/20    470\n",
       "3/26/20    491\n",
       "3/27/20    539\n",
       "3/28/20    608\n",
       "3/29/20    702\n",
       "3/30/20    798\n",
       "3/31/20    906\n",
       "4/1/20    1065\n",
       "4/2/20    1161\n",
       "4/3/20    1267\n",
       "4/4/20    1406\n",
       "4/5/20    1485\n",
       "4/6/20    1579\n",
       "4/7/20    1780\n",
       "4/8/20    2054\n",
       "4/9/20    2223\n",
       "4/10/20   2473\n",
       "4/11/20   2709\n",
       "4/12/20   2776\n",
       "4/13/20   2852\n",
       "4/14/20   2979\n",
       "4/15/20   3105\n",
       "4/16/20   3233\n",
       "4/17/20   3439"
      ]
     },
     "execution_count": 167,
     "metadata": {},
     "output_type": "execute_result"
    }
   ],
   "source": [
    "confirmedcasesColombia_transposed_with_cases = confirmedcasesColombia_transposed[confirmedcasesColombia_transposed['cases'] > 0]\n",
    "confirmedcasesColombia_transposed_with_cases.head(100)"
   ]
  },
  {
   "cell_type": "code",
   "execution_count": 169,
   "metadata": {
    "collapsed": true
   },
   "outputs": [
    {
     "data": {
      "text/html": [
       "<div>\n",
       "<style scoped>\n",
       "    .dataframe tbody tr th:only-of-type {\n",
       "        vertical-align: middle;\n",
       "    }\n",
       "\n",
       "    .dataframe tbody tr th {\n",
       "        vertical-align: top;\n",
       "    }\n",
       "\n",
       "    .dataframe thead th {\n",
       "        text-align: right;\n",
       "    }\n",
       "</style>\n",
       "<table border=\"1\" class=\"dataframe\">\n",
       "  <thead>\n",
       "    <tr style=\"text-align: right;\">\n",
       "      <th></th>\n",
       "      <th>cases</th>\n",
       "    </tr>\n",
       "  </thead>\n",
       "  <tbody>\n",
       "    <tr>\n",
       "      <th>3/22/20</th>\n",
       "      <td>2</td>\n",
       "    </tr>\n",
       "    <tr>\n",
       "      <th>3/23/20</th>\n",
       "      <td>3</td>\n",
       "    </tr>\n",
       "    <tr>\n",
       "      <th>3/24/20</th>\n",
       "      <td>3</td>\n",
       "    </tr>\n",
       "    <tr>\n",
       "      <th>3/25/20</th>\n",
       "      <td>4</td>\n",
       "    </tr>\n",
       "    <tr>\n",
       "      <th>3/26/20</th>\n",
       "      <td>6</td>\n",
       "    </tr>\n",
       "    <tr>\n",
       "      <th>3/27/20</th>\n",
       "      <td>6</td>\n",
       "    </tr>\n",
       "    <tr>\n",
       "      <th>3/28/20</th>\n",
       "      <td>6</td>\n",
       "    </tr>\n",
       "    <tr>\n",
       "      <th>3/29/20</th>\n",
       "      <td>10</td>\n",
       "    </tr>\n",
       "    <tr>\n",
       "      <th>3/30/20</th>\n",
       "      <td>12</td>\n",
       "    </tr>\n",
       "    <tr>\n",
       "      <th>3/31/20</th>\n",
       "      <td>16</td>\n",
       "    </tr>\n",
       "    <tr>\n",
       "      <th>4/1/20</th>\n",
       "      <td>17</td>\n",
       "    </tr>\n",
       "    <tr>\n",
       "      <th>4/2/20</th>\n",
       "      <td>19</td>\n",
       "    </tr>\n",
       "    <tr>\n",
       "      <th>4/3/20</th>\n",
       "      <td>25</td>\n",
       "    </tr>\n",
       "    <tr>\n",
       "      <th>4/4/20</th>\n",
       "      <td>32</td>\n",
       "    </tr>\n",
       "    <tr>\n",
       "      <th>4/5/20</th>\n",
       "      <td>35</td>\n",
       "    </tr>\n",
       "    <tr>\n",
       "      <th>4/6/20</th>\n",
       "      <td>46</td>\n",
       "    </tr>\n",
       "    <tr>\n",
       "      <th>4/7/20</th>\n",
       "      <td>50</td>\n",
       "    </tr>\n",
       "    <tr>\n",
       "      <th>4/8/20</th>\n",
       "      <td>54</td>\n",
       "    </tr>\n",
       "    <tr>\n",
       "      <th>4/9/20</th>\n",
       "      <td>69</td>\n",
       "    </tr>\n",
       "    <tr>\n",
       "      <th>4/10/20</th>\n",
       "      <td>80</td>\n",
       "    </tr>\n",
       "    <tr>\n",
       "      <th>4/11/20</th>\n",
       "      <td>100</td>\n",
       "    </tr>\n",
       "    <tr>\n",
       "      <th>4/12/20</th>\n",
       "      <td>109</td>\n",
       "    </tr>\n",
       "    <tr>\n",
       "      <th>4/13/20</th>\n",
       "      <td>112</td>\n",
       "    </tr>\n",
       "    <tr>\n",
       "      <th>4/14/20</th>\n",
       "      <td>127</td>\n",
       "    </tr>\n",
       "    <tr>\n",
       "      <th>4/15/20</th>\n",
       "      <td>131</td>\n",
       "    </tr>\n",
       "    <tr>\n",
       "      <th>4/16/20</th>\n",
       "      <td>144</td>\n",
       "    </tr>\n",
       "    <tr>\n",
       "      <th>4/17/20</th>\n",
       "      <td>153</td>\n",
       "    </tr>\n",
       "    <tr>\n",
       "      <th>4/18/20</th>\n",
       "      <td>153</td>\n",
       "    </tr>\n",
       "  </tbody>\n",
       "</table>\n",
       "</div>"
      ],
      "text/plain": [
       "         cases\n",
       "3/22/20      2\n",
       "3/23/20      3\n",
       "3/24/20      3\n",
       "3/25/20      4\n",
       "3/26/20      6\n",
       "3/27/20      6\n",
       "3/28/20      6\n",
       "3/29/20     10\n",
       "3/30/20     12\n",
       "3/31/20     16\n",
       "4/1/20      17\n",
       "4/2/20      19\n",
       "4/3/20      25\n",
       "4/4/20      32\n",
       "4/5/20      35\n",
       "4/6/20      46\n",
       "4/7/20      50\n",
       "4/8/20      54\n",
       "4/9/20      69\n",
       "4/10/20     80\n",
       "4/11/20    100\n",
       "4/12/20    109\n",
       "4/13/20    112\n",
       "4/14/20    127\n",
       "4/15/20    131\n",
       "4/16/20    144\n",
       "4/17/20    153\n",
       "4/18/20    153"
      ]
     },
     "execution_count": 169,
     "metadata": {},
     "output_type": "execute_result"
    }
   ],
   "source": [
    "deathcasesColombia_transposed_with_cases = deathcasesColombia_transposed[deathcasesColombia_transposed['cases'] > 0]\n",
    "deathcasesColombia_transposed_with_cases.head(100)"
   ]
  },
  {
   "cell_type": "code",
   "execution_count": 168,
   "metadata": {},
   "outputs": [
    {
     "data": {
      "text/plain": [
       "<matplotlib.axes._subplots.AxesSubplot at 0x23447f5b128>"
      ]
     },
     "execution_count": 168,
     "metadata": {},
     "output_type": "execute_result"
    },
    {
     "data": {
      "image/png": "[encoded data removed]",
      "text/plain": [
       "<Figure size 864x504 with 1 Axes>"
      ]
     },
     "metadata": {
      "needs_background": "light"
     },
     "output_type": "display_data"
    }
   ],
   "source": [
    "confirmedcasesColombia_transposed_with_cases['cases'].plot(figsize=(12,7))"
   ]
  },
  {
   "cell_type": "code",
   "execution_count": 170,
   "metadata": {},
   "outputs": [
    {
     "data": {
      "text/plain": [
       "<matplotlib.axes._subplots.AxesSubplot at 0x2344779e320>"
      ]
     },
     "execution_count": 170,
     "metadata": {},
     "output_type": "execute_result"
    },
    {
     "data": {
      "image/png": "[encoded data removed]",
      "text/plain": [
       "<Figure size 864x504 with 1 Axes>"
      ]
     },
     "metadata": {
      "needs_background": "light"
     },
     "output_type": "display_data"
    }
   ],
   "source": [
    "deathcasesColombia_transposed_with_cases['cases'].plot(figsize=(12,7))"
   ]
  },
  {
   "cell_type": "markdown",
   "metadata": {},
   "source": [
    "## Comparación con otros países"
   ]
  },
  {
   "cell_type": "markdown",
   "metadata": {},
   "source": [
    "Ya obtumvimos la información de los casos confirmados y los decesos en los 43 días desde hace que se detectó el primer positivo. Ahora resulta interesante, o mejor dicho, importante, comparar el comportamiento de estos casos con otros países para entender el comportamiento que se ha tenido en Colombia y dar elementos para analizar y proponer posibles planes de contingencia sobre la pandemia.\n",
    "\n",
    "Vamos a realizar la comparación con los siguientes países: \n",
    "\n",
    "- ***Europa:*** Italia, España, Francia, Alemania, por ser los más representativos (con información \"creíble\")\n",
    "\n",
    "\n",
    "- ***América General:*** USA, México, Chile y Argentina\n",
    "\n",
    "\n",
    "- ***Paises fronterisos:*** Panamá, Ecuador, Perú, Venezuela y Brasil, por ser paísis fronterizos"
   ]
  },
  {
   "cell_type": "code",
   "execution_count": 240,
   "metadata": {},
   "outputs": [
    {
     "name": "stdout",
     "output_type": "stream",
     "text": [
      "Italy\n",
      "Spain\n",
      "Germany\n"
     ]
    },
    {
     "name": "stderr",
     "output_type": "stream",
     "text": [
      "C:\\Users\\Lenovo\\Anaconda3\\lib\\site-packages\\pandas\\core\\frame.py:3997: SettingWithCopyWarning: \n",
      "A value is trying to be set on a copy of a slice from a DataFrame\n",
      "\n",
      "See the caveats in the documentation: https://pandas.pydata.org/pandas-docs/stable/user_guide/indexing.html#returning-a-view-versus-a-copy\n",
      "  errors=errors,\n",
      "C:\\Users\\Lenovo\\Anaconda3\\lib\\site-packages\\pandas\\core\\frame.py:3997: SettingWithCopyWarning: \n",
      "A value is trying to be set on a copy of a slice from a DataFrame\n",
      "\n",
      "See the caveats in the documentation: https://pandas.pydata.org/pandas-docs/stable/user_guide/indexing.html#returning-a-view-versus-a-copy\n",
      "  errors=errors,\n",
      "C:\\Users\\Lenovo\\Anaconda3\\lib\\site-packages\\pandas\\core\\frame.py:3997: SettingWithCopyWarning: \n",
      "A value is trying to be set on a copy of a slice from a DataFrame\n",
      "\n",
      "See the caveats in the documentation: https://pandas.pydata.org/pandas-docs/stable/user_guide/indexing.html#returning-a-view-versus-a-copy\n",
      "  errors=errors,\n"
     ]
    },
    {
     "data": {
      "image/png": "[encoded data removed]",
      "text/plain": [
       "<Figure size 864x504 with 1 Axes>"
      ]
     },
     "metadata": {
      "needs_background": "light"
     },
     "output_type": "display_data"
    }
   ],
   "source": [
    "countries = [\"Italy\",\"Spain\",\"Germany\"]\n",
    "\n",
    "for country in countries:\n",
    "    print(country)\n",
    "    confirmedcases = confirmedCasesGlobal.loc[confirmedCasesGlobal['Country/Region'] == country]\n",
    "    deathcases = deathsCasesGlobal.loc[deathsCasesGlobal['Country/Region'] == country]\n",
    "    confirmedcases.drop(['Province/State', 'Country/Region', 'Lat', 'Long'], axis=1, inplace=True)\n",
    "    confirmedcases_transposed = confirmedcases.T\n",
    "    confirmedcases_transposed.columns = ['cases']\n",
    "    days = confirmedcases_transposed.index.values\n",
    "    confirmedcases_transposed_with_cases = confirmedcases_transposed[confirmedcases_transposed['cases'] > 100]\n",
    "    confirmedcases_transposed_with_cases['cases'].plot(figsize = (12,7), label = country, legend=False)\n",
    "plt.legend()\n",
    "plt.show()"
   ]
  },
  {
   "cell_type": "markdown",
   "metadata": {},
   "source": [
    "A continuación se hará un análisis comparativo con la situación en países con los que tenemos frontera, ya que es con ellos con los que podría haber una posibilidad mayor de nuevos casos dada la permeabilidad en ellas, pero haremos las siguientes consideraciones:\n",
    "\n",
    "- Se excluye Brasil pues consideraré que la amazonía es un \"tapón natural\" que impide que haya cierto flujo de posibles contagiados hacia nuestro territorio. \n",
    "\n",
    "\n",
    "- Igualmente podría pensarse de Panamá (Tapón del Darien) pero por la proximidad de centros poblados, así como lo permeable de la frontera por la situación social local, se considerará. \n",
    "\n",
    "\n",
    "- El análisis con Venezuela deberá ser visto con mucho recelo, dada la poca información disponible (además de lo poco creíble que se presenta) \n",
    "\n",
    "\n",
    "- Solo restan Perú y Ecuador con los que sí se puede considerar que se cuenta con una mejor cantidad y calidad de información."
   ]
  },
  {
   "cell_type": "code",
   "execution_count": 245,
   "metadata": {},
   "outputs": [
    {
     "name": "stdout",
     "output_type": "stream",
     "text": [
      "Panama\n",
      "Ecuador\n",
      "Peru\n",
      "Colombia\n"
     ]
    },
    {
     "name": "stderr",
     "output_type": "stream",
     "text": [
      "C:\\Users\\Lenovo\\Anaconda3\\lib\\site-packages\\pandas\\core\\frame.py:3997: SettingWithCopyWarning: \n",
      "A value is trying to be set on a copy of a slice from a DataFrame\n",
      "\n",
      "See the caveats in the documentation: https://pandas.pydata.org/pandas-docs/stable/user_guide/indexing.html#returning-a-view-versus-a-copy\n",
      "  errors=errors,\n",
      "C:\\Users\\Lenovo\\Anaconda3\\lib\\site-packages\\pandas\\core\\frame.py:3997: SettingWithCopyWarning: \n",
      "A value is trying to be set on a copy of a slice from a DataFrame\n",
      "\n",
      "See the caveats in the documentation: https://pandas.pydata.org/pandas-docs/stable/user_guide/indexing.html#returning-a-view-versus-a-copy\n",
      "  errors=errors,\n",
      "C:\\Users\\Lenovo\\Anaconda3\\lib\\site-packages\\pandas\\core\\frame.py:3997: SettingWithCopyWarning: \n",
      "A value is trying to be set on a copy of a slice from a DataFrame\n",
      "\n",
      "See the caveats in the documentation: https://pandas.pydata.org/pandas-docs/stable/user_guide/indexing.html#returning-a-view-versus-a-copy\n",
      "  errors=errors,\n",
      "C:\\Users\\Lenovo\\Anaconda3\\lib\\site-packages\\pandas\\core\\frame.py:3997: SettingWithCopyWarning: \n",
      "A value is trying to be set on a copy of a slice from a DataFrame\n",
      "\n",
      "See the caveats in the documentation: https://pandas.pydata.org/pandas-docs/stable/user_guide/indexing.html#returning-a-view-versus-a-copy\n",
      "  errors=errors,\n"
     ]
    },
    {
     "data": {
      "image/png": "[encoded data removed]",
      "text/plain": [
       "<Figure size 864x504 with 1 Axes>"
      ]
     },
     "metadata": {
      "needs_background": "light"
     },
     "output_type": "display_data"
    }
   ],
   "source": [
    "# Casos confirmados en paises limítrofes con Colombia\n",
    "\n",
    "countries = [\"Panama\", \"Ecuador\", \"Peru\", \"Colombia\"] # ,\"Venezuela\"\n",
    "\n",
    "for country in countries:\n",
    "    print(country)\n",
    "    confirmedcases = confirmedCasesGlobal.loc[confirmedCasesGlobal['Country/Region'] == country]\n",
    "    confirmedcases.drop(['Province/State', 'Country/Region', 'Lat', 'Long'], axis=1, inplace=True)\n",
    "    confirmedcases_transposed = confirmedcases.T\n",
    "    confirmedcases_transposed.columns = ['cases']\n",
    "    days = confirmedcases_transposed.index.values\n",
    "    confirmedcases_transposed_with_cases = confirmedcases_transposed[confirmedcases_transposed['cases'] > 100]\n",
    "    confirmedcases_transposed_with_cases['cases'].plot(figsize = (12,7), label = country, legend=False)\n",
    "plt.legend()\n",
    "plt.show()"
   ]
  },
  {
   "cell_type": "code",
   "execution_count": 246,
   "metadata": {},
   "outputs": [
    {
     "name": "stderr",
     "output_type": "stream",
     "text": [
      "C:\\Users\\Lenovo\\Anaconda3\\lib\\site-packages\\pandas\\core\\frame.py:3997: SettingWithCopyWarning: \n",
      "A value is trying to be set on a copy of a slice from a DataFrame\n",
      "\n",
      "See the caveats in the documentation: https://pandas.pydata.org/pandas-docs/stable/user_guide/indexing.html#returning-a-view-versus-a-copy\n",
      "  errors=errors,\n",
      "C:\\Users\\Lenovo\\Anaconda3\\lib\\site-packages\\pandas\\core\\frame.py:3997: SettingWithCopyWarning: \n",
      "A value is trying to be set on a copy of a slice from a DataFrame\n",
      "\n",
      "See the caveats in the documentation: https://pandas.pydata.org/pandas-docs/stable/user_guide/indexing.html#returning-a-view-versus-a-copy\n",
      "  errors=errors,\n",
      "C:\\Users\\Lenovo\\Anaconda3\\lib\\site-packages\\pandas\\core\\frame.py:3997: SettingWithCopyWarning: \n",
      "A value is trying to be set on a copy of a slice from a DataFrame\n",
      "\n",
      "See the caveats in the documentation: https://pandas.pydata.org/pandas-docs/stable/user_guide/indexing.html#returning-a-view-versus-a-copy\n",
      "  errors=errors,\n",
      "C:\\Users\\Lenovo\\Anaconda3\\lib\\site-packages\\pandas\\core\\frame.py:3997: SettingWithCopyWarning: \n",
      "A value is trying to be set on a copy of a slice from a DataFrame\n",
      "\n",
      "See the caveats in the documentation: https://pandas.pydata.org/pandas-docs/stable/user_guide/indexing.html#returning-a-view-versus-a-copy\n",
      "  errors=errors,\n"
     ]
    },
    {
     "data": {
      "image/png": "[encoded data removed]",
      "text/plain": [
       "<Figure size 864x504 with 1 Axes>"
      ]
     },
     "metadata": {
      "needs_background": "light"
     },
     "output_type": "display_data"
    }
   ],
   "source": [
    "# Casos confirmados en paises limítrofes con Colombia\n",
    "\n",
    "countries = [\"Panama\", \"Ecuador\", \"Peru\", \"Colombia\"] #, \"Venezuela\"\n",
    "\n",
    "for country in countries:\n",
    "    deathcases = deathsCasesGlobal.loc[deathsCasesGlobal['Country/Region'] == country]\n",
    "    deathcases.drop(['Province/State', 'Country/Region', 'Lat', 'Long'], axis=1, inplace=True)\n",
    "    deathcases_transposed = deathcases.T\n",
    "    deathcases_transposed.columns = ['cases']\n",
    "    days = deathcases_transposed.index.values\n",
    "    deathcases_transposed_with_cases = deathcases_transposed[deathcases_transposed['cases'] > 0]\n",
    "    deathcases_transposed_with_cases['cases'].plot(figsize = (12,7), label = country, legend=False)\n",
    "plt.legend()\n",
    "plt.show()"
   ]
  },
  {
   "cell_type": "code",
   "execution_count": 179,
   "metadata": {},
   "outputs": [
    {
     "data": {
      "text/plain": [
       "43"
      ]
     },
     "execution_count": 179,
     "metadata": {},
     "output_type": "execute_result"
    }
   ],
   "source": [
    "len(confirmedcasesColombia_transposed_with_cases)"
   ]
  },
  {
   "cell_type": "markdown",
   "metadata": {},
   "source": [
    "Con esta información, que es tomada en campo, es decir, es la que daremos como \"*real*\", ya que es la información que ofrecen las autoridades colombianas, se puede realizar un estudio de tendencia y compararlo con los modelos descritos anteriormente, para determinar qué tan fiables pueden llegar a ser, entendiendo que se deben ajustar los parámetros lo mejor posible para que también sirvan para proyecciones.\n",
    "\n",
    "Vamos a convertir la información en un arreglo a través de la biblioteca `numpy`"
   ]
  },
  {
   "cell_type": "code",
   "execution_count": 192,
   "metadata": {},
   "outputs": [
    {
     "data": {
      "text/plain": [
       "array([   1,    1,    1,    1,    3,    9,    9,   13,   22,   34,   54,\n",
       "         65,   93,  102,  128,  196,  231,  277,  378,  470,  491,  539,\n",
       "        608,  702,  798,  906, 1065, 1161, 1267, 1406, 1485, 1579, 1780,\n",
       "       2054, 2223, 2473, 2709, 2776, 2852, 2979, 3105, 3233, 3439],\n",
       "      dtype=int64)"
      ]
     },
     "execution_count": 192,
     "metadata": {},
     "output_type": "execute_result"
    }
   ],
   "source": [
    "Yconfirmed = np.array(confirmedcasesColombia_transposed_with_cases['cases'].values)\n",
    "Yconfirmed"
   ]
  },
  {
   "cell_type": "code",
   "execution_count": 184,
   "metadata": {},
   "outputs": [
    {
     "data": {
      "text/plain": [
       "array([  2,   3,   3,   4,   6,   6,   6,  10,  12,  16,  17,  19,  25,\n",
       "        32,  35,  46,  50,  54,  69,  80, 100, 109, 112, 127, 131, 144,\n",
       "       153, 153], dtype=int64)"
      ]
     },
     "execution_count": 184,
     "metadata": {},
     "output_type": "execute_result"
    }
   ],
   "source": [
    "Ydeath = np.array(deathcasesColombia_transposed_with_cases['cases'].values)\n",
    "Yd"
   ]
  },
  {
   "cell_type": "code",
   "execution_count": 194,
   "metadata": {},
   "outputs": [],
   "source": [
    "X_b = []\n",
    "X_b.append(0)\n",
    "for index in range(1, len(Yconfirmed)):\n",
    "    X_b.append(Yconfirmed[index])\n",
    "X_b = np.array(X_b)"
   ]
  },
  {
   "cell_type": "code",
   "execution_count": 195,
   "metadata": {},
   "outputs": [],
   "source": [
    "X_a = []\n",
    "X_a.append(0)\n",
    "for index in range(1, len(Yconfirmed)):\n",
    "    X_a.append(index)\n",
    "X_a = np.array(X_a)"
   ]
  },
  {
   "cell_type": "code",
   "execution_count": 196,
   "metadata": {
    "collapsed": true
   },
   "outputs": [
    {
     "data": {
      "text/plain": [
       "[[0, 0],\n",
       " [1, 1],\n",
       " [2, 1],\n",
       " [3, 1],\n",
       " [4, 3],\n",
       " [5, 9],\n",
       " [6, 9],\n",
       " [7, 13],\n",
       " [8, 22],\n",
       " [9, 34],\n",
       " [10, 54],\n",
       " [11, 65],\n",
       " [12, 93],\n",
       " [13, 102],\n",
       " [14, 128],\n",
       " [15, 196],\n",
       " [16, 231],\n",
       " [17, 277],\n",
       " [18, 378],\n",
       " [19, 470],\n",
       " [20, 491],\n",
       " [21, 539],\n",
       " [22, 608],\n",
       " [23, 702],\n",
       " [24, 798],\n",
       " [25, 906],\n",
       " [26, 1065],\n",
       " [27, 1161],\n",
       " [28, 1267],\n",
       " [29, 1406],\n",
       " [30, 1485],\n",
       " [31, 1579],\n",
       " [32, 1780],\n",
       " [33, 2054],\n",
       " [34, 2223],\n",
       " [35, 2473],\n",
       " [36, 2709],\n",
       " [37, 2776],\n",
       " [38, 2852],\n",
       " [39, 2979],\n",
       " [40, 3105],\n",
       " [41, 3233],\n",
       " [42, 3439]]"
      ]
     },
     "execution_count": 196,
     "metadata": {},
     "output_type": "execute_result"
    }
   ],
   "source": [
    "X_2d = []\n",
    "for index in range(0, len(X_a)):\n",
    "    X_2d.append([X_a[index], X_b[index]])\n",
    "    \n",
    "X_2d"
   ]
  },
  {
   "cell_type": "code",
   "execution_count": 197,
   "metadata": {},
   "outputs": [],
   "source": [
    "X_reshape = X_b.reshape(-1, 1)\n",
    "reg = LinearRegression().fit(X_reshape, Yconfirmed)"
   ]
  },
  {
   "cell_type": "code",
   "execution_count": 198,
   "metadata": {},
   "outputs": [
    {
     "data": {
      "text/plain": [
       "0.9999999816544333"
      ]
     },
     "execution_count": 198,
     "metadata": {},
     "output_type": "execute_result"
    }
   ],
   "source": [
    "reg.score(X_reshape, Yconfirmed)"
   ]
  },
  {
   "cell_type": "code",
   "execution_count": 199,
   "metadata": {},
   "outputs": [
    {
     "data": {
      "text/plain": [
       "array([0.99998051])"
      ]
     },
     "execution_count": 199,
     "metadata": {},
     "output_type": "execute_result"
    }
   ],
   "source": [
    "reg.coef_"
   ]
  },
  {
   "cell_type": "code",
   "execution_count": 200,
   "metadata": {},
   "outputs": [
    {
     "data": {
      "text/plain": [
       "0.04307100613834791"
      ]
     },
     "execution_count": 200,
     "metadata": {},
     "output_type": "execute_result"
    }
   ],
   "source": [
    "reg.intercept_"
   ]
  },
  {
   "cell_type": "code",
   "execution_count": 201,
   "metadata": {},
   "outputs": [
    {
     "data": {
      "text/plain": [
       "array([509.03315049])"
      ]
     },
     "execution_count": 201,
     "metadata": {},
     "output_type": "execute_result"
    }
   ],
   "source": [
    "reg.predict(np.array([[509]]))"
   ]
  },
  {
   "cell_type": "code",
   "execution_count": 1,
   "metadata": {},
   "outputs": [
    {
     "name": "stdout",
     "output_type": "stream",
     "text": [
      "[            Country  Confirmed  Deaths Case-Fatality  Deaths/100k pop.\n",
      "0                US     839675   46583          5.5%             14.24\n",
      "1             Italy     187327   25085         13.4%             41.51\n",
      "2             Spain     208389   21717         10.4%             46.48\n",
      "3            France     157125   21373         13.6%             31.91\n",
      "4    United Kingdom     134638   18151         13.5%             27.30\n",
      "..              ...        ...     ...           ...               ...\n",
      "131          Malawi         23       3         13.0%              0.02\n",
      "132           Malta        444       3          0.7%              0.62\n",
      "133          Monaco         94       3          3.2%              7.76\n",
      "134        Ethiopia        116       3          2.6%              0.00\n",
      "135          Zambia         74       3          4.1%              0.02\n",
      "\n",
      "[136 rows x 5 columns]]\n"
     ]
    }
   ],
   "source": [
    "import pandas as pd\n",
    "paises=pd.read_html(\"https://coronavirus.jhu.edu/data/mortality\")\n",
    "print(paises)"
   ]
  },
  {
   "cell_type": "markdown",
   "metadata": {},
   "source": [
    "# Ajustando el modelo *S.E.I.R.D.* al caso colombiano"
   ]
  },
  {
   "cell_type": "markdown",
   "metadata": {},
   "source": [
    "Con los modelos descritos anteriormente, se procederá a realizar el ajuste al caso colombiano, con los datos levantados por el [Instituto Nacional de Salud](https://www.ins.gov.co/Noticias/Paginas/Coronavirus.aspx) (INS) y las secretarías de salud de los municipios del pais (principalmente capitales) quiénes son los entes gubernamentales oficiales para emitir los comunicados de la situación de la pandemia en nuestro país.\n",
    "\n",
    "Se va a realizar el ajuste de los datos de campo y compararlos con los modelos parámetros obtenidos en la primera parte de este trabajo. Para ello, vamos a realizar una breve introducción al ajuste de curvas."
   ]
  },
  {
   "cell_type": "markdown",
   "metadata": {},
   "source": [
    "## Ajuste de curvas"
   ]
  },
  {
   "cell_type": "markdown",
   "metadata": {},
   "source": [
    "Los datos que se tienen de la información suministrada por los entes oficiales dia a dia son, entre otros, casos positivos, muertes acumuladas, recuperados, edad, condición (estable en casa, hospital, UCI), etc. Con esta información se pretende ajustar los parámetros que se ingresarán al modelo *S.E.I.R.D.* descrito arriba y contrastar los resultados obtenidos en el modelo con los datos reales.\n",
    "\n",
    "Primero, vamos a generar algunos datos de forma aleatoria siguiendo una distribución normal con algo de ruido."
   ]
  },
  {
   "cell_type": "code",
   "execution_count": 37,
   "metadata": {},
   "outputs": [],
   "source": [
    "import numpy as np\n",
    "import pandas as pd\n",
    "import matplotlib.pyplot as plt\n",
    "from scipy.integrate import odeint\n",
    "import lmfit\n",
    "from lmfit.lineshapes import gaussian, lorentzian"
   ]
  },
  {
   "cell_type": "code",
   "execution_count": 38,
   "metadata": {},
   "outputs": [
    {
     "data": {
      "text/plain": [
       "[<matplotlib.lines.Line2D at 0x1cb3cc9f208>]"
      ]
     },
     "execution_count": 38,
     "metadata": {},
     "output_type": "execute_result"
    },
    {
     "data": {
      "image/png": "[encoded data removed]",
      "text/plain": [
       "<Figure size 432x288 with 1 Axes>"
      ]
     },
     "metadata": {
      "needs_background": "light"
     },
     "output_type": "display_data"
    }
   ],
   "source": [
    "np.random.seed(42)\n",
    "x = np.linspace(0,20.0, 1001)\n",
    "data = (gaussian(x, 21, 6.1, 1.2) + np.random.normal(scale=0.1, size = x.size))\n",
    "plt.plot(x,data)"
   ]
  },
  {
   "cell_type": "markdown",
   "metadata": {},
   "source": [
    "Luego, necesitamos una función que tome el valor de $x$ como primer argumento y los tres parámetros que queremos ajustar (los llamaremos $a$, $b$, $c$) como los siguientes argumentos. Esta es la función que usaremos para ajustar los datos; nuestra biblioteca de ajuste de curvas variará el parámetro hasta que encuentre un buen ajuste (y con suerte encuentre los que usamos para generar los datos, es decir, $a = 21$, $b = 6.1$, $c = 1.2$). \n",
    "\n",
    "Con esta función, generamos un modelo de ajuste de curvas (usando la biblioteca `lmfit`) y pasamos algunas conjeturas iniciales para los parámetros. Luego ajustamos los datos. Es importante tener en cuenta que los métodos de ajuste de curvas en general no garantizan encontrar un mínimo global y las suposiciones iniciales para los parámetros son cruciales."
   ]
  },
  {
   "cell_type": "code",
   "execution_count": 39,
   "metadata": {},
   "outputs": [],
   "source": [
    "def f(x,a,b,c):\n",
    "    return gaussian(x,a,b,c)"
   ]
  },
  {
   "cell_type": "code",
   "execution_count": 40,
   "metadata": {},
   "outputs": [],
   "source": [
    "mod = lmfit.Model(f)\n",
    "\n",
    "mod.set_param_hint(\"a\", value = 10.0, vary = True)\n",
    "mod.set_param_hint(\"b\", value = 10.0, vary = True)\n",
    "mod.set_param_hint(\"c\", value = 10.0, vary = True)\n",
    "\n",
    "params = mod.make_params()"
   ]
  },
  {
   "cell_type": "code",
   "execution_count": 9,
   "metadata": {},
   "outputs": [
    {
     "data": {
      "text/plain": [
       "{'a': 21.032607053235708, 'b': 6.100343154233262, 'c': 1.2009255088627309}"
      ]
     },
     "execution_count": 9,
     "metadata": {},
     "output_type": "execute_result"
    },
    {
     "data": {
      "image/png": "[encoded data removed]",
      "text/plain": [
       "<Figure size 432x288 with 1 Axes>"
      ]
     },
     "metadata": {
      "needs_background": "light"
     },
     "output_type": "display_data"
    }
   ],
   "source": [
    "result = mod.fit(data, params, method = \"leastsq\", x = x)\n",
    "result.plot_fit(datafmt = \"-\")\n",
    "result.best_values"
   ]
  },
  {
   "cell_type": "markdown",
   "metadata": {},
   "source": [
    "como podrá observarse, los parámetros obtenidos son muy similares a los dados inicialmente para le generación de los datos con ruido, por lo que se puede considerar que el ajuste es adecuado.\n",
    "\n",
    "Por ahora esto será todo lo que necesitaremos acerca del ajuste de datos para avanzar."
   ]
  },
  {
   "cell_type": "markdown",
   "metadata": {},
   "source": [
    "## Extendiendo el modelo *S.E.I.R.D.* al ajuste de curva"
   ]
  },
  {
   "cell_type": "markdown",
   "metadata": {},
   "source": [
    "En el modelo presentado ariba: los individuos son los primeros susceptibles: pueden contraer Coronavirus (con probabilidad $S/N$) y quedar expuestos. Todavía no pueden transmitir el virus. Después de algunos días ($1/\\delta$, para ser exactos), se infectan y propagan el virus. En el transcurso de la infección, pueden morir (más de $1 / \\rho$ días, con probabilidad $\\alpha$) o sobrevivir y finalmente recuperarse (después de $1 / \\gamma$ días):\n",
    "\n",
    "<p float=\"left\">\n",
    "  <img src=https://miro.medium.com/max/1400/1*TIZaRpt70TR1RFtf2dmlew.png width=\"500\" />\n",
    "</p>\n",
    "\n",
    "Agregandor un nuevo compartimento: *Crítico*, para personas que necesitan cuidados intensivos. Esto nos permitirá modelar hospitales desbordados. Por supuesto, solo las personas infectadas pueden ingresar al estado crítico. Desde el estado crítico, pueden morir o recuperarse.\n",
    "\n",
    "Llegamos a estas transiciones:\n",
    "\n",
    "<p float=\"left\">\n",
    "  <img src=https://miro.medium.com/max/1400/1*aZFFYmZxULWUim2As295DA.png width=\"500\" />\n",
    "</p>\n",
    "\n",
    "Necesitamos la probabilidad de que un individuo infectado se vuelva gravemente enfermo. Llamaremos $p(I \\rightarrow C)$. Lógicamente, la probabilidad de pasar de infectado a recuperado es, por lo tanto, $1-p(I \\rightarrow C)$.\n",
    "\n",
    "Necesitamos otra probabilidad, la probabilidad de morir mientras se está en estado crítico: $p(C \\rightarrow D)$. Análogamente, la probabilidad de pasar de infectado a recuperado es $1-p(C \\rightarrow D)$.\n",
    "\n",
    "Ahora solo nos falta la tasa de enfermarse críticamente después de ser infectado, la tasa de morir mientras está gravemente enfermo y la tasa de recuperación mientras está gravemente enfermo. Leyendo las estimaciones actuales dadas por las entidades locales, obtengo los siguientes números (a medida que pasa el tiempo debería haber números más precisos):\n",
    "\n",
    "\n",
    "- Número de días de infectados a críticos: $12 (\\rightarrow tasa: 1/12)$\n",
    "\n",
    "\n",
    "- Número de días de crítico a muerto: $7.5 (\\rightarrow tasa: 1/7.5)$\n",
    "\n",
    "\n",
    "- Número de días de crítico a recuperado: $(6.5 \\rightarrow tasa: 1/6.5)$\n",
    "\n",
    "\n",
    "Completando todo esto en:\n",
    "\n",
    "<p float=\"left\">\n",
    "  <img src=https://miro.medium.com/max/1400/1*YEFTeK-0sswpz0laT2yd1w.png width=\"500\" />\n",
    "</p>"
   ]
  },
  {
   "cell_type": "markdown",
   "metadata": {},
   "source": [
    "## Triaje y recursos limitados"
   ]
  },
  {
   "cell_type": "markdown",
   "metadata": {},
   "source": [
    "La idea de un [triaje](https://es.wikipedia.org/wiki/Triaje) clínico es estalecer quién recibe tratamiento con los recursos limitados disponibles. Esto podría incorporarse a un modelo de la siguiente manera:\n",
    "\n",
    "Supongamos que un país (ciudad, o región) cuenta con $B$ camas [UCI](https://es.wikipedia.org/wiki/Unidad_de_cuidados_intensivos) (Unidades de Cuidados Intensivos) adecuadas para tratar casos de coronavirus críticamente enfermos. Si hay más de $B$ pacientes en estado crítico (la cantidad es $C$, nuestro compartimento crítico), todos los que están por encima de $B$ no pueden ser tratados y, por lo tanto, mueren. Por ejemplo, si $B = 500$ y $C = 700$, mueren $200$ pacientes porque no hay recursos para tratarlos. (esto suponiendo que todos necesitan de dichas instalaciones y ninguno sobrevive sin ese tipo de cuidado)\n",
    "\n",
    "Esto significa que las personas $C-B$ mueren debido a la escasez. Por supuesto, si tenemos más camas que pacientes críticamente enfermos (por ejemplo, $B = 500$ y $C = 100$), entonces no tenemos a $C-B = -400$ personas muriendo, eso no tendría sentido. Por el contrario, tenemos un $max(0, C-B)$ de personas muriendo debido a la escasez (piénselo: si $C<B$ (más camas que pacientes), entonces $C-B<0$, entonces $max(0, C-B) = 0$, y $0$ personas mueren debido a la escasez; si $C>B$ (no hay suficientes camas), entonces $C-B>0$, entonces $max(0,C-B)=C-B$, y $C-B$ personas mueren por escasez)\n",
    "\n",
    "Por lo tanto, debemos expandir nuestras transiciones: desde $C$, hay dos poblaciones a las que tenemos que mirar: $max(0, C-B)$ personas mueren debido a la escasez, y el resto recibe el tratamiento como hemos derivado anteriormente. ¿Qué es el resto? Bueno, si $C <B$ (suficientes camas), entonces las $C$ personas reciben tratamiento. Si $C> B$ (no hay suficientes camas), entonces $B$ personas reciben tratamiento. Eso significa que \"*el resto*\" - la cantidad de personas que reciben tratamiento - es $min(B, C)$ (nuevamente, si $C <B$, entonces $min(B, C) = C$ personas reciben tratamiento; si $C> B$, entonces $min(B, C) =B$ personas reciben tratamiento; las matemáticas se verifican).\n",
    "\n",
    "Finalmente obtenemos este modelo revisado (con muertes que ocurren inmediatamente para todos los que superan el número de camas disponibles; uno podría cambiar esto a tomar varios días, morir con una probabilidad del $75\\%$, etc.):\n",
    "\n",
    "<p float=\"left\">\n",
    "  <img src=https://miro.medium.com/max/1400/1*05TbKHvwOerGixyTFTzNwA.png width=\"500\" />\n",
    "</p>\n",
    "\n",
    "Y estas son las ecuaciones que lo acompañan (tenga en cuenta que las camas son una función del tiempo, llegaremos a eso en solo un minuto)\n",
    "\n",
    "\n",
    "$$\n",
    "\\begin{align}\n",
    "\\frac{dS}{dt} & = -\\beta(t) \\cdot I \\cdot \\frac{S}{N} \\\\\n",
    "\\frac{dE}{dt} & = \\beta(t) \\cdot I \\cdot \\frac{S}{N} - \\delta \\cdot E\\\\\n",
    "\\frac{dI}{dt} & = \\delta \\cdot E - \\frac{1}{12} \\cdot p(I \\rightarrow C) \\cdot I - \\gamma \\cdot (1-p(I \\rightarrow C)) \\cdot I\\\\\n",
    "\\frac{dC}{dt} & = \\frac{1}{12} \\cdot p(I \\rightarrow C) \\cdot I - \\frac{1}{7.5} \\cdot p(C \\rightarrow D)  \\cdot min(Beds(t),C) - max(0,C-Beds(t)) - \\frac{1}{6.5} \\cdot (1-p(C \\rightarrow D)) \\cdot min(Beds(t),C) \\\\\n",
    "\\frac{dR}{dt} & = \\gamma \\cdot (1-p(I \\rightarrow C)) \\cdot I + \\frac{1}{6.5} \\cdot (1-p(C \\rightarrow D)) \\cdot min(Beds(t),C) \\\\\n",
    "\\frac{dD}{dt} & = \\frac{1}{7.5} \\cdot p(C \\rightarrow D) \\cdot min(Beds(t),C) + max(0,C-Beds(t))\n",
    "\\end{align}\n",
    "$$\n",
    "\n",
    "Nuevamente, tómese un tiempo para ver cómo estas ecuaciones se relacionan directamente con las transiciones de estado anteriores. Parecen difíciles, pero son solo otra forma de describir el diagrama."
   ]
  },
  {
   "cell_type": "markdown",
   "metadata": {},
   "source": [
    "## Variables dependientes del tiempo"
   ]
  },
  {
   "cell_type": "markdown",
   "metadata": {},
   "source": [
    "Para este modelo, solo tenemos dos variables dependientes del tiempo: $R_0(t)$ (y por lo tanto $\\beta (t)$, como $R_0 = \\beta / \\gamma$) y $\\text{Beds}(t)$.\n",
    "\n",
    "Para $R_0(t)$, utilizaremos nuevamente la siguiente función logística:\n",
    "\n",
    "$$R_0(t)=\\frac{R_{0_{start}}-R_{0_{end}}}{1+e^{-k(-x+x_0)}}+R_{0_{end}}$$\n",
    "\n",
    "Para $\\text{Beds}(t)$, la idea es que, a medida que el virus se propaga, los países reaccionan y comienzan a construir hospitales, liberar camas, etc. Por lo tanto, el número de camas disponibles aumenta con el tiempo. Una forma (muy) simple de hacer esto es modelar la cantidad de camas como\n",
    "\n",
    "$$\\text{Beds}(t) = \\text{Beds}_0 + s \\cdot t \\cdot \\text{Beds}_0$$\n",
    "\n",
    "Donde $\\text{Beds}_0$ es la cantidad total de camas *UCI* disponibles y $s$ es un factor de escala. En esta fórmula, el número de camas aumenta en $s$ veces el número inicial de camas por día (por ejemplo, si $s = 0.01$, entonces el día $t = 100$, $\\text{Beds}(t) = 2 * \\text{Beds}_0$)"
   ]
  },
  {
   "cell_type": "markdown",
   "metadata": {},
   "source": [
    "## Ajustando el modelo"
   ]
  },
  {
   "cell_type": "markdown",
   "metadata": {},
   "source": [
    "En primer lugar, pensemos en lo que sabemos y lo que queremos saber. Esto nos ayuda a encontrar qué parámetros podemos arreglar y cuáles queremos ajustar.\n",
    "\n",
    "Aquí están todos los parámetros que necesita nuestro modelo (es decir, todas las variables en las ecuaciones más las variables en las funciones para $R_0(t)$ y $\\text{Beds}(t)$:\n",
    "\n",
    "- $N$: población total\n",
    "\n",
    "\n",
    "- $D(t)$: número de personas fallecidas el día $t$\n",
    "\n",
    "\n",
    "- $\\beta(t)$: cantidad esperada de personas que una persona infectada infecta por día\n",
    "\n",
    "\n",
    "- $\\gamma$: la proporción de infectados que se recuperan por día ($\\gamma = 1/D$)\n",
    "\n",
    "\n",
    "- $R_{0_{start}}$: parámetro en $R_0(t)$\n",
    "\n",
    "\n",
    "- $R_{0_{end}}$: parámetro en $R_0(t)$\n",
    "\n",
    "\n",
    "- $x_0$: parámetro en $R_0(t)$\n",
    "\n",
    "\n",
    "- $k$: parámetro en $R_0(t)$\n",
    "\n",
    "\n",
    "- $s$: parámetro en $\\text{Beds}(t)$\n",
    "\n",
    "\n",
    "- $\\text{Beds}_0$: parámetro en $R_0(t)$\n",
    "\n",
    "\n",
    "- $\\delta$: duración del período de incubación\n",
    "\n",
    "\n",
    "- $p(I \\rightarrow C)$: Probabilidad de pasar de infectado a crítico\n",
    "\n",
    "\n",
    "- $p(C \\rightarrow D)$: Probabilidad de pasar de crítico a deceso\n",
    "\n",
    "\n",
    "Veamos estos: ciertamente no tenemos que ajustar $N$, solo podemos ver la población de la región en la que queremos modelar la enfermedad. Lo mismo ocurre con $\\text{Beds}_0$, podemos buscar fácilmente la cantidad de camas de la *UCI* en un region. $\\delta$ y $\\gamma$ están fijados en $\\delta = 1/9$ y $\\gamma = 1/3$, estas son las mejores estimaciones encontradas en la literatura. Con respecto a $\\beta(t)$, estamos calculando beta a través de $R_0(t)$ y $\\gamma$, por lo que no es necesario encontrar ningún parámetro separado para $\\beta$. Se pueden instalar los factores de escala de camas; Es cierto que no juega un papel importante en el resultado ya que, hasta ahora, la cantidad de personas que no reciben tratamiento debido a la escasez era pequeña en comparación con la cantidad total de muertes.\n",
    "\n",
    "He reunido dos estimaciones para las probabilidades $p(I \\rightarrow C)$ y $p(C \\rightarrow D)$, divididas por grupo de edad. Esto nos permitiría calcular las probabilidades como derivamos en el último artículo: ponderado por la proporción de la población por grupo de edad. Aquí, de hecho, intentaremos ajustar estos parámetros; hasta ahora, tratar de ajustar estos resultados siempre arrojados extremadamente cerca de las estimaciones recopiladas.\n",
    "\n",
    "Con todo, solo nos quedan estos parámetros para ajustar:\n",
    "\n",
    "- $p(I \\rightarrow C)$\n",
    "\n",
    "\n",
    "- $p(C \\rightarrow D)$\n",
    "\n",
    "\n",
    "- $R_{0_{start}}$: parámetro en $R_0(t)$\n",
    "\n",
    "\n",
    "- $R_{0_{end}}$: parámetro en $R_0(t)$\n",
    "\n",
    "\n",
    "- $x_0$: parámetro en $R_0(t)$\n",
    "\n",
    "\n",
    "- $k$: parámetro en $R_0(t)$\n",
    "\n",
    "\n",
    "- $s$: parámetro en $\\text{Beds}(t)$\n",
    "\n"
   ]
  },
  {
   "cell_type": "markdown",
   "metadata": {},
   "source": [
    "## Datos suplementarios y del coronavirus"
   ]
  },
  {
   "cell_type": "markdown",
   "metadata": {},
   "source": [
    "Se han recopilado y limpiado datos para grupos de edad, probabilidades y camas de *UCI* de los [datos de la ONU](https://data.un.org/). Obtendremos los números de casos actualizados desde [aquí](https://data.humdata.org/dataset/novel-coronavirus-2019-ncov-cases). Echemos un vistazo:\n",
    "\n",
    "Primero, cargue los datos ..."
   ]
  },
  {
   "cell_type": "code",
   "execution_count": 41,
   "metadata": {},
   "outputs": [],
   "source": [
    "beds = pd.read_csv(\"https://raw.githubusercontent.com/hf2000510/infectious_disease_modelling/master/data/beds.csv\", header=0)\n",
    "agegroups = pd.read_csv(\"https://raw.githubusercontent.com/hf2000510/infectious_disease_modelling/master/data/agegroups.csv\")\n",
    "probabilities = pd.read_csv(\"https://raw.githubusercontent.com/hf2000510/infectious_disease_modelling/master/data/probabilities.csv\")\n",
    "covid_data = pd.read_csv(\"https://tinyurl.com/t59cgxn\", parse_dates=[\"Date\"], skiprows=[1])  # I've shortened the humdata.org URL\n",
    "covid_data[\"Location\"] = covid_data[\"Country/Region\"]"
   ]
  },
  {
   "cell_type": "markdown",
   "metadata": {},
   "source": [
    "... y cree algunos diccionarios de búsqueda para facilitar el acceso a grupos de edad, camas, etc."
   ]
  },
  {
   "cell_type": "code",
   "execution_count": 42,
   "metadata": {},
   "outputs": [],
   "source": [
    "# create some dicts for fast lookup\n",
    "# 1. beds\n",
    "beds_lookup = dict(zip(beds[\"Country\"], beds[\"ICU_Beds\"]))\n",
    "# 2. agegroups\n",
    "agegroup_lookup = dict(zip(agegroups['Location'], agegroups[['0_9', '10_19', '20_29', '30_39', '40_49', '50_59', '60_69', '70_79', '80_89', '90_100']].values))\n",
    "\n",
    "# store the probabilities collected\n",
    "prob_I_to_C_1 = list(probabilities.prob_I_to_ICU_1.values)\n",
    "prob_I_to_C_2 = list(probabilities.prob_I_to_ICU_2.values)\n",
    "prob_C_to_Death_1 = list(probabilities.prob_ICU_to_Death_1.values)\n",
    "prob_C_to_Death_2 = list(probabilities.prob_ICU_to_Death_2.values)"
   ]
  },
  {
   "cell_type": "markdown",
   "metadata": {},
   "source": [
    "Aquí hay un extracto de todas las tablas para tener una idea de lo que estamos tratando:"
   ]
  },
  {
   "cell_type": "code",
   "execution_count": 43,
   "metadata": {},
   "outputs": [
    {
     "data": {
      "text/html": [
       "<div>\n",
       "<style scoped>\n",
       "    .dataframe tbody tr th:only-of-type {\n",
       "        vertical-align: middle;\n",
       "    }\n",
       "\n",
       "    .dataframe tbody tr th {\n",
       "        vertical-align: top;\n",
       "    }\n",
       "\n",
       "    .dataframe thead th {\n",
       "        text-align: right;\n",
       "    }\n",
       "</style>\n",
       "<table border=\"1\" class=\"dataframe\">\n",
       "  <thead>\n",
       "    <tr style=\"text-align: right;\">\n",
       "      <th></th>\n",
       "      <th>Country</th>\n",
       "      <th>Continent</th>\n",
       "      <th>ICU_Beds</th>\n",
       "    </tr>\n",
       "  </thead>\n",
       "  <tbody>\n",
       "    <tr>\n",
       "      <th>0</th>\n",
       "      <td>Japan</td>\n",
       "      <td>Asia</td>\n",
       "      <td>7.3</td>\n",
       "    </tr>\n",
       "    <tr>\n",
       "      <th>1</th>\n",
       "      <td>South Korea</td>\n",
       "      <td>Asia</td>\n",
       "      <td>10.6</td>\n",
       "    </tr>\n",
       "    <tr>\n",
       "      <th>2</th>\n",
       "      <td>Russia</td>\n",
       "      <td>Europe</td>\n",
       "      <td>8.3</td>\n",
       "    </tr>\n",
       "  </tbody>\n",
       "</table>\n",
       "</div>"
      ],
      "text/plain": [
       "       Country Continent  ICU_Beds\n",
       "0        Japan      Asia       7.3\n",
       "1  South Korea      Asia      10.6\n",
       "2       Russia    Europe       8.3"
      ]
     },
     "execution_count": 43,
     "metadata": {},
     "output_type": "execute_result"
    }
   ],
   "source": [
    "beds.head(3)"
   ]
  },
  {
   "cell_type": "code",
   "execution_count": 44,
   "metadata": {},
   "outputs": [
    {
     "data": {
      "text/html": [
       "<div>\n",
       "<style scoped>\n",
       "    .dataframe tbody tr th:only-of-type {\n",
       "        vertical-align: middle;\n",
       "    }\n",
       "\n",
       "    .dataframe tbody tr th {\n",
       "        vertical-align: top;\n",
       "    }\n",
       "\n",
       "    .dataframe thead th {\n",
       "        text-align: right;\n",
       "    }\n",
       "</style>\n",
       "<table border=\"1\" class=\"dataframe\">\n",
       "  <thead>\n",
       "    <tr style=\"text-align: right;\">\n",
       "      <th></th>\n",
       "      <th>Unnamed: 0</th>\n",
       "      <th>Location</th>\n",
       "      <th>0_9</th>\n",
       "      <th>10_19</th>\n",
       "      <th>20_29</th>\n",
       "      <th>30_39</th>\n",
       "      <th>40_49</th>\n",
       "      <th>50_59</th>\n",
       "      <th>60_69</th>\n",
       "      <th>70_79</th>\n",
       "      <th>80_89</th>\n",
       "      <th>90_100</th>\n",
       "      <th>Total</th>\n",
       "    </tr>\n",
       "  </thead>\n",
       "  <tbody>\n",
       "    <tr>\n",
       "      <th>0</th>\n",
       "      <td>0</td>\n",
       "      <td>World</td>\n",
       "      <td>1.342381e+09</td>\n",
       "      <td>1.253463e+09</td>\n",
       "      <td>1.192080e+09</td>\n",
       "      <td>1.150350e+09</td>\n",
       "      <td>973155000.0</td>\n",
       "      <td>833622000.0</td>\n",
       "      <td>591786000.0</td>\n",
       "      <td>312459000.0</td>\n",
       "      <td>124116000.0</td>\n",
       "      <td>20814000.0</td>\n",
       "      <td>7.794226e+09</td>\n",
       "    </tr>\n",
       "    <tr>\n",
       "      <th>1</th>\n",
       "      <td>1</td>\n",
       "      <td>Sustainable Development Goal (SDG) regions</td>\n",
       "      <td>NaN</td>\n",
       "      <td>NaN</td>\n",
       "      <td>NaN</td>\n",
       "      <td>NaN</td>\n",
       "      <td>NaN</td>\n",
       "      <td>NaN</td>\n",
       "      <td>NaN</td>\n",
       "      <td>NaN</td>\n",
       "      <td>NaN</td>\n",
       "      <td>NaN</td>\n",
       "      <td>0.000000e+00</td>\n",
       "    </tr>\n",
       "    <tr>\n",
       "      <th>2</th>\n",
       "      <td>2</td>\n",
       "      <td>Sub-Saharan Africa</td>\n",
       "      <td>3.243990e+08</td>\n",
       "      <td>2.534300e+08</td>\n",
       "      <td>1.851890e+08</td>\n",
       "      <td>1.334170e+08</td>\n",
       "      <td>89292000.0</td>\n",
       "      <td>56464000.0</td>\n",
       "      <td>33385000.0</td>\n",
       "      <td>15120000.0</td>\n",
       "      <td>3477000.0</td>\n",
       "      <td>191000.0</td>\n",
       "      <td>1.094364e+09</td>\n",
       "    </tr>\n",
       "    <tr>\n",
       "      <th>3</th>\n",
       "      <td>3</td>\n",
       "      <td>Eastern Africa</td>\n",
       "      <td>1.300380e+08</td>\n",
       "      <td>1.056750e+08</td>\n",
       "      <td>7.815600e+07</td>\n",
       "      <td>5.410800e+07</td>\n",
       "      <td>35271000.0</td>\n",
       "      <td>21714000.0</td>\n",
       "      <td>12849000.0</td>\n",
       "      <td>5978000.0</td>\n",
       "      <td>1513000.0</td>\n",
       "      <td>102000.0</td>\n",
       "      <td>4.454040e+08</td>\n",
       "    </tr>\n",
       "    <tr>\n",
       "      <th>4</th>\n",
       "      <td>4</td>\n",
       "      <td>Burundi</td>\n",
       "      <td>3.873000e+06</td>\n",
       "      <td>2.725000e+06</td>\n",
       "      <td>2.030000e+06</td>\n",
       "      <td>1.539000e+06</td>\n",
       "      <td>748000.0</td>\n",
       "      <td>492000.0</td>\n",
       "      <td>339000.0</td>\n",
       "      <td>112000.0</td>\n",
       "      <td>30000.0</td>\n",
       "      <td>2000.0</td>\n",
       "      <td>1.189000e+07</td>\n",
       "    </tr>\n",
       "  </tbody>\n",
       "</table>\n",
       "</div>"
      ],
      "text/plain": [
       "   Unnamed: 0                                    Location           0_9  \\\n",
       "0           0                                       World  1.342381e+09   \n",
       "1           1  Sustainable Development Goal (SDG) regions           NaN   \n",
       "2           2                          Sub-Saharan Africa  3.243990e+08   \n",
       "3           3                              Eastern Africa  1.300380e+08   \n",
       "4           4                                     Burundi  3.873000e+06   \n",
       "\n",
       "          10_19         20_29         30_39        40_49        50_59  \\\n",
       "0  1.253463e+09  1.192080e+09  1.150350e+09  973155000.0  833622000.0   \n",
       "1           NaN           NaN           NaN          NaN          NaN   \n",
       "2  2.534300e+08  1.851890e+08  1.334170e+08   89292000.0   56464000.0   \n",
       "3  1.056750e+08  7.815600e+07  5.410800e+07   35271000.0   21714000.0   \n",
       "4  2.725000e+06  2.030000e+06  1.539000e+06     748000.0     492000.0   \n",
       "\n",
       "         60_69        70_79        80_89      90_100         Total  \n",
       "0  591786000.0  312459000.0  124116000.0  20814000.0  7.794226e+09  \n",
       "1          NaN          NaN          NaN         NaN  0.000000e+00  \n",
       "2   33385000.0   15120000.0    3477000.0    191000.0  1.094364e+09  \n",
       "3   12849000.0    5978000.0    1513000.0    102000.0  4.454040e+08  \n",
       "4     339000.0     112000.0      30000.0      2000.0  1.189000e+07  "
      ]
     },
     "execution_count": 44,
     "metadata": {},
     "output_type": "execute_result"
    }
   ],
   "source": [
    "agegroups.head(5)"
   ]
  },
  {
   "cell_type": "code",
   "execution_count": 45,
   "metadata": {},
   "outputs": [
    {
     "data": {
      "text/html": [
       "<div>\n",
       "<style scoped>\n",
       "    .dataframe tbody tr th:only-of-type {\n",
       "        vertical-align: middle;\n",
       "    }\n",
       "\n",
       "    .dataframe tbody tr th {\n",
       "        vertical-align: top;\n",
       "    }\n",
       "\n",
       "    .dataframe thead th {\n",
       "        text-align: right;\n",
       "    }\n",
       "</style>\n",
       "<table border=\"1\" class=\"dataframe\">\n",
       "  <thead>\n",
       "    <tr style=\"text-align: right;\">\n",
       "      <th></th>\n",
       "      <th>Age</th>\n",
       "      <th>prob_I_to_ICU_1</th>\n",
       "      <th>prob_ICU_to_Death_1</th>\n",
       "      <th>prob_I_to_ICU_2</th>\n",
       "      <th>prob_ICU_to_Death_2</th>\n",
       "    </tr>\n",
       "  </thead>\n",
       "  <tbody>\n",
       "    <tr>\n",
       "      <th>0</th>\n",
       "      <td>0_9</td>\n",
       "      <td>0.001</td>\n",
       "      <td>0.00</td>\n",
       "      <td>0.00100</td>\n",
       "      <td>0.000</td>\n",
       "    </tr>\n",
       "    <tr>\n",
       "      <th>1</th>\n",
       "      <td>10_19</td>\n",
       "      <td>0.003</td>\n",
       "      <td>0.00</td>\n",
       "      <td>0.00300</td>\n",
       "      <td>0.000</td>\n",
       "    </tr>\n",
       "    <tr>\n",
       "      <th>2</th>\n",
       "      <td>20_29</td>\n",
       "      <td>0.009</td>\n",
       "      <td>0.05</td>\n",
       "      <td>0.00600</td>\n",
       "      <td>0.000</td>\n",
       "    </tr>\n",
       "    <tr>\n",
       "      <th>3</th>\n",
       "      <td>30_39</td>\n",
       "      <td>0.025</td>\n",
       "      <td>0.06</td>\n",
       "      <td>0.00900</td>\n",
       "      <td>0.000</td>\n",
       "    </tr>\n",
       "    <tr>\n",
       "      <th>4</th>\n",
       "      <td>40_49</td>\n",
       "      <td>0.030</td>\n",
       "      <td>0.10</td>\n",
       "      <td>0.02500</td>\n",
       "      <td>0.120</td>\n",
       "    </tr>\n",
       "    <tr>\n",
       "      <th>5</th>\n",
       "      <td>50_59</td>\n",
       "      <td>0.050</td>\n",
       "      <td>0.26</td>\n",
       "      <td>0.03560</td>\n",
       "      <td>0.365</td>\n",
       "    </tr>\n",
       "    <tr>\n",
       "      <th>6</th>\n",
       "      <td>60_69</td>\n",
       "      <td>0.070</td>\n",
       "      <td>0.57</td>\n",
       "      <td>0.05926</td>\n",
       "      <td>0.675</td>\n",
       "    </tr>\n",
       "    <tr>\n",
       "      <th>7</th>\n",
       "      <td>70_79</td>\n",
       "      <td>0.100</td>\n",
       "      <td>0.86</td>\n",
       "      <td>0.10100</td>\n",
       "      <td>0.850</td>\n",
       "    </tr>\n",
       "    <tr>\n",
       "      <th>8</th>\n",
       "      <td>80_89</td>\n",
       "      <td>0.140</td>\n",
       "      <td>0.95</td>\n",
       "      <td>0.14100</td>\n",
       "      <td>0.950</td>\n",
       "    </tr>\n",
       "    <tr>\n",
       "      <th>9</th>\n",
       "      <td>90_100</td>\n",
       "      <td>0.160</td>\n",
       "      <td>0.98</td>\n",
       "      <td>0.16000</td>\n",
       "      <td>0.990</td>\n",
       "    </tr>\n",
       "  </tbody>\n",
       "</table>\n",
       "</div>"
      ],
      "text/plain": [
       "      Age  prob_I_to_ICU_1  prob_ICU_to_Death_1  prob_I_to_ICU_2  \\\n",
       "0     0_9            0.001                 0.00          0.00100   \n",
       "1   10_19            0.003                 0.00          0.00300   \n",
       "2   20_29            0.009                 0.05          0.00600   \n",
       "3   30_39            0.025                 0.06          0.00900   \n",
       "4   40_49            0.030                 0.10          0.02500   \n",
       "5   50_59            0.050                 0.26          0.03560   \n",
       "6   60_69            0.070                 0.57          0.05926   \n",
       "7   70_79            0.100                 0.86          0.10100   \n",
       "8   80_89            0.140                 0.95          0.14100   \n",
       "9  90_100            0.160                 0.98          0.16000   \n",
       "\n",
       "   prob_ICU_to_Death_2  \n",
       "0                0.000  \n",
       "1                0.000  \n",
       "2                0.000  \n",
       "3                0.000  \n",
       "4                0.120  \n",
       "5                0.365  \n",
       "6                0.675  \n",
       "7                0.850  \n",
       "8                0.950  \n",
       "9                0.990  "
      ]
     },
     "execution_count": 45,
     "metadata": {},
     "output_type": "execute_result"
    }
   ],
   "source": [
    "probabilities"
   ]
  },
  {
   "cell_type": "code",
   "execution_count": 46,
   "metadata": {},
   "outputs": [
    {
     "data": {
      "text/html": [
       "<div>\n",
       "<style scoped>\n",
       "    .dataframe tbody tr th:only-of-type {\n",
       "        vertical-align: middle;\n",
       "    }\n",
       "\n",
       "    .dataframe tbody tr th {\n",
       "        vertical-align: top;\n",
       "    }\n",
       "\n",
       "    .dataframe thead th {\n",
       "        text-align: right;\n",
       "    }\n",
       "</style>\n",
       "<table border=\"1\" class=\"dataframe\">\n",
       "  <thead>\n",
       "    <tr style=\"text-align: right;\">\n",
       "      <th></th>\n",
       "      <th>Province/State</th>\n",
       "      <th>Country/Region</th>\n",
       "      <th>Lat</th>\n",
       "      <th>Long</th>\n",
       "      <th>Date</th>\n",
       "      <th>Value</th>\n",
       "      <th>ISO 3166-1 Alpha 3-Codes</th>\n",
       "      <th>Region Code</th>\n",
       "      <th>Sub-region Code</th>\n",
       "      <th>Intermediate Region Code</th>\n",
       "      <th>Location</th>\n",
       "    </tr>\n",
       "  </thead>\n",
       "  <tbody>\n",
       "    <tr>\n",
       "      <th>0</th>\n",
       "      <td>NaN</td>\n",
       "      <td>Afghanistan</td>\n",
       "      <td>33.0</td>\n",
       "      <td>65.0</td>\n",
       "      <td>2020-04-25</td>\n",
       "      <td>47</td>\n",
       "      <td>AFG</td>\n",
       "      <td>142.0</td>\n",
       "      <td>34.0</td>\n",
       "      <td>NaN</td>\n",
       "      <td>Afghanistan</td>\n",
       "    </tr>\n",
       "    <tr>\n",
       "      <th>1</th>\n",
       "      <td>NaN</td>\n",
       "      <td>Afghanistan</td>\n",
       "      <td>33.0</td>\n",
       "      <td>65.0</td>\n",
       "      <td>2020-04-24</td>\n",
       "      <td>43</td>\n",
       "      <td>AFG</td>\n",
       "      <td>142.0</td>\n",
       "      <td>34.0</td>\n",
       "      <td>NaN</td>\n",
       "      <td>Afghanistan</td>\n",
       "    </tr>\n",
       "    <tr>\n",
       "      <th>2</th>\n",
       "      <td>NaN</td>\n",
       "      <td>Afghanistan</td>\n",
       "      <td>33.0</td>\n",
       "      <td>65.0</td>\n",
       "      <td>2020-04-23</td>\n",
       "      <td>42</td>\n",
       "      <td>AFG</td>\n",
       "      <td>142.0</td>\n",
       "      <td>34.0</td>\n",
       "      <td>NaN</td>\n",
       "      <td>Afghanistan</td>\n",
       "    </tr>\n",
       "    <tr>\n",
       "      <th>3</th>\n",
       "      <td>NaN</td>\n",
       "      <td>Afghanistan</td>\n",
       "      <td>33.0</td>\n",
       "      <td>65.0</td>\n",
       "      <td>2020-04-22</td>\n",
       "      <td>40</td>\n",
       "      <td>AFG</td>\n",
       "      <td>142.0</td>\n",
       "      <td>34.0</td>\n",
       "      <td>NaN</td>\n",
       "      <td>Afghanistan</td>\n",
       "    </tr>\n",
       "    <tr>\n",
       "      <th>4</th>\n",
       "      <td>NaN</td>\n",
       "      <td>Afghanistan</td>\n",
       "      <td>33.0</td>\n",
       "      <td>65.0</td>\n",
       "      <td>2020-04-21</td>\n",
       "      <td>36</td>\n",
       "      <td>AFG</td>\n",
       "      <td>142.0</td>\n",
       "      <td>34.0</td>\n",
       "      <td>NaN</td>\n",
       "      <td>Afghanistan</td>\n",
       "    </tr>\n",
       "    <tr>\n",
       "      <th>...</th>\n",
       "      <td>...</td>\n",
       "      <td>...</td>\n",
       "      <td>...</td>\n",
       "      <td>...</td>\n",
       "      <td>...</td>\n",
       "      <td>...</td>\n",
       "      <td>...</td>\n",
       "      <td>...</td>\n",
       "      <td>...</td>\n",
       "      <td>...</td>\n",
       "      <td>...</td>\n",
       "    </tr>\n",
       "    <tr>\n",
       "      <th>25075</th>\n",
       "      <td>NaN</td>\n",
       "      <td>Zimbabwe</td>\n",
       "      <td>-20.0</td>\n",
       "      <td>30.0</td>\n",
       "      <td>2020-01-26</td>\n",
       "      <td>0</td>\n",
       "      <td>ZWE</td>\n",
       "      <td>2.0</td>\n",
       "      <td>202.0</td>\n",
       "      <td>14.0</td>\n",
       "      <td>Zimbabwe</td>\n",
       "    </tr>\n",
       "    <tr>\n",
       "      <th>25076</th>\n",
       "      <td>NaN</td>\n",
       "      <td>Zimbabwe</td>\n",
       "      <td>-20.0</td>\n",
       "      <td>30.0</td>\n",
       "      <td>2020-01-25</td>\n",
       "      <td>0</td>\n",
       "      <td>ZWE</td>\n",
       "      <td>2.0</td>\n",
       "      <td>202.0</td>\n",
       "      <td>14.0</td>\n",
       "      <td>Zimbabwe</td>\n",
       "    </tr>\n",
       "    <tr>\n",
       "      <th>25077</th>\n",
       "      <td>NaN</td>\n",
       "      <td>Zimbabwe</td>\n",
       "      <td>-20.0</td>\n",
       "      <td>30.0</td>\n",
       "      <td>2020-01-24</td>\n",
       "      <td>0</td>\n",
       "      <td>ZWE</td>\n",
       "      <td>2.0</td>\n",
       "      <td>202.0</td>\n",
       "      <td>14.0</td>\n",
       "      <td>Zimbabwe</td>\n",
       "    </tr>\n",
       "    <tr>\n",
       "      <th>25078</th>\n",
       "      <td>NaN</td>\n",
       "      <td>Zimbabwe</td>\n",
       "      <td>-20.0</td>\n",
       "      <td>30.0</td>\n",
       "      <td>2020-01-23</td>\n",
       "      <td>0</td>\n",
       "      <td>ZWE</td>\n",
       "      <td>2.0</td>\n",
       "      <td>202.0</td>\n",
       "      <td>14.0</td>\n",
       "      <td>Zimbabwe</td>\n",
       "    </tr>\n",
       "    <tr>\n",
       "      <th>25079</th>\n",
       "      <td>NaN</td>\n",
       "      <td>Zimbabwe</td>\n",
       "      <td>-20.0</td>\n",
       "      <td>30.0</td>\n",
       "      <td>2020-01-22</td>\n",
       "      <td>0</td>\n",
       "      <td>ZWE</td>\n",
       "      <td>2.0</td>\n",
       "      <td>202.0</td>\n",
       "      <td>14.0</td>\n",
       "      <td>Zimbabwe</td>\n",
       "    </tr>\n",
       "  </tbody>\n",
       "</table>\n",
       "<p>25080 rows × 11 columns</p>\n",
       "</div>"
      ],
      "text/plain": [
       "      Province/State Country/Region   Lat  Long       Date  Value  \\\n",
       "0                NaN    Afghanistan  33.0  65.0 2020-04-25     47   \n",
       "1                NaN    Afghanistan  33.0  65.0 2020-04-24     43   \n",
       "2                NaN    Afghanistan  33.0  65.0 2020-04-23     42   \n",
       "3                NaN    Afghanistan  33.0  65.0 2020-04-22     40   \n",
       "4                NaN    Afghanistan  33.0  65.0 2020-04-21     36   \n",
       "...              ...            ...   ...   ...        ...    ...   \n",
       "25075            NaN       Zimbabwe -20.0  30.0 2020-01-26      0   \n",
       "25076            NaN       Zimbabwe -20.0  30.0 2020-01-25      0   \n",
       "25077            NaN       Zimbabwe -20.0  30.0 2020-01-24      0   \n",
       "25078            NaN       Zimbabwe -20.0  30.0 2020-01-23      0   \n",
       "25079            NaN       Zimbabwe -20.0  30.0 2020-01-22      0   \n",
       "\n",
       "      ISO 3166-1 Alpha 3-Codes  Region Code  Sub-region Code  \\\n",
       "0                          AFG        142.0             34.0   \n",
       "1                          AFG        142.0             34.0   \n",
       "2                          AFG        142.0             34.0   \n",
       "3                          AFG        142.0             34.0   \n",
       "4                          AFG        142.0             34.0   \n",
       "...                        ...          ...              ...   \n",
       "25075                      ZWE          2.0            202.0   \n",
       "25076                      ZWE          2.0            202.0   \n",
       "25077                      ZWE          2.0            202.0   \n",
       "25078                      ZWE          2.0            202.0   \n",
       "25079                      ZWE          2.0            202.0   \n",
       "\n",
       "       Intermediate Region Code     Location  \n",
       "0                           NaN  Afghanistan  \n",
       "1                           NaN  Afghanistan  \n",
       "2                           NaN  Afghanistan  \n",
       "3                           NaN  Afghanistan  \n",
       "4                           NaN  Afghanistan  \n",
       "...                         ...          ...  \n",
       "25075                      14.0     Zimbabwe  \n",
       "25076                      14.0     Zimbabwe  \n",
       "25077                      14.0     Zimbabwe  \n",
       "25078                      14.0     Zimbabwe  \n",
       "25079                      14.0     Zimbabwe  \n",
       "\n",
       "[25080 rows x 11 columns]"
      ]
     },
     "execution_count": 46,
     "metadata": {},
     "output_type": "execute_result"
    }
   ],
   "source": [
    "covid_data"
   ]
  },
  {
   "cell_type": "markdown",
   "metadata": {},
   "source": [
    "- La tabla de camas tiene la cantidad de camas de *UCI* por cada $100k$ habitantes para muchos países.\n",
    "\n",
    "\n",
    "- La tabla de grupos de edad tiene la cantidad de personas por grupo de edad para todos los países.\n",
    "\n",
    "\n",
    "- La tabla de probabilidades tiene probabilidades que reuní para las transiciones $I \\rightarrow C$ y $C \\rightarrow D$ por grupo de edad (dos probabilidades separadas; solo use $_1$ o $_2$) (no las usaremos ya que intentaremos ajustar las probabilidades de transición)\n",
    "\n",
    "\n",
    "- `covid_data` es una tabla enorme con el número de muertes por región por día, desde $2020-01-22$ en adelante.\n",
    "\n",
    "\n",
    "Como ejemplo, aquí están las muertes generales para todo el mundo:"
   ]
  },
  {
   "cell_type": "code",
   "execution_count": 47,
   "metadata": {},
   "outputs": [
    {
     "data": {
      "image/png": "[encoded data removed]",
      "text/plain": [
       "<Figure size 864x576 with 1 Axes>"
      ]
     },
     "metadata": {
      "needs_background": "light"
     },
     "output_type": "display_data"
    }
   ],
   "source": [
    "covid_data.groupby(\"Date\").sum()[[\"Value\"]].plot(figsize=(12, 8), title=\"Covid-19 total fatalities (world)\");"
   ]
  },
  {
   "cell_type": "markdown",
   "metadata": {},
   "source": [
    "No todos los países y regiones están incluidos en la tabla. Sin embargo, si desea modelar el brote en una región que no está incluida, debería poder encontrar los datos que necesita a través de una búsqueda rápida en *Google*.\n",
    "\n",
    "Es posible que haya notado que solo estamos usando datos para el número de muertes y no el número de casos reportados. La razón es simple: la notificación de casos confirmados es extremadamente ruidosa y depende en gran medida de la cantidad de pruebas (y aún con suficientes pruebas, no todas las personas infectadas serán examinadas). Por ejemplo, el número de casos podría aumentar de $10000$ a $15000$ de un día para otro, pero eso podría deberse a que el número de pruebas aumentó en $5000$. En general, el número de muertes reportadas es mucho más preciso: las muertes son bastante difíciles perder, por lo que los números reportados son probablemente bastante cercanos a los números reales."
   ]
  },
  {
   "cell_type": "markdown",
   "metadata": {},
   "source": [
    "## Codificando el modelo"
   ]
  },
  {
   "cell_type": "markdown",
   "metadata": {},
   "source": [
    "Una vez configurados todos los datos, ahora podemos comenzar a codificar nuestro modelo. De las últimas ecuaciones determinadas arriba, vamos a traducirlos a código (una advertencia: estamos calculando $\\beta$ un poco simplificado aquí ya que calcularlo rigurosamente sería mucho más complicado y tendría un impacto insignificante en el resultado; puede ver la implementación extendida [aquí](https://github.com/hf2000510/infectious_disease_modelling/blob/master/extended_beta_implementation.ipynb) si eres curioso):"
   ]
  },
  {
   "cell_type": "code",
   "execution_count": 48,
   "metadata": {},
   "outputs": [],
   "source": [
    "def deriv(y, t, beta, gamma, sigma, N, p_I_to_C, p_C_to_D, Beds):\n",
    "    S, E, I, C, R, D = y\n",
    "\n",
    "    dSdt = -beta(t) * I * S / N\n",
    "    dEdt = beta(t) * I * S / N - sigma * E\n",
    "    dIdt = sigma * E - 1/12.0 * p_I_to_C * I - gamma * (1 - p_I_to_C) * I\n",
    "    dCdt = 1/12.0 * p_I_to_C * I - 1/7.5 * p_C_to_D * min(Beds(t), C) - max(0, C-Beds(t)) - (1 - p_C_to_D) * 1/6.5 * min(Beds(t), C)\n",
    "    dRdt = gamma * (1 - p_I_to_C) * I + (1 - p_C_to_D) * 1/6.5 * min(Beds(t), C)\n",
    "    dDdt = 1/7.5 * p_C_to_D * min(Beds(t), C) + max(0, C-Beds(t))\n",
    "    return dSdt, dEdt, dIdt, dCdt, dRdt, dDdt"
   ]
  },
  {
   "cell_type": "markdown",
   "metadata": {},
   "source": [
    "Esas son realmente las ecuaciones escritas en `Python`, ¡no pasa nada emocionante! Ahora, sobre la función $R-0$ y todo el modelo que toma los parámetros para ajustarse (y algunos ya los conocemos) para calcular las curvas de $S, E, I, C, R$ y $D$:"
   ]
  },
  {
   "cell_type": "code",
   "execution_count": 49,
   "metadata": {},
   "outputs": [],
   "source": [
    "gamma = 1.0/9.0\n",
    "sigma = 1.0/3.0\n",
    "\n",
    "def logistic_R_0(t, R_0_start, k, x0, R_0_end):\n",
    "    return (R_0_start-R_0_end) / (1 + np.exp(-k*(-t+x0))) + R_0_end\n",
    "\n",
    "def Model(days, agegroups, beds_per_100k, R_0_start, k, x0, R_0_end, prob_I_to_C, prob_C_to_D, s):\n",
    "\n",
    "    def beta(t):\n",
    "        return logistic_R_0(t, R_0_start, k, x0, R_0_end) * gamma\n",
    "\n",
    "    # agegroups is list with number of people per age group -> sum to get population\n",
    "    N = sum(agegroups)  \n",
    "    \n",
    "    def Beds(t):\n",
    "        # the table stores beds per 100 k -> get total number\n",
    "        beds_0 = beds_per_100k / 100_000 * N  \n",
    "        return beds_0 + s*beds_0*t  # 0.003\n",
    "\n",
    "    y0 = N-1.0, 1.0, 0.0, 0.0, 0.0, 0.0  # one exposed, everyone else susceptible\n",
    "    t = np.linspace(0, days, days)\n",
    "    ret = odeint(deriv, y0, t, args=(beta, gamma, sigma, N, prob_I_to_C, prob_C_to_D, Beds))\n",
    "    S, E, I, C, R, D = ret.T\n",
    "\n",
    "    R_0_over_time = [beta(i)/gamma for i in range(len(t))]  # get R0 over time for plotting\n",
    "\n",
    "    return t, S, E, I, C, R, D, R_0_over_time, Beds, prob_I_to_C, prob_C_to_D"
   ]
  },
  {
   "cell_type": "markdown",
   "metadata": {},
   "source": [
    "Esto es lo que obtenemos cuando simulamos una enfermedad en una población con camas insuficientes en la *UCI* (la función graficada está en el cuaderno):"
   ]
  },
  {
   "cell_type": "markdown",
   "metadata": {},
   "source": [
    "Puede ver el aumento en las muertes atribuidas a la escasez de recursos (no hay suficientes camas) en el gráfico en la esquina inferior derecha.\n",
    "\n",
    "Bien, ahora tenemos el modelo y los datos. ¡Aprovechemos nuestras habilidades de ajuste de curvas!"
   ]
  },
  {
   "cell_type": "markdown",
   "metadata": {},
   "source": [
    "## Ajuste de curvas"
   ]
  },
  {
   "cell_type": "markdown",
   "metadata": {},
   "source": [
    "Primero, hacemos que los datos se ajusten y los parámetros que ya conocemos, y definimos las suposiciones iniciales y los límites inferior y superior para aquellos que no conocemos (para ayudar al ajustador de curvas y obtener buenos resultados): siéntase libre de cambiar los supuestos iniciales y límites"
   ]
  },
  {
   "cell_type": "code",
   "execution_count": 50,
   "metadata": {},
   "outputs": [],
   "source": [
    "country = \"Colombia\"\n",
    "data = covid_data[covid_data[\"Location\"] == country][\"Value\"].values[::-1]\n",
    "agegroups = agegroup_lookup[country]\n",
    "beds_per_100k = beds_lookup[country]\n",
    "outbreak_shift = 30\n",
    "# parameters to fit; form: {parameter: (initial guess, minimum value, max value)}\n",
    "params_init_min_max = {\"R_0_start\": (3.0, 2.0, 5.0), \"k\": (2.5, 0.01, 5.0), \n",
    "                       \"x0\": (90, 0, 120), \"R_0_end\": (0.9, 0.3, 3.5),\n",
    "                       \"prob_I_to_C\": (0.05, 0.01, 0.1), \"prob_C_to_D\": (0.5, 0.05, 0.8),\n",
    "                       \"s\": (0.003, 0.001, 0.01)}"
   ]
  },
  {
   "cell_type": "markdown",
   "metadata": {},
   "source": [
    "Un parámetro que es muy importante y del que aún no hemos hablado es *outbreak_shift*: los datos del caso comienzan el 21 de enero, por lo que nuestro modelo pensará que el virus comenzó a extenderse ese día. Para muchos países, esto podría haber sido días o semanas más tarde o más temprano, y tiene un gran impacto en la adaptación. Por supuesto, todavía no sabemos cuándo se infectó la primera persona en cada país; utilice su mejor criterio. Por ejemplo, si cree que el país en el que está tratando de encajar tuvo el primer caso el 30 de enero, debe establecer outbreak_shift en -9.\n",
    "\n",
    "\n",
    "(Lamentablemente, no es fácil usar *outbreak_shift* como parámetro adicional ya que solo se permiten enteros (días completos), y la programación de enteros es bastante difícil (NP-hard, de hecho); tendríamos que recurrir a costos computacionalmente altos).\n",
    "\n",
    "Ahora llenamos los datos que queremos ajustar (las muertes por día) con ceros al principio para dar cuenta del *outbreak_shift*. También definimos los valores de $x$ para el ajuste; eso es solo una lista $[0, 1, 2, \\ldots, \\text{número total de días}]$.\n"
   ]
  },
  {
   "cell_type": "code",
   "execution_count": 51,
   "metadata": {},
   "outputs": [],
   "source": [
    "days = outbreak_shift + len(data)\n",
    "if outbreak_shift >= 0:\n",
    "    y_data = np.concatenate((np.zeros(outbreak_shift), data))\n",
    "else:\n",
    "    y_data = y_data[-outbreak_shift:]\n",
    "\n",
    "x_data = np.linspace(0, days - 1, days, dtype=int)  # x_data is just [0, 1, ..., max_days] array"
   ]
  },
  {
   "cell_type": "markdown",
   "metadata": {},
   "source": [
    "Para el ajuste, necesitamos una función que tome exactamente un valor de $x$ como primer argumento (el día) y todos los parámetros que queremos ajustar, y que devuelva las muertes predichas por el modelo para ese valor de $x$ y los parámetros, de modo que El ajustador de curvas puede comparar la predicción del modelo con los datos reales. Aquí está:"
   ]
  },
  {
   "cell_type": "code",
   "execution_count": 52,
   "metadata": {},
   "outputs": [],
   "source": [
    "def fitter(x, R_0_start, k, x0, R_0_end, prob_I_to_C, prob_C_to_D, s):\n",
    "    ret = Model(days, agegroups, beds_per_100k, R_0_start, k, x0, R_0_end, prob_I_to_C, prob_C_to_D, s)\n",
    "    # Model returns bit tuple. 7-th value (index=6) is list with deaths per day.\n",
    "    deaths_predicted = ret[6]\n",
    "    return deaths_predicted[x]"
   ]
  },
  {
   "cell_type": "markdown",
   "metadata": {},
   "source": [
    "¡No queda mucho por hacer! Simplemente inicialice un modelo de ajuste de curvas, establezca los parámetros de acuerdo con los *inits*, *mins* y *maxs* que definimos, establezca un método de ajuste (puede probar diferentes aquí, diferencial_evolución podría funcionar bien, por ejemplo) y ajuste:"
   ]
  },
  {
   "cell_type": "code",
   "execution_count": 53,
   "metadata": {},
   "outputs": [],
   "source": [
    "mod = lmfit.Model(fitter)\n",
    "\n",
    "for kwarg, (init, mini, maxi) in params_init_min_max.items():\n",
    "    mod.set_param_hint(str(kwarg), value=init, min=mini, max=maxi, vary=True)\n",
    "\n",
    "params = mod.make_params()\n",
    "fit_method = \"leastsq\""
   ]
  },
  {
   "cell_type": "code",
   "execution_count": 54,
   "metadata": {},
   "outputs": [],
   "source": [
    "result = mod.fit(y_data, params, method=fit_method, x=x_data)"
   ]
  },
  {
   "cell_type": "code",
   "execution_count": 55,
   "metadata": {},
   "outputs": [
    {
     "data": {
      "image/png": "[encoded data removed]",
      "text/plain": [
       "<Figure size 432x288 with 1 Axes>"
      ]
     },
     "metadata": {
      "needs_background": "light"
     },
     "output_type": "display_data"
    }
   ],
   "source": [
    "result.plot_fit(datafmt=\"-\");"
   ]
  },
  {
   "cell_type": "markdown",
   "metadata": {},
   "source": [
    "¡No está mal! Veamos los parámetros que predice el instalador:"
   ]
  },
  {
   "cell_type": "code",
   "execution_count": 56,
   "metadata": {},
   "outputs": [
    {
     "data": {
      "text/plain": [
       "{'R_0_start': 3.0268276911770853,\n",
       " 'k': 0.04306186939469392,\n",
       " 'x0': 91.98152811646635,\n",
       " 'R_0_end': 1.3860850878281252,\n",
       " 'prob_I_to_C': 0.012382763784346582,\n",
       " 'prob_C_to_D': 0.12960345609884644,\n",
       " 's': 0.009574174213453447}"
      ]
     },
     "execution_count": 56,
     "metadata": {},
     "output_type": "execute_result"
    }
   ],
   "source": [
    "result.best_values"
   ]
  },
  {
   "cell_type": "markdown",
   "metadata": {},
   "source": [
    "¡Genial, se ven bastante realistas y en línea con muchos puntos de datos reportados en la vida real! $x_0$ es $84$, por lo que con los datos que comienzan el *21 de enero* y el cambio de brote establecido a *30 días*, el día $84$ para nuestro modelo es el *15 de marzo*. $x_0$ es la fecha de la disminución más pronunciada en $R_0$, por lo que nuestro modelo cree que el principal \"*bloqueo*\" Tuvo lugar en *Italia* alrededor del *15 de marzo*, muy cerca de la fecha real.\n",
    "\n",
    "Usemos los parámetros que mejor se ajustan para ver el futuro que predice nuestro modelo (puede hacer zoom cuando mira el código en el cuaderno):"
   ]
  },
  {
   "cell_type": "markdown",
   "metadata": {},
   "source": [
    "Tenga en cuenta el aumento en las muertes debido a los hospitales llenos a finales de marzo de 2020 que aumenta la tasa de mortalidad, que finalmente llega a alrededor del $1,4\\%$.\n",
    "\n",
    "Aquí está la predicción ampliada de marzo a mayo: si el modelo es correcto, Italia ya ha pasado por lo peor y las muertes deberían disminuir considerablemente en los próximos meses. Por supuesto, nuestro modelo piensa que $R_0$ se mantendrá alrededor de $0.6$; Si vuelve a subir a medida que se revierten los bloqueos, ¡los números comenzarán a aumentar nuevamente!"
   ]
  },
  {
   "cell_type": "code",
   "execution_count": null,
   "metadata": {},
   "outputs": [],
   "source": []
  }
 ],
 "metadata": {
  "kernelspec": {
   "display_name": "Python 3",
   "language": "python",
   "name": "python3"
  },
  "language_info": {
   "codemirror_mode": {
    "name": "ipython",
    "version": 3
   },
   "file_extension": ".py",
   "mimetype": "text/x-python",
   "name": "python",
   "nbconvert_exporter": "python",
   "pygments_lexer": "ipython3",
   "version": "3.6.10"
  },
  "latex_envs": {
   "LaTeX_envs_menu_present": true,
   "autoclose": false,
   "autocomplete": true,
   "bibliofile": "biblio.bib",
   "cite_by": "apalike",
   "current_citInitial": 1,
   "eqLabelWithNumbers": true,
   "eqNumInitial": 1,
   "hotkeys": {
    "equation": "Ctrl-E",
    "itemize": "Ctrl-I"
   },
   "labels_anchors": false,
   "latex_user_defs": false,
   "report_style_numbering": false,
   "user_envs_cfg": false
  },
  "toc": {
   "base_numbering": 1,
   "nav_menu": {},
   "number_sections": true,
   "sideBar": true,
   "skip_h1_title": false,
   "title_cell": "Table of Contents",
   "title_sidebar": "Contents",
   "toc_cell": false,
   "toc_position": {
    "height": "calc(100% - 180px)",
    "left": "10px",
    "top": "150px",
    "width": "230.391px"
   },
   "toc_section_display": true,
   "toc_window_display": true
  },
  "varInspector": {
   "cols": {
    "lenName": 16,
    "lenType": 16,
    "lenVar": 40
   },
   "kernels_config": {
    "python": {
     "delete_cmd_postfix": "",
     "delete_cmd_prefix": "del ",
     "library": "var_list.py",
     "varRefreshCmd": "print(var_dic_list())"
    },
    "r": {
     "delete_cmd_postfix": ") ",
     "delete_cmd_prefix": "rm(",
     "library": "var_list.r",
     "varRefreshCmd": "cat(var_dic_list()) "
    }
   },
   "types_to_exclude": [
    "module",
    "function",
    "builtin_function_or_method",
    "instance",
    "_Feature"
   ],
   "window_display": false
  }
 },
 "nbformat": 4,
 "nbformat_minor": 4
}
