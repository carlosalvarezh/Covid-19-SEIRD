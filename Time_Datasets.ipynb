{
 "cells": [
  {
   "cell_type": "code",
   "execution_count": 1,
   "metadata": {},
   "outputs": [],
   "source": [
    "import numpy as np\n",
    "import pandas as pd\n",
    "import datetime\n",
    "import matplotlib.pyplot as plt"
   ]
  },
  {
   "cell_type": "markdown",
   "metadata": {},
   "source": [
    "# Análisis de Datos"
   ]
  },
  {
   "cell_type": "markdown",
   "metadata": {},
   "source": [
    "Recordemos del tema inicial de `Pandas` los cinco (5) pasos para el análisis de datos:\n",
    "\n",
    "- cargar, \n",
    "\n",
    "\n",
    "- preparar, \n",
    "\n",
    "\n",
    "- manipular, \n",
    "\n",
    "\n",
    "- modelar, y \n",
    "\n",
    "\n",
    "- analizar."
   ]
  },
  {
   "cell_type": "markdown",
   "metadata": {
    "heading_collapsed": true
   },
   "source": [
    "## Cargada de datos"
   ]
  },
  {
   "cell_type": "markdown",
   "metadata": {
    "hidden": true
   },
   "source": [
    "Los datos pueden provenir de diferentes fuentes. Se pueden ir generando a medida que se desarrolla el problema o se pueen cargar de archivos externos. Vamos a leer el conjunto de datos (`dataset`) desde un archivo de texto (`csv`) y adicionalmente convertimos la columna de la serie temporal con el argumento `parse_dates`."
   ]
  },
  {
   "cell_type": "code",
   "execution_count": 13,
   "metadata": {
    "hidden": true,
    "scrolled": false
   },
   "outputs": [],
   "source": [
    "dfdata = pd.read_csv(\"Datasets/timestamp01.csv\", parse_dates=['timestamp'])"
   ]
  },
  {
   "cell_type": "markdown",
   "metadata": {
    "heading_collapsed": true
   },
   "source": [
    "## Inspección de la información"
   ]
  },
  {
   "cell_type": "markdown",
   "metadata": {
    "hidden": true
   },
   "source": [
    "Una vez cargados los datos se hace una inspección de los mismos para saber del tipo, cantidad, calidad, entre otros"
   ]
  },
  {
   "cell_type": "code",
   "execution_count": 14,
   "metadata": {
    "hidden": true
   },
   "outputs": [
    {
     "name": "stdout",
     "output_type": "stream",
     "text": [
      "<class 'pandas.core.frame.DataFrame'>\n",
      "RangeIndex: 71996 entries, 0 to 71995\n",
      "Data columns (total 2 columns):\n",
      " #   Column     Non-Null Count  Dtype         \n",
      "---  ------     --------------  -----         \n",
      " 0   user_id    61582 non-null  float64       \n",
      " 1   timestamp  61582 non-null  datetime64[ns]\n",
      "dtypes: datetime64[ns](1), float64(1)\n",
      "memory usage: 1.1 MB\n",
      "       user_id           timestamp\n",
      "0        621.0 2020-05-07 00:00:02\n",
      "1        818.0 2020-05-07 00:00:10\n",
      "2          4.0 2020-05-07 00:00:21\n",
      "3        563.0 2020-05-07 00:00:21\n",
      "4        671.0 2020-05-07 00:00:26\n",
      "...        ...                 ...\n",
      "71991      NaN                 NaT\n",
      "71992      NaN                 NaT\n",
      "71993      NaN                 NaT\n",
      "71994      NaN                 NaT\n",
      "71995      NaN                 NaT\n",
      "\n",
      "[71996 rows x 2 columns]\n"
     ]
    },
    {
     "data": {
      "text/html": [
       "<div>\n",
       "<style scoped>\n",
       "    .dataframe tbody tr th:only-of-type {\n",
       "        vertical-align: middle;\n",
       "    }\n",
       "\n",
       "    .dataframe tbody tr th {\n",
       "        vertical-align: top;\n",
       "    }\n",
       "\n",
       "    .dataframe thead th {\n",
       "        text-align: right;\n",
       "    }\n",
       "</style>\n",
       "<table border=\"1\" class=\"dataframe\">\n",
       "  <thead>\n",
       "    <tr style=\"text-align: right;\">\n",
       "      <th></th>\n",
       "      <th>user_id</th>\n",
       "      <th>timestamp</th>\n",
       "    </tr>\n",
       "  </thead>\n",
       "  <tbody>\n",
       "    <tr>\n",
       "      <th>0</th>\n",
       "      <td>621.0</td>\n",
       "      <td>2020-05-07 00:00:02</td>\n",
       "    </tr>\n",
       "    <tr>\n",
       "      <th>1</th>\n",
       "      <td>818.0</td>\n",
       "      <td>2020-05-07 00:00:10</td>\n",
       "    </tr>\n",
       "    <tr>\n",
       "      <th>2</th>\n",
       "      <td>4.0</td>\n",
       "      <td>2020-05-07 00:00:21</td>\n",
       "    </tr>\n",
       "    <tr>\n",
       "      <th>3</th>\n",
       "      <td>563.0</td>\n",
       "      <td>2020-05-07 00:00:21</td>\n",
       "    </tr>\n",
       "    <tr>\n",
       "      <th>4</th>\n",
       "      <td>671.0</td>\n",
       "      <td>2020-05-07 00:00:26</td>\n",
       "    </tr>\n",
       "  </tbody>\n",
       "</table>\n",
       "</div>"
      ],
      "text/plain": [
       "   user_id           timestamp\n",
       "0    621.0 2020-05-07 00:00:02\n",
       "1    818.0 2020-05-07 00:00:10\n",
       "2      4.0 2020-05-07 00:00:21\n",
       "3    563.0 2020-05-07 00:00:21\n",
       "4    671.0 2020-05-07 00:00:26"
      ]
     },
     "execution_count": 14,
     "metadata": {},
     "output_type": "execute_result"
    }
   ],
   "source": [
    "dfdata.info()\n",
    "print(dfdata)\n",
    "dfdata.head()"
   ]
  },
  {
   "cell_type": "markdown",
   "metadata": {
    "hidden": true
   },
   "source": [
    "Haciendo una lectura de la información suministrada, se observa que los datos cargados están repartidos en dos columnas: `user_id` (del tipo `float64`) y `timestamp` (del tipo `datetime64[ns]`), y $71996$ filas, de las cuales $61582$ contienen datos no nulos (como se observan las últimas líneas mostradas."
   ]
  },
  {
   "cell_type": "markdown",
   "metadata": {
    "heading_collapsed": true
   },
   "source": [
    "## Limpieza de datos"
   ]
  },
  {
   "cell_type": "markdown",
   "metadata": {
    "hidden": true
   },
   "source": [
    "El siguiente paso es hacer limpieza de los datos. La limpieza puede consistir en llenar los datos nulos (`NaN`) con algún valor fuera fuera del rango de valores preexistentes (en muchos casos por ejemplo con el número `-9999` para diferenciar de los datos reales). También pueden simplemente eliminarse, depende de la necesidad puntual.\n",
    "\n",
    "Si se opta por rellenar los datos con algún valor diferente al rango original de los datos, para poderlos diferenciar posteriormente y filtrarlos, se usa el métodos `fillna()`, y entre el paréntesis se pone el valor de identificación (en este caso el $0$."
   ]
  },
  {
   "cell_type": "raw",
   "metadata": {
    "hidden": true
   },
   "source": [
    "dfdata = dfdata.fillna(0)"
   ]
  },
  {
   "cell_type": "markdown",
   "metadata": {
    "hidden": true
   },
   "source": [
    "Si se decide excluirlos, se usa el método `dropna()` (sin argumento). Este será el método que emplearemos"
   ]
  },
  {
   "cell_type": "code",
   "execution_count": 15,
   "metadata": {
    "collapsed": true,
    "hidden": true
   },
   "outputs": [
    {
     "name": "stdout",
     "output_type": "stream",
     "text": [
      "<class 'pandas.core.frame.DataFrame'>\n",
      "Int64Index: 61582 entries, 0 to 61581\n",
      "Data columns (total 2 columns):\n",
      " #   Column     Non-Null Count  Dtype         \n",
      "---  ------     --------------  -----         \n",
      " 0   user_id    61582 non-null  float64       \n",
      " 1   timestamp  61582 non-null  datetime64[ns]\n",
      "dtypes: datetime64[ns](1), float64(1)\n",
      "memory usage: 1.4 MB\n",
      "       user_id           timestamp\n",
      "0        621.0 2020-05-07 00:00:02\n",
      "1        818.0 2020-05-07 00:00:10\n",
      "2          4.0 2020-05-07 00:00:21\n",
      "3        563.0 2020-05-07 00:00:21\n",
      "4        671.0 2020-05-07 00:00:26\n",
      "...        ...                 ...\n",
      "61577     12.0 2020-05-07 23:59:18\n",
      "61578    646.0 2020-05-07 23:59:20\n",
      "61579    458.0 2020-05-07 23:59:34\n",
      "61580    968.0 2020-05-07 23:59:53\n",
      "61581    775.0 2020-05-07 23:59:59\n",
      "\n",
      "[61582 rows x 2 columns]\n"
     ]
    }
   ],
   "source": [
    "dfdata = dfdata.dropna()\n",
    "dfdata.info()\n",
    "print(dfdata)"
   ]
  },
  {
   "cell_type": "markdown",
   "metadata": {
    "hidden": true
   },
   "source": [
    "Ahora se observa que la cantidad de entradas, $61582$ coincide con la totalidad de filas de datos (empezando en cero)"
   ]
  },
  {
   "cell_type": "markdown",
   "metadata": {
    "heading_collapsed": true
   },
   "source": [
    "## Manipulación de datos"
   ]
  },
  {
   "cell_type": "markdown",
   "metadata": {
    "hidden": true
   },
   "source": [
    "Una vez ya con los datos reales con los que vamos a trabajar, se procede a realizar una manipulación de la información para adecuarla al tipo de análisis a desarrollar. \n",
    "\n",
    "Como vamos a trabajar con un dataset que contiene series temporales (datos representados en formato de tiempo, `timeseries`), se emplea que la columna con el dato temporal se convierta en el índice del `dataframe`"
   ]
  },
  {
   "cell_type": "code",
   "execution_count": 16,
   "metadata": {
    "hidden": true
   },
   "outputs": [
    {
     "data": {
      "text/plain": [
       "DatetimeIndex(['2020-05-07 00:00:02', '2020-05-07 00:00:10',\n",
       "               '2020-05-07 00:00:21', '2020-05-07 00:00:21',\n",
       "               '2020-05-07 00:00:26', '2020-05-07 00:00:28',\n",
       "               '2020-05-07 00:00:33', '2020-05-07 00:00:58',\n",
       "               '2020-05-07 00:01:00', '2020-05-07 00:01:04',\n",
       "               ...\n",
       "               '2020-05-07 23:58:53', '2020-05-07 23:58:55',\n",
       "               '2020-05-07 23:58:57', '2020-05-07 23:59:08',\n",
       "               '2020-05-07 23:59:13', '2020-05-07 23:59:18',\n",
       "               '2020-05-07 23:59:20', '2020-05-07 23:59:34',\n",
       "               '2020-05-07 23:59:53', '2020-05-07 23:59:59'],\n",
       "              dtype='datetime64[ns]', name='timestamp', length=61582, freq=None)"
      ]
     },
     "execution_count": 16,
     "metadata": {},
     "output_type": "execute_result"
    }
   ],
   "source": [
    "dfdata.set_index('timestamp', inplace=True)\n",
    "dfdata.index"
   ]
  },
  {
   "cell_type": "markdown",
   "metadata": {
    "hidden": true
   },
   "source": [
    "y la columna `user_id` que aparece como `float64` realmente son valores enteros. Se hace el cambio de tipo a `int64`."
   ]
  },
  {
   "cell_type": "code",
   "execution_count": 17,
   "metadata": {
    "hidden": true
   },
   "outputs": [
    {
     "name": "stdout",
     "output_type": "stream",
     "text": [
      "<class 'pandas.core.frame.DataFrame'>\n",
      "DatetimeIndex: 61582 entries, 2020-05-07 00:00:02 to 2020-05-07 23:59:59\n",
      "Data columns (total 1 columns):\n",
      " #   Column   Non-Null Count  Dtype\n",
      "---  ------   --------------  -----\n",
      " 0   user_id  61582 non-null  int64\n",
      "dtypes: int64(1)\n",
      "memory usage: 962.2 KB\n"
     ]
    },
    {
     "data": {
      "text/html": [
       "<div>\n",
       "<style scoped>\n",
       "    .dataframe tbody tr th:only-of-type {\n",
       "        vertical-align: middle;\n",
       "    }\n",
       "\n",
       "    .dataframe tbody tr th {\n",
       "        vertical-align: top;\n",
       "    }\n",
       "\n",
       "    .dataframe thead th {\n",
       "        text-align: right;\n",
       "    }\n",
       "</style>\n",
       "<table border=\"1\" class=\"dataframe\">\n",
       "  <thead>\n",
       "    <tr style=\"text-align: right;\">\n",
       "      <th></th>\n",
       "      <th>user_id</th>\n",
       "    </tr>\n",
       "    <tr>\n",
       "      <th>timestamp</th>\n",
       "      <th></th>\n",
       "    </tr>\n",
       "  </thead>\n",
       "  <tbody>\n",
       "    <tr>\n",
       "      <th>2020-05-07 00:00:02</th>\n",
       "      <td>621</td>\n",
       "    </tr>\n",
       "    <tr>\n",
       "      <th>2020-05-07 00:00:10</th>\n",
       "      <td>818</td>\n",
       "    </tr>\n",
       "    <tr>\n",
       "      <th>2020-05-07 00:00:21</th>\n",
       "      <td>4</td>\n",
       "    </tr>\n",
       "    <tr>\n",
       "      <th>2020-05-07 00:00:21</th>\n",
       "      <td>563</td>\n",
       "    </tr>\n",
       "    <tr>\n",
       "      <th>2020-05-07 00:00:26</th>\n",
       "      <td>671</td>\n",
       "    </tr>\n",
       "  </tbody>\n",
       "</table>\n",
       "</div>"
      ],
      "text/plain": [
       "                     user_id\n",
       "timestamp                   \n",
       "2020-05-07 00:00:02      621\n",
       "2020-05-07 00:00:10      818\n",
       "2020-05-07 00:00:21        4\n",
       "2020-05-07 00:00:21      563\n",
       "2020-05-07 00:00:26      671"
      ]
     },
     "execution_count": 17,
     "metadata": {},
     "output_type": "execute_result"
    }
   ],
   "source": [
    "dfdata['user_id'] = dfdata['user_id'].astype(np.int64)\n",
    "dfdata.info()\n",
    "dfdata.head()"
   ]
  },
  {
   "cell_type": "markdown",
   "metadata": {
    "heading_collapsed": true
   },
   "source": [
    "## Modelar"
   ]
  },
  {
   "cell_type": "markdown",
   "metadata": {
    "hidden": true
   },
   "source": [
    "A continuación haremos unas operaciones básicas de consulta de información.\n",
    "\n",
    "Inicialmente, localicemos los datos que tienen índice `2020-05-06 00:00:21`"
   ]
  },
  {
   "cell_type": "code",
   "execution_count": 18,
   "metadata": {
    "hidden": true
   },
   "outputs": [
    {
     "data": {
      "text/html": [
       "<div>\n",
       "<style scoped>\n",
       "    .dataframe tbody tr th:only-of-type {\n",
       "        vertical-align: middle;\n",
       "    }\n",
       "\n",
       "    .dataframe tbody tr th {\n",
       "        vertical-align: top;\n",
       "    }\n",
       "\n",
       "    .dataframe thead th {\n",
       "        text-align: right;\n",
       "    }\n",
       "</style>\n",
       "<table border=\"1\" class=\"dataframe\">\n",
       "  <thead>\n",
       "    <tr style=\"text-align: right;\">\n",
       "      <th></th>\n",
       "      <th>user_id</th>\n",
       "    </tr>\n",
       "    <tr>\n",
       "      <th>timestamp</th>\n",
       "      <th></th>\n",
       "    </tr>\n",
       "  </thead>\n",
       "  <tbody>\n",
       "    <tr>\n",
       "      <th>2020-05-07 00:00:21</th>\n",
       "      <td>4</td>\n",
       "    </tr>\n",
       "    <tr>\n",
       "      <th>2020-05-07 00:00:21</th>\n",
       "      <td>563</td>\n",
       "    </tr>\n",
       "  </tbody>\n",
       "</table>\n",
       "</div>"
      ],
      "text/plain": [
       "                     user_id\n",
       "timestamp                   \n",
       "2020-05-07 00:00:21        4\n",
       "2020-05-07 00:00:21      563"
      ]
     },
     "execution_count": 18,
     "metadata": {},
     "output_type": "execute_result"
    }
   ],
   "source": [
    "dfdata.loc['2020-05-07 00:00:21']"
   ]
  },
  {
   "cell_type": "markdown",
   "metadata": {
    "hidden": true
   },
   "source": [
    "o que se encuentran dentro de un rango establecido:"
   ]
  },
  {
   "cell_type": "code",
   "execution_count": 19,
   "metadata": {
    "collapsed": true,
    "hidden": true
   },
   "outputs": [
    {
     "data": {
      "text/html": [
       "<div>\n",
       "<style scoped>\n",
       "    .dataframe tbody tr th:only-of-type {\n",
       "        vertical-align: middle;\n",
       "    }\n",
       "\n",
       "    .dataframe tbody tr th {\n",
       "        vertical-align: top;\n",
       "    }\n",
       "\n",
       "    .dataframe thead th {\n",
       "        text-align: right;\n",
       "    }\n",
       "</style>\n",
       "<table border=\"1\" class=\"dataframe\">\n",
       "  <thead>\n",
       "    <tr style=\"text-align: right;\">\n",
       "      <th></th>\n",
       "      <th>user_id</th>\n",
       "    </tr>\n",
       "    <tr>\n",
       "      <th>timestamp</th>\n",
       "      <th></th>\n",
       "    </tr>\n",
       "  </thead>\n",
       "  <tbody>\n",
       "    <tr>\n",
       "      <th>2020-05-07 00:00:02</th>\n",
       "      <td>621</td>\n",
       "    </tr>\n",
       "    <tr>\n",
       "      <th>2020-05-07 00:00:10</th>\n",
       "      <td>818</td>\n",
       "    </tr>\n",
       "    <tr>\n",
       "      <th>2020-05-07 00:00:21</th>\n",
       "      <td>4</td>\n",
       "    </tr>\n",
       "    <tr>\n",
       "      <th>2020-05-07 00:00:21</th>\n",
       "      <td>563</td>\n",
       "    </tr>\n",
       "    <tr>\n",
       "      <th>2020-05-07 00:00:26</th>\n",
       "      <td>671</td>\n",
       "    </tr>\n",
       "    <tr>\n",
       "      <th>2020-05-07 00:00:28</th>\n",
       "      <td>780</td>\n",
       "    </tr>\n",
       "    <tr>\n",
       "      <th>2020-05-07 00:00:33</th>\n",
       "      <td>136</td>\n",
       "    </tr>\n",
       "    <tr>\n",
       "      <th>2020-05-07 00:00:58</th>\n",
       "      <td>621</td>\n",
       "    </tr>\n",
       "    <tr>\n",
       "      <th>2020-05-07 00:00:05</th>\n",
       "      <td>296</td>\n",
       "    </tr>\n",
       "    <tr>\n",
       "      <th>2020-05-07 00:00:38</th>\n",
       "      <td>700</td>\n",
       "    </tr>\n",
       "    <tr>\n",
       "      <th>2020-05-07 00:00:53</th>\n",
       "      <td>527</td>\n",
       "    </tr>\n",
       "    <tr>\n",
       "      <th>2020-05-07 00:00:59</th>\n",
       "      <td>971</td>\n",
       "    </tr>\n",
       "    <tr>\n",
       "      <th>2020-05-07 00:00:14</th>\n",
       "      <td>189</td>\n",
       "    </tr>\n",
       "    <tr>\n",
       "      <th>2020-05-07 00:00:22</th>\n",
       "      <td>12</td>\n",
       "    </tr>\n",
       "    <tr>\n",
       "      <th>2020-05-07 00:00:29</th>\n",
       "      <td>544</td>\n",
       "    </tr>\n",
       "    <tr>\n",
       "      <th>2020-05-07 00:00:52</th>\n",
       "      <td>670</td>\n",
       "    </tr>\n",
       "    <tr>\n",
       "      <th>2020-05-07 00:00:55</th>\n",
       "      <td>396</td>\n",
       "    </tr>\n",
       "    <tr>\n",
       "      <th>2020-05-07 00:00:57</th>\n",
       "      <td>20</td>\n",
       "    </tr>\n",
       "    <tr>\n",
       "      <th>2020-05-07 00:00:05</th>\n",
       "      <td>972</td>\n",
       "    </tr>\n",
       "    <tr>\n",
       "      <th>2020-05-07 00:00:17</th>\n",
       "      <td>987</td>\n",
       "    </tr>\n",
       "    <tr>\n",
       "      <th>2020-05-07 00:00:25</th>\n",
       "      <td>282</td>\n",
       "    </tr>\n",
       "    <tr>\n",
       "      <th>2020-05-07 00:00:38</th>\n",
       "      <td>396</td>\n",
       "    </tr>\n",
       "    <tr>\n",
       "      <th>2020-05-07 00:00:39</th>\n",
       "      <td>505</td>\n",
       "    </tr>\n",
       "    <tr>\n",
       "      <th>2020-05-07 00:00:41</th>\n",
       "      <td>282</td>\n",
       "    </tr>\n",
       "    <tr>\n",
       "      <th>2020-05-07 00:00:42</th>\n",
       "      <td>122</td>\n",
       "    </tr>\n",
       "    <tr>\n",
       "      <th>2020-05-07 00:00:54</th>\n",
       "      <td>857</td>\n",
       "    </tr>\n",
       "    <tr>\n",
       "      <th>2020-05-07 00:00:07</th>\n",
       "      <td>46</td>\n",
       "    </tr>\n",
       "    <tr>\n",
       "      <th>2020-05-07 00:00:09</th>\n",
       "      <td>828</td>\n",
       "    </tr>\n",
       "    <tr>\n",
       "      <th>2020-05-07 00:00:22</th>\n",
       "      <td>93</td>\n",
       "    </tr>\n",
       "    <tr>\n",
       "      <th>2020-05-07 00:00:39</th>\n",
       "      <td>278</td>\n",
       "    </tr>\n",
       "    <tr>\n",
       "      <th>2020-05-07 00:00:40</th>\n",
       "      <td>496</td>\n",
       "    </tr>\n",
       "    <tr>\n",
       "      <th>2020-05-07 00:00:42</th>\n",
       "      <td>321</td>\n",
       "    </tr>\n",
       "    <tr>\n",
       "      <th>2020-05-07 00:00:54</th>\n",
       "      <td>888</td>\n",
       "    </tr>\n",
       "    <tr>\n",
       "      <th>2020-05-07 00:00:05</th>\n",
       "      <td>639</td>\n",
       "    </tr>\n",
       "    <tr>\n",
       "      <th>2020-05-07 00:00:17</th>\n",
       "      <td>28</td>\n",
       "    </tr>\n",
       "    <tr>\n",
       "      <th>2020-05-07 00:00:33</th>\n",
       "      <td>202</td>\n",
       "    </tr>\n",
       "    <tr>\n",
       "      <th>2020-05-07 00:00:53</th>\n",
       "      <td>254</td>\n",
       "    </tr>\n",
       "  </tbody>\n",
       "</table>\n",
       "</div>"
      ],
      "text/plain": [
       "                     user_id\n",
       "timestamp                   \n",
       "2020-05-07 00:00:02      621\n",
       "2020-05-07 00:00:10      818\n",
       "2020-05-07 00:00:21        4\n",
       "2020-05-07 00:00:21      563\n",
       "2020-05-07 00:00:26      671\n",
       "2020-05-07 00:00:28      780\n",
       "2020-05-07 00:00:33      136\n",
       "2020-05-07 00:00:58      621\n",
       "2020-05-07 00:00:05      296\n",
       "2020-05-07 00:00:38      700\n",
       "2020-05-07 00:00:53      527\n",
       "2020-05-07 00:00:59      971\n",
       "2020-05-07 00:00:14      189\n",
       "2020-05-07 00:00:22       12\n",
       "2020-05-07 00:00:29      544\n",
       "2020-05-07 00:00:52      670\n",
       "2020-05-07 00:00:55      396\n",
       "2020-05-07 00:00:57       20\n",
       "2020-05-07 00:00:05      972\n",
       "2020-05-07 00:00:17      987\n",
       "2020-05-07 00:00:25      282\n",
       "2020-05-07 00:00:38      396\n",
       "2020-05-07 00:00:39      505\n",
       "2020-05-07 00:00:41      282\n",
       "2020-05-07 00:00:42      122\n",
       "2020-05-07 00:00:54      857\n",
       "2020-05-07 00:00:07       46\n",
       "2020-05-07 00:00:09      828\n",
       "2020-05-07 00:00:22       93\n",
       "2020-05-07 00:00:39      278\n",
       "2020-05-07 00:00:40      496\n",
       "2020-05-07 00:00:42      321\n",
       "2020-05-07 00:00:54      888\n",
       "2020-05-07 00:00:05      639\n",
       "2020-05-07 00:00:17       28\n",
       "2020-05-07 00:00:33      202\n",
       "2020-05-07 00:00:53      254"
      ]
     },
     "execution_count": 19,
     "metadata": {},
     "output_type": "execute_result"
    }
   ],
   "source": [
    "dfdata.loc['2020-05-07 00:00:02':'2020-05-07 00:00:59']"
   ]
  },
  {
   "cell_type": "markdown",
   "metadata": {
    "hidden": true
   },
   "source": [
    "Podemos también graficar la información"
   ]
  },
  {
   "cell_type": "code",
   "execution_count": 20,
   "metadata": {
    "hidden": true
   },
   "outputs": [
    {
     "data": {
      "text/plain": [
       "<matplotlib.axes._subplots.AxesSubplot at 0x1decf99bcf8>"
      ]
     },
     "execution_count": 20,
     "metadata": {},
     "output_type": "execute_result"
    },
    {
     "data": {
      "image/png": "[encoded data removed]",
      "text/plain": [
       "<Figure size 432x288 with 1 Axes>"
      ]
     },
     "metadata": {
      "needs_background": "light"
     },
     "output_type": "display_data"
    }
   ],
   "source": [
    "dfdata.plot()"
   ]
  },
  {
   "cell_type": "markdown",
   "metadata": {
    "hidden": true
   },
   "source": [
    "o realizar un conteo de la cantidad de ingresos en un determinado rango de tiempo establecido (existen muchos otros estadísticos con los que se puede explorar)"
   ]
  },
  {
   "cell_type": "code",
   "execution_count": 24,
   "metadata": {
    "collapsed": true,
    "hidden": true
   },
   "outputs": [
    {
     "data": {
      "text/html": [
       "<div>\n",
       "<style scoped>\n",
       "    .dataframe tbody tr th:only-of-type {\n",
       "        vertical-align: middle;\n",
       "    }\n",
       "\n",
       "    .dataframe tbody tr th {\n",
       "        vertical-align: top;\n",
       "    }\n",
       "\n",
       "    .dataframe thead th {\n",
       "        text-align: right;\n",
       "    }\n",
       "</style>\n",
       "<table border=\"1\" class=\"dataframe\">\n",
       "  <thead>\n",
       "    <tr style=\"text-align: right;\">\n",
       "      <th></th>\n",
       "      <th>user_id</th>\n",
       "    </tr>\n",
       "    <tr>\n",
       "      <th>timestamp</th>\n",
       "      <th></th>\n",
       "    </tr>\n",
       "  </thead>\n",
       "  <tbody>\n",
       "    <tr>\n",
       "      <th>2020-05-07 01:00:00</th>\n",
       "      <td>2747</td>\n",
       "    </tr>\n",
       "    <tr>\n",
       "      <th>2020-05-07 02:00:00</th>\n",
       "      <td>2651</td>\n",
       "    </tr>\n",
       "    <tr>\n",
       "      <th>2020-05-07 03:00:00</th>\n",
       "      <td>2751</td>\n",
       "    </tr>\n",
       "    <tr>\n",
       "      <th>2020-05-07 04:00:00</th>\n",
       "      <td>2509</td>\n",
       "    </tr>\n",
       "    <tr>\n",
       "      <th>2020-05-07 05:00:00</th>\n",
       "      <td>2628</td>\n",
       "    </tr>\n",
       "    <tr>\n",
       "      <th>2020-05-07 06:00:00</th>\n",
       "      <td>2560</td>\n",
       "    </tr>\n",
       "    <tr>\n",
       "      <th>2020-05-07 07:00:00</th>\n",
       "      <td>2509</td>\n",
       "    </tr>\n",
       "    <tr>\n",
       "      <th>2020-05-07 08:00:00</th>\n",
       "      <td>2616</td>\n",
       "    </tr>\n",
       "    <tr>\n",
       "      <th>2020-05-07 09:00:00</th>\n",
       "      <td>2575</td>\n",
       "    </tr>\n",
       "    <tr>\n",
       "      <th>2020-05-07 10:00:00</th>\n",
       "      <td>2467</td>\n",
       "    </tr>\n",
       "    <tr>\n",
       "      <th>2020-05-07 11:00:00</th>\n",
       "      <td>2509</td>\n",
       "    </tr>\n",
       "    <tr>\n",
       "      <th>2020-05-07 12:00:00</th>\n",
       "      <td>2481</td>\n",
       "    </tr>\n",
       "    <tr>\n",
       "      <th>2020-05-07 13:00:00</th>\n",
       "      <td>2793</td>\n",
       "    </tr>\n",
       "    <tr>\n",
       "      <th>2020-05-07 14:00:00</th>\n",
       "      <td>2890</td>\n",
       "    </tr>\n",
       "    <tr>\n",
       "      <th>2020-05-07 15:00:00</th>\n",
       "      <td>2907</td>\n",
       "    </tr>\n",
       "    <tr>\n",
       "      <th>2020-05-07 16:00:00</th>\n",
       "      <td>2672</td>\n",
       "    </tr>\n",
       "    <tr>\n",
       "      <th>2020-05-07 17:00:00</th>\n",
       "      <td>2144</td>\n",
       "    </tr>\n",
       "    <tr>\n",
       "      <th>2020-05-07 18:00:00</th>\n",
       "      <td>2208</td>\n",
       "    </tr>\n",
       "    <tr>\n",
       "      <th>2020-05-07 19:00:00</th>\n",
       "      <td>2276</td>\n",
       "    </tr>\n",
       "    <tr>\n",
       "      <th>2020-05-07 20:00:00</th>\n",
       "      <td>2356</td>\n",
       "    </tr>\n",
       "    <tr>\n",
       "      <th>2020-05-07 21:00:00</th>\n",
       "      <td>2560</td>\n",
       "    </tr>\n",
       "    <tr>\n",
       "      <th>2020-05-07 22:00:00</th>\n",
       "      <td>2638</td>\n",
       "    </tr>\n",
       "    <tr>\n",
       "      <th>2020-05-07 23:00:00</th>\n",
       "      <td>2539</td>\n",
       "    </tr>\n",
       "    <tr>\n",
       "      <th>2020-05-08 00:00:00</th>\n",
       "      <td>2596</td>\n",
       "    </tr>\n",
       "  </tbody>\n",
       "</table>\n",
       "</div>"
      ],
      "text/plain": [
       "                     user_id\n",
       "timestamp                   \n",
       "2020-05-07 01:00:00     2747\n",
       "2020-05-07 02:00:00     2651\n",
       "2020-05-07 03:00:00     2751\n",
       "2020-05-07 04:00:00     2509\n",
       "2020-05-07 05:00:00     2628\n",
       "2020-05-07 06:00:00     2560\n",
       "2020-05-07 07:00:00     2509\n",
       "2020-05-07 08:00:00     2616\n",
       "2020-05-07 09:00:00     2575\n",
       "2020-05-07 10:00:00     2467\n",
       "2020-05-07 11:00:00     2509\n",
       "2020-05-07 12:00:00     2481\n",
       "2020-05-07 13:00:00     2793\n",
       "2020-05-07 14:00:00     2890\n",
       "2020-05-07 15:00:00     2907\n",
       "2020-05-07 16:00:00     2672\n",
       "2020-05-07 17:00:00     2144\n",
       "2020-05-07 18:00:00     2208\n",
       "2020-05-07 19:00:00     2276\n",
       "2020-05-07 20:00:00     2356\n",
       "2020-05-07 21:00:00     2560\n",
       "2020-05-07 22:00:00     2638\n",
       "2020-05-07 23:00:00     2539\n",
       "2020-05-08 00:00:00     2596"
      ]
     },
     "execution_count": 24,
     "metadata": {},
     "output_type": "execute_result"
    }
   ],
   "source": [
    "dfResampliado = dfdata.resample('H',label='right').count()"
   ]
  },
  {
   "cell_type": "code",
   "execution_count": 22,
   "metadata": {
    "collapsed": true,
    "hidden": true
   },
   "outputs": [
    {
     "data": {
      "text/html": [
       "<div>\n",
       "<style scoped>\n",
       "    .dataframe tbody tr th:only-of-type {\n",
       "        vertical-align: middle;\n",
       "    }\n",
       "\n",
       "    .dataframe tbody tr th {\n",
       "        vertical-align: top;\n",
       "    }\n",
       "\n",
       "    .dataframe thead th {\n",
       "        text-align: right;\n",
       "    }\n",
       "</style>\n",
       "<table border=\"1\" class=\"dataframe\">\n",
       "  <thead>\n",
       "    <tr style=\"text-align: right;\">\n",
       "      <th></th>\n",
       "      <th>user_id</th>\n",
       "    </tr>\n",
       "    <tr>\n",
       "      <th>timestamp</th>\n",
       "      <th></th>\n",
       "    </tr>\n",
       "  </thead>\n",
       "  <tbody>\n",
       "    <tr>\n",
       "      <th>2020-05-07 01:00:00</th>\n",
       "      <td>481.303240</td>\n",
       "    </tr>\n",
       "    <tr>\n",
       "      <th>2020-05-07 02:00:00</th>\n",
       "      <td>477.325160</td>\n",
       "    </tr>\n",
       "    <tr>\n",
       "      <th>2020-05-07 03:00:00</th>\n",
       "      <td>483.777899</td>\n",
       "    </tr>\n",
       "    <tr>\n",
       "      <th>2020-05-07 04:00:00</th>\n",
       "      <td>476.830610</td>\n",
       "    </tr>\n",
       "    <tr>\n",
       "      <th>2020-05-07 05:00:00</th>\n",
       "      <td>487.702055</td>\n",
       "    </tr>\n",
       "    <tr>\n",
       "      <th>2020-05-07 06:00:00</th>\n",
       "      <td>486.664062</td>\n",
       "    </tr>\n",
       "    <tr>\n",
       "      <th>2020-05-07 07:00:00</th>\n",
       "      <td>487.471901</td>\n",
       "    </tr>\n",
       "    <tr>\n",
       "      <th>2020-05-07 08:00:00</th>\n",
       "      <td>494.764144</td>\n",
       "    </tr>\n",
       "    <tr>\n",
       "      <th>2020-05-07 09:00:00</th>\n",
       "      <td>464.468738</td>\n",
       "    </tr>\n",
       "    <tr>\n",
       "      <th>2020-05-07 10:00:00</th>\n",
       "      <td>486.158087</td>\n",
       "    </tr>\n",
       "    <tr>\n",
       "      <th>2020-05-07 11:00:00</th>\n",
       "      <td>481.234755</td>\n",
       "    </tr>\n",
       "    <tr>\n",
       "      <th>2020-05-07 12:00:00</th>\n",
       "      <td>495.883112</td>\n",
       "    </tr>\n",
       "    <tr>\n",
       "      <th>2020-05-07 13:00:00</th>\n",
       "      <td>452.417114</td>\n",
       "    </tr>\n",
       "    <tr>\n",
       "      <th>2020-05-07 14:00:00</th>\n",
       "      <td>423.399654</td>\n",
       "    </tr>\n",
       "    <tr>\n",
       "      <th>2020-05-07 15:00:00</th>\n",
       "      <td>416.047816</td>\n",
       "    </tr>\n",
       "    <tr>\n",
       "      <th>2020-05-07 16:00:00</th>\n",
       "      <td>425.385853</td>\n",
       "    </tr>\n",
       "    <tr>\n",
       "      <th>2020-05-07 17:00:00</th>\n",
       "      <td>479.007929</td>\n",
       "    </tr>\n",
       "    <tr>\n",
       "      <th>2020-05-07 18:00:00</th>\n",
       "      <td>470.830163</td>\n",
       "    </tr>\n",
       "    <tr>\n",
       "      <th>2020-05-07 19:00:00</th>\n",
       "      <td>484.594464</td>\n",
       "    </tr>\n",
       "    <tr>\n",
       "      <th>2020-05-07 20:00:00</th>\n",
       "      <td>484.415959</td>\n",
       "    </tr>\n",
       "    <tr>\n",
       "      <th>2020-05-07 21:00:00</th>\n",
       "      <td>489.224219</td>\n",
       "    </tr>\n",
       "    <tr>\n",
       "      <th>2020-05-07 22:00:00</th>\n",
       "      <td>493.265732</td>\n",
       "    </tr>\n",
       "    <tr>\n",
       "      <th>2020-05-07 23:00:00</th>\n",
       "      <td>491.916109</td>\n",
       "    </tr>\n",
       "    <tr>\n",
       "      <th>2020-05-08 00:00:00</th>\n",
       "      <td>474.423729</td>\n",
       "    </tr>\n",
       "  </tbody>\n",
       "</table>\n",
       "</div>"
      ],
      "text/plain": [
       "                        user_id\n",
       "timestamp                      \n",
       "2020-05-07 01:00:00  481.303240\n",
       "2020-05-07 02:00:00  477.325160\n",
       "2020-05-07 03:00:00  483.777899\n",
       "2020-05-07 04:00:00  476.830610\n",
       "2020-05-07 05:00:00  487.702055\n",
       "2020-05-07 06:00:00  486.664062\n",
       "2020-05-07 07:00:00  487.471901\n",
       "2020-05-07 08:00:00  494.764144\n",
       "2020-05-07 09:00:00  464.468738\n",
       "2020-05-07 10:00:00  486.158087\n",
       "2020-05-07 11:00:00  481.234755\n",
       "2020-05-07 12:00:00  495.883112\n",
       "2020-05-07 13:00:00  452.417114\n",
       "2020-05-07 14:00:00  423.399654\n",
       "2020-05-07 15:00:00  416.047816\n",
       "2020-05-07 16:00:00  425.385853\n",
       "2020-05-07 17:00:00  479.007929\n",
       "2020-05-07 18:00:00  470.830163\n",
       "2020-05-07 19:00:00  484.594464\n",
       "2020-05-07 20:00:00  484.415959\n",
       "2020-05-07 21:00:00  489.224219\n",
       "2020-05-07 22:00:00  493.265732\n",
       "2020-05-07 23:00:00  491.916109\n",
       "2020-05-08 00:00:00  474.423729"
      ]
     },
     "execution_count": 22,
     "metadata": {},
     "output_type": "execute_result"
    }
   ],
   "source": [
    "dfdata.resample('H',label='right').mean()"
   ]
  },
  {
   "cell_type": "code",
   "execution_count": 23,
   "metadata": {
    "collapsed": true,
    "hidden": true
   },
   "outputs": [
    {
     "data": {
      "text/html": [
       "<div>\n",
       "<style scoped>\n",
       "    .dataframe tbody tr th:only-of-type {\n",
       "        vertical-align: middle;\n",
       "    }\n",
       "\n",
       "    .dataframe tbody tr th {\n",
       "        vertical-align: top;\n",
       "    }\n",
       "\n",
       "    .dataframe thead th {\n",
       "        text-align: right;\n",
       "    }\n",
       "</style>\n",
       "<table border=\"1\" class=\"dataframe\">\n",
       "  <thead>\n",
       "    <tr style=\"text-align: right;\">\n",
       "      <th></th>\n",
       "      <th>user_id</th>\n",
       "    </tr>\n",
       "    <tr>\n",
       "      <th>timestamp</th>\n",
       "      <th></th>\n",
       "    </tr>\n",
       "  </thead>\n",
       "  <tbody>\n",
       "    <tr>\n",
       "      <th>2020-05-07 01:00:00</th>\n",
       "      <td>1322140</td>\n",
       "    </tr>\n",
       "    <tr>\n",
       "      <th>2020-05-07 02:00:00</th>\n",
       "      <td>1265389</td>\n",
       "    </tr>\n",
       "    <tr>\n",
       "      <th>2020-05-07 03:00:00</th>\n",
       "      <td>1330873</td>\n",
       "    </tr>\n",
       "    <tr>\n",
       "      <th>2020-05-07 04:00:00</th>\n",
       "      <td>1196368</td>\n",
       "    </tr>\n",
       "    <tr>\n",
       "      <th>2020-05-07 05:00:00</th>\n",
       "      <td>1281681</td>\n",
       "    </tr>\n",
       "    <tr>\n",
       "      <th>2020-05-07 06:00:00</th>\n",
       "      <td>1245860</td>\n",
       "    </tr>\n",
       "    <tr>\n",
       "      <th>2020-05-07 07:00:00</th>\n",
       "      <td>1223067</td>\n",
       "    </tr>\n",
       "    <tr>\n",
       "      <th>2020-05-07 08:00:00</th>\n",
       "      <td>1294303</td>\n",
       "    </tr>\n",
       "    <tr>\n",
       "      <th>2020-05-07 09:00:00</th>\n",
       "      <td>1196007</td>\n",
       "    </tr>\n",
       "    <tr>\n",
       "      <th>2020-05-07 10:00:00</th>\n",
       "      <td>1199352</td>\n",
       "    </tr>\n",
       "    <tr>\n",
       "      <th>2020-05-07 11:00:00</th>\n",
       "      <td>1207418</td>\n",
       "    </tr>\n",
       "    <tr>\n",
       "      <th>2020-05-07 12:00:00</th>\n",
       "      <td>1230286</td>\n",
       "    </tr>\n",
       "    <tr>\n",
       "      <th>2020-05-07 13:00:00</th>\n",
       "      <td>1263601</td>\n",
       "    </tr>\n",
       "    <tr>\n",
       "      <th>2020-05-07 14:00:00</th>\n",
       "      <td>1223625</td>\n",
       "    </tr>\n",
       "    <tr>\n",
       "      <th>2020-05-07 15:00:00</th>\n",
       "      <td>1209451</td>\n",
       "    </tr>\n",
       "    <tr>\n",
       "      <th>2020-05-07 16:00:00</th>\n",
       "      <td>1136631</td>\n",
       "    </tr>\n",
       "    <tr>\n",
       "      <th>2020-05-07 17:00:00</th>\n",
       "      <td>1026993</td>\n",
       "    </tr>\n",
       "    <tr>\n",
       "      <th>2020-05-07 18:00:00</th>\n",
       "      <td>1039593</td>\n",
       "    </tr>\n",
       "    <tr>\n",
       "      <th>2020-05-07 19:00:00</th>\n",
       "      <td>1102937</td>\n",
       "    </tr>\n",
       "    <tr>\n",
       "      <th>2020-05-07 20:00:00</th>\n",
       "      <td>1141284</td>\n",
       "    </tr>\n",
       "    <tr>\n",
       "      <th>2020-05-07 21:00:00</th>\n",
       "      <td>1252414</td>\n",
       "    </tr>\n",
       "    <tr>\n",
       "      <th>2020-05-07 22:00:00</th>\n",
       "      <td>1301235</td>\n",
       "    </tr>\n",
       "    <tr>\n",
       "      <th>2020-05-07 23:00:00</th>\n",
       "      <td>1248975</td>\n",
       "    </tr>\n",
       "    <tr>\n",
       "      <th>2020-05-08 00:00:00</th>\n",
       "      <td>1231604</td>\n",
       "    </tr>\n",
       "  </tbody>\n",
       "</table>\n",
       "</div>"
      ],
      "text/plain": [
       "                     user_id\n",
       "timestamp                   \n",
       "2020-05-07 01:00:00  1322140\n",
       "2020-05-07 02:00:00  1265389\n",
       "2020-05-07 03:00:00  1330873\n",
       "2020-05-07 04:00:00  1196368\n",
       "2020-05-07 05:00:00  1281681\n",
       "2020-05-07 06:00:00  1245860\n",
       "2020-05-07 07:00:00  1223067\n",
       "2020-05-07 08:00:00  1294303\n",
       "2020-05-07 09:00:00  1196007\n",
       "2020-05-07 10:00:00  1199352\n",
       "2020-05-07 11:00:00  1207418\n",
       "2020-05-07 12:00:00  1230286\n",
       "2020-05-07 13:00:00  1263601\n",
       "2020-05-07 14:00:00  1223625\n",
       "2020-05-07 15:00:00  1209451\n",
       "2020-05-07 16:00:00  1136631\n",
       "2020-05-07 17:00:00  1026993\n",
       "2020-05-07 18:00:00  1039593\n",
       "2020-05-07 19:00:00  1102937\n",
       "2020-05-07 20:00:00  1141284\n",
       "2020-05-07 21:00:00  1252414\n",
       "2020-05-07 22:00:00  1301235\n",
       "2020-05-07 23:00:00  1248975\n",
       "2020-05-08 00:00:00  1231604"
      ]
     },
     "execution_count": 23,
     "metadata": {},
     "output_type": "execute_result"
    }
   ],
   "source": [
    "dfdata.resample('H',label='right').sum()"
   ]
  },
  {
   "cell_type": "markdown",
   "metadata": {
    "hidden": true
   },
   "source": [
    "y volvemos a graficar..."
   ]
  },
  {
   "cell_type": "code",
   "execution_count": 25,
   "metadata": {
    "hidden": true
   },
   "outputs": [
    {
     "data": {
      "image/png": "[encoded data removed]",
      "text/plain": [
       "<Figure size 432x288 with 1 Axes>"
      ]
     },
     "metadata": {
      "needs_background": "light"
     },
     "output_type": "display_data"
    }
   ],
   "source": [
    "contar = dfdata.resample('H').count().plot.bar()"
   ]
  },
  {
   "cell_type": "markdown",
   "metadata": {
    "heading_collapsed": true
   },
   "source": [
    "## Analizar ..."
   ]
  },
  {
   "cell_type": "code",
   "execution_count": null,
   "metadata": {
    "hidden": true
   },
   "outputs": [],
   "source": []
  }
 ],
 "metadata": {
  "kernelspec": {
   "display_name": "Python 3",
   "language": "python",
   "name": "python3"
  },
  "language_info": {
   "codemirror_mode": {
    "name": "ipython",
    "version": 3
   },
   "file_extension": ".py",
   "mimetype": "text/x-python",
   "name": "python",
   "nbconvert_exporter": "python",
   "pygments_lexer": "ipython3",
   "version": "3.6.10"
  },
  "toc": {
   "base_numbering": 1,
   "nav_menu": {},
   "number_sections": true,
   "sideBar": true,
   "skip_h1_title": false,
   "title_cell": "Table of Contents",
   "title_sidebar": "Contents",
   "toc_cell": false,
   "toc_position": {
    "height": "calc(100% - 180px)",
    "left": "10px",
    "top": "150px",
    "width": "269.271px"
   },
   "toc_section_display": true,
   "toc_window_display": true
  }
 },
 "nbformat": 4,
 "nbformat_minor": 2
}
